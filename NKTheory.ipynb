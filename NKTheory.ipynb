{
 "cells": [
  {
   "cell_type": "code",
   "execution_count": 78,
   "metadata": {},
   "outputs": [],
   "source": [
    "import treecorr\n",
    "import GCRCatalogs\n",
    "import numpy as np\n",
    "import pyccl as ccl\n",
    "import matplotlib.pyplot as plt\n",
    "import healpy as hp\n",
    "import camb\n",
    "import camb.correlations\n",
    "import matplotlib.colors as clr\n",
    "%matplotlib inline"
   ]
  },
  {
   "cell_type": "code",
   "execution_count": 91,
   "metadata": {},
   "outputs": [],
   "source": [
    "def nk_correlation(zlo, zhi):\n",
    "    nk = treecorr.NKCorrelation(nbins=20, min_sep=(2.5/60)*(np.pi/180), max_sep=(250./60)*(np.pi/180))\n",
    "    \n",
    "    mask_redshift = (data['redshift']>zlo)*(data['redshift']<zhi) \n",
    "    ra0 = data['ra'][mask_redshift]\n",
    "    dec0 = data['dec'][mask_redshift]\n",
    "    \n",
    "    cat_N = treecorr.Catalog(ra=ra0, dec=dec0, ra_units='deg', dec_units='deg')\n",
    "    \n",
    "    nk.process(cat_N, cat_K_cmb)\n",
    "    xi = nk.xi\n",
    "    R = np.exp(nk.logr)\n",
    "    return xi, R"
   ]
  },
  {
   "cell_type": "code",
   "execution_count": 80,
   "metadata": {},
   "outputs": [],
   "source": [
    "def theory_real_cross(lmax2, z_vals, n_vals, xvals):\n",
    "    ''' Compute the correlation between galaxy shear and CMB lensing in real space '''\n",
    "    ns = 0.963\n",
    "    s8 = .8\n",
    "\n",
    "    Omega_c = .22\n",
    "    Omega_b = .0045\n",
    "    h = 71./100.\n",
    "\n",
    "    cosmo_ccl = ccl.Cosmology(Omega_c=Omega_c, Omega_b=Omega_b, h=h, sigma8 = s8, n_s = ns)#, transfer_function='boltzmann_class', matter_power_spectrum='emu')\n",
    "    cmbl1 = ccl.CMBLensingTracer(cosmo_ccl, 1100) # second number is source redshift\n",
    "    lens1 = ccl.WeakLensingTracer(cosmo_ccl, dndz=(z_vals, n_vals))\n",
    "    ll = np.arange(lmax2)\n",
    "\n",
    "    num = ccl.NumberCountsTracer(cosmo_ccl, has_rsd=False, dndz=(z_vals, n_vals), bias = (z_vals,np.ones(len(z_vals))*1.0))\n",
    "    #cls = ccl.angular_cl(cosmo_ccl, cmbl1, cmbl1, ll)\n",
    "    cls = ccl.angular_cl(cosmo_ccl, lens1, cmbl1, ll) #k\n",
    "    cls_num = ccl.angular_cl(cosmo_ccl,num,cmbl1,ll) #nk\n",
    "    win = hp.pixwin(4096)[:lmax2]\n",
    "    cls = cls*win**2\n",
    "    pp3_2 = np.zeros((lmax2, 4))\n",
    "    pp3_2[:, 0] = cls[:] * (ll * (ll + 1.)) / (2. * np.pi)\n",
    "    cxvals = np.cos(xvals / (60.) / (180. / np.pi))\n",
    "    vals = camb.correlations.cl2corr(pp3_2, cxvals)#from fourier space to real space\n",
    "    #cls_num = cls_num*win**2\n",
    "    pp3_2 = np.zeros((lmax2, 4))\n",
    "    pp3_2[:, 0] = cls_num[:] * (ll * (ll + 1.)) / (2. * np.pi)\n",
    "    cxvals = np.cos(xvals / (60.) / (180. / np.pi))\n",
    "    vals2 = camb.correlations.cl2corr(pp3_2, cxvals)\n",
    "    return xvals, vals[:, 0], vals2[:, 0]"
   ]
  },
  {
   "cell_type": "code",
   "execution_count": 81,
   "metadata": {},
   "outputs": [],
   "source": [
    "def get_healpixel_footprint(ra, dec, nside, nest=False, count_threshold=None):\n",
    "    \"\"\"\n",
    "    Parameters\n",
    "    ----------\n",
    "    ra : ndarray\n",
    "        RA in degrees\n",
    "    dec : ndarray\n",
    "        Dec in degrees\n",
    "    nside : int\n",
    "        number of healpixel nside, must be 2**k\n",
    "    nest : bool, optional\n",
    "        using healpixel nest or ring ordering\n",
    "    count_threshold : None or int (optional)\n",
    "        minimal number of points within a healpixel to count as part of the footprint\n",
    "    Returns\n",
    "    -------\n",
    "    pixels : ndarray\n",
    "        1d array that contains healpixel IDs\n",
    "    \"\"\"\n",
    "    pixels = hp.ang2pix(nside, ra, dec, nest=nest, lonlat=True)\n",
    "    if count_threshold and count_threshold > 1:\n",
    "        pixels, counts = np.unique(pixels, return_counts=True)\n",
    "        return pixels[counts >= count_threshold]\n",
    "    return np.unique(pixels)"
   ]
  },
  {
   "cell_type": "code",
   "execution_count": 82,
   "metadata": {},
   "outputs": [],
   "source": [
    "def generate_uniform_random_ra_dec_footprint(n, footprint=None, nside=None, nest=False):\n",
    "    \"\"\"\n",
    "    Parameters\n",
    "    ----------\n",
    "    n : int\n",
    "        number of random points needed\n",
    "    footprint : 1d array, optional\n",
    "        unique healpixel IDs\n",
    "    nside : int, optional\n",
    "        number of healpixel nside as used in footprint, must be 2**k\n",
    "    nest : bool, optional\n",
    "        using healpixel nest or ring ordering\n",
    "    Returns\n",
    "    -------\n",
    "    ra : ndarray\n",
    "        1d array of length n that contains RA in degrees\n",
    "    dec : ndarray\n",
    "        1d array of length n that contains Dec in degrees\n",
    "    \"\"\"\n",
    "    if footprint is None or hp.nside2npix(nside) == len(footprint):\n",
    "        return generate_uniform_random_ra_dec(n)\n",
    "\n",
    "    n_per_pix_all = np.histogram(np.random.rand(n), np.linspace(0, 1, len(footprint)+1))[0]\n",
    "\n",
    "    ra = np.empty(n)\n",
    "    dec = np.empty_like(ra)\n",
    "    count = 0\n",
    "\n",
    "    for n_per_pix, pix in zip(n_per_pix_all, footprint):\n",
    "        ra_this, dec_this = generate_uniform_random_ra_dec_healpixel(n_per_pix, pix, nside, nest)\n",
    "        s = slice(count, count+n_per_pix)\n",
    "        ra[s] = ra_this\n",
    "        dec[s] = dec_this\n",
    "        count += n_per_pix\n",
    "\n",
    "    assert count == n\n",
    "\n",
    "    return ra, dec\n"
   ]
  },
  {
   "cell_type": "code",
   "execution_count": 83,
   "metadata": {},
   "outputs": [],
   "source": [
    "def random_nk(ra_random, dec_random):\n",
    "    cat_random = treecorr.Catalog(ra=ra_random, dec=dec_random, ra_units='deg', dec_units='deg')\n",
    "    nk = treecorr.NKCorrelation(nbins=20, min_sep=(2.5/60)*(np.pi/180), max_sep=(250./60)*(np.pi/180))\n",
    "    nk.process(cat_random, cat_K_cmb)\n",
    "    background = nk.xi\n",
    "    R_random = np.exp(nk.logr)\n",
    "    return background, R_random"
   ]
  },
  {
   "cell_type": "code",
   "execution_count": 84,
   "metadata": {},
   "outputs": [],
   "source": [
    "filename = '/global/projecta/projectdirs/lsst/groups/CS/cosmoDC2/mass_sheets_behind_z3/cmb_maps/cmblensmap_total_gausshiz_masked.fits'"
   ]
  },
  {
   "cell_type": "code",
   "execution_count": 85,
   "metadata": {},
   "outputs": [
    {
     "name": "stdout",
     "output_type": "stream",
     "text": [
      "NSIDE = 4096\n",
      "ORDERING = RING in fits file\n",
      "INDXSCHM = IMPLICIT\n",
      "201326592\n"
     ]
    }
   ],
   "source": [
    "mapfile = hp.read_map(filename)\n",
    "print(len(mapfile))"
   ]
  },
  {
   "cell_type": "code",
   "execution_count": 86,
   "metadata": {},
   "outputs": [
    {
     "name": "stdout",
     "output_type": "stream",
     "text": [
      "True\n"
     ]
    }
   ],
   "source": [
    "#pick up area in kcmb that has data\n",
    "index = np.arange(201326592)\n",
    "theta, phi = hp.pix2ang(nside=4096, ipix=index)\n",
    "mask_kcmb = (phi>0)*(phi<np.pi/2)*(theta>np.pi/2)\n",
    "print(True in mask_kcmb)"
   ]
  },
  {
   "cell_type": "code",
   "execution_count": 87,
   "metadata": {},
   "outputs": [],
   "source": [
    "kcmb = mapfile[mask_kcmb]\n",
    "ra_K = phi[mask_kcmb]\n",
    "dec_K = np.pi/2-theta[mask_kcmb]"
   ]
  },
  {
   "cell_type": "code",
   "execution_count": 88,
   "metadata": {},
   "outputs": [],
   "source": [
    "cat_K_cmb = treecorr.Catalog(ra=ra_K, dec=dec_K, k=kcmb, ra_units='rad', dec_units='rad')"
   ]
  },
  {
   "cell_type": "code",
   "execution_count": 89,
   "metadata": {},
   "outputs": [],
   "source": [
    "gc = GCRCatalogs.load_catalog('cosmoDC2_v1.1.4_small')"
   ]
  },
  {
   "cell_type": "code",
   "execution_count": 90,
   "metadata": {},
   "outputs": [
    {
     "name": "stdout",
     "output_type": "stream",
     "text": [
      "16501\n"
     ]
    }
   ],
   "source": [
    "data = gc.get_quantities(['ra', 'dec', 'convergence', 'redshift','mag_i_lsst'], filters=['mag_i_lsst<22'])\n",
    "mask = (data['redshift']<1+0.1)*(data['redshift']>1) #choose z=1.0\n",
    "print(len(data['ra'][mask]))"
   ]
  },
  {
   "cell_type": "code",
   "execution_count": 100,
   "metadata": {},
   "outputs": [],
   "source": [
    "#for z in redshift:\n",
    "z=1.0\n",
    "xi, R = nk_correlation(z, z+0.1)\n",
    "R = np.degrees(R)\n",
    "correlation = xi\n",
    "mask = (data['redshift']<z+0.1)*(data['redshift']>z)\n",
    "n_vals, z_vals = np.histogram(data['redshift'][mask], bins=100)\n",
    "z_vals = (z_vals[1:] - z_vals[:-1]) / 2. + z_vals[:-1]\n",
    "theta, kk, nk = theory_real_cross(10000, z_vals, n_vals, R*60.) #prediction"
   ]
  },
  {
   "cell_type": "code",
   "execution_count": 109,
   "metadata": {},
   "outputs": [],
   "source": [
    "nside = 128\n",
    "healpix_id = get_healpixel_footprint(data['ra'][mask], data['dec'][mask], nside) #calculate NK with random galaxy distribution \n",
    "ra_random, dec_random = generate_uniform_random_ra_dec_footprint(16000, footprint=healpix_id, nside=nside, nest=False)"
   ]
  },
  {
   "cell_type": "code",
   "execution_count": 110,
   "metadata": {},
   "outputs": [],
   "source": [
    "NK_random, R_random = random_nk(ra_random, dec_random)"
   ]
  },
  {
   "cell_type": "code",
   "execution_count": 111,
   "metadata": {},
   "outputs": [
    {
     "data": {
      "image/png": "[encoded data removed]",
      "text/plain": [
       "<Figure size 432x288 with 1 Axes>"
      ]
     },
     "metadata": {
      "needs_background": "light"
     },
     "output_type": "display_data"
    }
   ],
   "source": [
    "fixed = correlation-NK_random\n",
    "plt.semilogx(R*60, fixed, label='Removed Random')\n",
    "plt.semilogx(R*60, nk, label='Prediction')\n",
    "plt.title('NK for 1<z<1.1')\n",
    "plt.xlabel('Ang. Sep. [arcmin]')\n",
    "plt.ylabel('Correlation')\n",
    "plt.legend()\n",
    "plt.show()"
   ]
  },
  {
   "cell_type": "code",
   "execution_count": null,
   "metadata": {},
   "outputs": [],
   "source": []
  }
 ],
 "metadata": {
  "kernelspec": {
   "display_name": "desc-python",
   "language": "python",
   "name": "desc-python"
  },
  "language_info": {
   "codemirror_mode": {
    "name": "ipython",
    "version": 3
   },
   "file_extension": ".py",
   "mimetype": "text/x-python",
   "name": "python",
   "nbconvert_exporter": "python",
   "pygments_lexer": "ipython3",
   "version": "3.7.2"
  }
 },
 "nbformat": 4,
 "nbformat_minor": 4
}
