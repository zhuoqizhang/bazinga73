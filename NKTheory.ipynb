{
 "cells": [
  {
   "cell_type": "code",
   "execution_count": 2,
   "metadata": {},
   "outputs": [],
   "source": [
    "import treecorr\n",
    "import GCRCatalogs\n",
    "import numpy as np\n",
    "import pyccl as ccl\n",
    "import matplotlib.pyplot as plt\n",
    "import healpy as hp\n",
    "import camb\n",
    "import camb.correlations\n",
    "import matplotlib.colors as clr\n",
    "%matplotlib inline"
   ]
  },
  {
   "cell_type": "code",
   "execution_count": 3,
   "metadata": {},
   "outputs": [],
   "source": [
    "def nk_correlation(zlo, zhi):\n",
    "    nk = treecorr.NKCorrelation(nbins=20, min_sep=(2.5/60)*(np.pi/180), max_sep=(100./60)*(np.pi/180))\n",
    "    \n",
    "    mask_redshift = (data['redshift']>zlo)*(data['redshift']<zhi) \n",
    "    ra0 = data['ra'][mask_redshift]\n",
    "    dec0 = data['dec'][mask_redshift]\n",
    "    \n",
    "    #restrict galaxies to the same octant where we have Kcmb data (in degrees)\n",
    "    mask_N = (ra0>0)*(ra0<90)*(dec0<0)\n",
    "    ra_N = ra0[mask_N]\n",
    "    dec_N = dec0[mask_N]\n",
    "    \n",
    "    cat_N = treecorr.Catalog(ra=ra0, dec=dec0, ra_units='deg', dec_units='deg')\n",
    "    \n",
    "    nk.process(cat_N, cat_K_cmb)\n",
    "    xi = nk.xi\n",
    "    R = np.exp(nk.logr)\n",
    "    return xi, R"
   ]
  },
  {
   "cell_type": "code",
   "execution_count": 4,
   "metadata": {},
   "outputs": [],
   "source": [
    "def theory_real_cross(lmax2, z_vals, n_vals, xvals):\n",
    "    ''' Compute the correlation between galaxy shear and CMB lensing in real space '''\n",
    "    ns = 0.963\n",
    "    s8 = .8\n",
    "\n",
    "    Omega_c = .22\n",
    "    Omega_b = .0045\n",
    "    h = 71./100.\n",
    "\n",
    "    cosmo_ccl = ccl.Cosmology(Omega_c=Omega_c, Omega_b=Omega_b, h=h, sigma8 = s8, n_s = ns)#, transfer_function='boltzmann_class', matter_power_spectrum='emu')\n",
    "    cmbl1 = ccl.CMBLensingTracer(cosmo_ccl, 1100) # second number is source redshift\n",
    "    lens1 = ccl.WeakLensingTracer(cosmo_ccl, dndz=(z_vals, n_vals))\n",
    "    ll = np.arange(lmax2)\n",
    "\n",
    "    num = ccl.NumberCountsTracer(cosmo_ccl, has_rsd=False, dndz=(z_vals, n_vals), bias = (z_vals,np.ones(len(z_vals))*1.0))\n",
    "    #cls = ccl.angular_cl(cosmo_ccl, cmbl1, cmbl1, ll)\n",
    "    cls = ccl.angular_cl(cosmo_ccl, lens1, cmbl1, ll) #k\n",
    "    cls_num = ccl.angular_cl(cosmo_ccl,num,cmbl1,ll) #nk\n",
    "    win = hp.pixwin(4096)[:lmax2]\n",
    "    cls = cls*win**2\n",
    "    pp3_2 = np.zeros((lmax2, 4))\n",
    "    pp3_2[:, 0] = cls[:] * (ll * (ll + 1.)) / (2. * np.pi)\n",
    "    cxvals = np.cos(xvals / (60.) / (180. / np.pi))\n",
    "    vals = camb.correlations.cl2corr(pp3_2, cxvals)#from fourier space to real space\n",
    "    #cls_num = cls_num*win**2\n",
    "    pp3_2 = np.zeros((lmax2, 4))\n",
    "    pp3_2[:, 0] = cls_num[:] * (ll * (ll + 1.)) / (2. * np.pi)\n",
    "    cxvals = np.cos(xvals / (60.) / (180. / np.pi))\n",
    "    vals2 = camb.correlations.cl2corr(pp3_2, cxvals)\n",
    "    return xvals, vals[:, 0], vals2[:, 0]"
   ]
  },
  {
   "cell_type": "code",
   "execution_count": 5,
   "metadata": {},
   "outputs": [],
   "source": [
    "def generate_uniform_random_ra_dec_min_max(n, ra_min, ra_max, dec_min, dec_max):\n",
    "    \"\"\"\n",
    "    Parameters\n",
    "    ----------\n",
    "    n : int\n",
    "        number of random points needed\n",
    "    ra_min, ra_max, dec_min, dec_max: float\n",
    "        min and max of ra and dec\n",
    "    Returns\n",
    "    -------\n",
    "    ra : ndarray\n",
    "        1d array of length n that contains RA in degrees\n",
    "    dec : ndarray\n",
    "        1d array of length n that contains Dec in degrees\n",
    "    \"\"\"\n",
    "    ra = np.random.uniform(ra_min, ra_max, size=n)\n",
    "    dec = np.random.uniform(np.sin(np.deg2rad(dec_min)), np.sin(np.deg2rad(dec_max)), size=n)\n",
    "    dec = np.arcsin(dec, out=dec)\n",
    "    dec = np.rad2deg(dec, out=dec)\n",
    "    return ra, dec\n",
    "\n",
    "def generate_uniform_random_ra_dec(n):\n",
    "    \"\"\"\n",
    "    Parameters\n",
    "    ----------\n",
    "    n : int\n",
    "        number of random points needed\n",
    "    Returns\n",
    "    -------\n",
    "    ra : ndarray\n",
    "        1d array of length n that contains RA in degrees\n",
    "    dec : ndarray\n",
    "        1d array of length n that contains Dec in degrees\n",
    "    \"\"\"\n",
    "    return generate_uniform_random_ra_dec_min_max(n, 47.5, 75, -25.0, -45.0)"
   ]
  },
  {
   "cell_type": "code",
   "execution_count": 6,
   "metadata": {},
   "outputs": [],
   "source": [
    "def random_nk(n):\n",
    "    ra_random, dec_random = generate_uniform_random_ra_dec(int(n))\n",
    "    cat_random = treecorr.Catalog(ra=ra_random, dec=dec_random, ra_units='deg', dec_units='deg')\n",
    "    nk = treecorr.NKCorrelation(nbins=20, min_sep=(2.5/60)*(np.pi/180), max_sep=(100./60)*(np.pi/180))\n",
    "    nk.process(cat_random, cat_K_cmb)\n",
    "    background = nk.xi\n",
    "    R_random = np.exp(nk.logr)\n",
    "    return background, R_random"
   ]
  },
  {
   "cell_type": "code",
   "execution_count": 7,
   "metadata": {},
   "outputs": [],
   "source": [
    "filename = '/global/projecta/projectdirs/lsst/groups/CS/cosmoDC2/mass_sheets_behind_z3/cmb_maps/cmblensmap_total_gausshiz_masked.fits'"
   ]
  },
  {
   "cell_type": "code",
   "execution_count": 8,
   "metadata": {},
   "outputs": [
    {
     "name": "stdout",
     "output_type": "stream",
     "text": [
      "NSIDE = 4096\n",
      "ORDERING = RING in fits file\n",
      "INDXSCHM = IMPLICIT\n",
      "201326592\n"
     ]
    }
   ],
   "source": [
    "mapfile = hp.read_map(filename)\n",
    "print(len(mapfile))"
   ]
  },
  {
   "cell_type": "code",
   "execution_count": 9,
   "metadata": {},
   "outputs": [],
   "source": [
    "index = np.arange(201326592)"
   ]
  },
  {
   "cell_type": "code",
   "execution_count": 10,
   "metadata": {},
   "outputs": [
    {
     "name": "stdout",
     "output_type": "stream",
     "text": [
      "True\n"
     ]
    }
   ],
   "source": [
    "theta, phi = hp.pix2ang(nside=4096, ipix=index)\n",
    "mask_kcmb = (phi>0)*(phi<np.pi/2)*(theta>np.pi/2)\n",
    "print(True in mask_kcmb)"
   ]
  },
  {
   "cell_type": "code",
   "execution_count": 11,
   "metadata": {},
   "outputs": [],
   "source": [
    "kcmb = mapfile[mask_kcmb]\n",
    "ra_K = phi[mask_kcmb]\n",
    "dec_K = np.pi/2-theta[mask_kcmb]"
   ]
  },
  {
   "cell_type": "code",
   "execution_count": 12,
   "metadata": {},
   "outputs": [],
   "source": [
    "cat_K_cmb = treecorr.Catalog(ra=ra_K, dec=dec_K, k=kcmb, ra_units='rad', dec_units='rad')"
   ]
  },
  {
   "cell_type": "code",
   "execution_count": 13,
   "metadata": {},
   "outputs": [],
   "source": [
    "gc = GCRCatalogs.load_catalog('cosmoDC2_v1.1.4_small')"
   ]
  },
  {
   "cell_type": "code",
   "execution_count": 15,
   "metadata": {},
   "outputs": [
    {
     "name": "stdout",
     "output_type": "stream",
     "text": [
      "16501\n"
     ]
    }
   ],
   "source": [
    "data = gc.get_quantities(['ra', 'dec', 'convergence', 'redshift'], filters=['mag_i_lsst<22'])\n",
    "mask = (data['redshift']<1+0.1)*(data['redshift']>1)\n",
    "print(len(data['ra'][mask]))"
   ]
  },
  {
   "cell_type": "code",
   "execution_count": 16,
   "metadata": {},
   "outputs": [
    {
     "name": "stdout",
     "output_type": "stream",
     "text": [
      "[0.5 1.  1.5 2.  2.5 3. ]\n"
     ]
    }
   ],
   "source": [
    "redshift = np.linspace(0.5, 3, 6)\n",
    "print(redshift)"
   ]
  },
  {
   "cell_type": "code",
   "execution_count": 17,
   "metadata": {},
   "outputs": [
    {
     "data": {
      "text/plain": [
       "\"\\nplt.semilogx(R*60, xi, label='NK for '+str(round(z,1))+'<z<'+str(round(z+0.1,1)))\\nplt.semilogx(R*60, nk, label='prediction')\\nplt.legend()\\nplt.xlabel('Angular Separation [arcmin]')\\nplt.ylabel('NKcmb Correlation')\\nplt.title('NKcmb Shear Correlation')\\n#plt.savefig('NKcmb_Correlation.png', dpi=200)\\nplt.show()\\n\""
      ]
     },
     "execution_count": 17,
     "metadata": {},
     "output_type": "execute_result"
    }
   ],
   "source": [
    "correlation = []\n",
    "predictionkk = []\n",
    "predictionnk = []\n",
    "angsep = []\n",
    "#for z in redshift:\n",
    "z=1.0\n",
    "xi, R = nk_correlation(z, z+0.1)\n",
    "R = np.degrees(R)\n",
    "correlation.append(xi)\n",
    "mask = (data['redshift']<z+0.1)*(data['redshift']>z)\n",
    "n_vals, z_vals = np.histogram(data['redshift'][mask], bins=100)\n",
    "z_vals = (z_vals[1:] - z_vals[:-1]) / 2. + z_vals[:-1]\n",
    "theta, kk, nk = theory_real_cross(10000, z_vals, n_vals, R*60.)\n",
    "predictionkk.append(kk)\n",
    "predictionnk.append(nk)\n",
    "angsep.append(R)\n",
    "'''\n",
    "plt.semilogx(R*60, xi, label='NK for '+str(round(z,1))+'<z<'+str(round(z+0.1,1)))\n",
    "plt.semilogx(R*60, nk, label='prediction')\n",
    "plt.legend()\n",
    "plt.xlabel('Angular Separation [arcmin]')\n",
    "plt.ylabel('NKcmb Correlation')\n",
    "plt.title('NKcmb Shear Correlation')\n",
    "#plt.savefig('NKcmb_Correlation.png', dpi=200)\n",
    "plt.show()\n",
    "'''"
   ]
  },
  {
   "cell_type": "code",
   "execution_count": 18,
   "metadata": {},
   "outputs": [
    {
     "data": {
      "image/png": "[encoded data removed]",
      "text/plain": [
       "<Figure size 432x288 with 1 Axes>"
      ]
     },
     "metadata": {
      "needs_background": "light"
     },
     "output_type": "display_data"
    }
   ],
   "source": [
    "background, R_random = random_nk(1e+6) #calculate NK with random galaxy distribution \n",
    "plt.semilogx(np.degrees(R_random)*60, background)\n",
    "plt.title(\"random NK\")\n",
    "plt.ylabel(\"Correlation\")\n",
    "plt.xlabel(\"Ang. Sep. [arcmin]\")\n",
    "plt.savefig(\"random_NK.png\", dpi=200)\n",
    "plt.show()"
   ]
  },
  {
   "cell_type": "code",
   "execution_count": null,
   "metadata": {},
   "outputs": [],
   "source": [
    "fixed = correlation[0]-background\n",
    "plt.semilogx(R*60, fixed, label='Removed Random')\n",
    "plt.semilogx(R*60, predictionnk[i], label='Prediction')\n",
    "plt.title('NK for '+str(round(redshift[i],1))+'<z<'+str(round(redshift[i]+0.1,1)))\n",
    "plt.xlabel('Ang. Sep. [arcmin]')\n",
    "plt.ylabel('Correlation')\n",
    "plt.legend()\n",
    "plt.show()"
   ]
  },
  {
   "cell_type": "code",
   "execution_count": 21,
   "metadata": {},
   "outputs": [
    {
     "data": {
      "image/png": "[encoded data removed]",
      "text/plain": [
       "<Figure size 432x288 with 1 Axes>"
      ]
     },
     "metadata": {
      "needs_background": "light"
     },
     "output_type": "display_data"
    }
   ],
   "source": [
    "for i in range(0, len(correlation)):\n",
    "    plt.semilogx(angsep[0]*60, correlation[i], label='NK for '+str(round(redshift[i],1))+'<z<'+str(round(redshift[i]+0.1,1)))\n",
    "    plt.legend()\n",
    "    plt.xlabel('Angular Separation [arcmin]')\n",
    "    plt.ylabel('NKcmb Correlation')\n",
    "    plt.title('NKcmb Correlation')\n",
    "plt.show()"
   ]
  },
  {
   "cell_type": "code",
   "execution_count": 24,
   "metadata": {},
   "outputs": [
    {
     "name": "stdout",
     "output_type": "stream",
     "text": [
      "25176928\n",
      "43885234\n",
      "25183847\n",
      "12543197\n",
      "6742712\n",
      "1531262\n"
     ]
    }
   ],
   "source": [
    "for z in redshift:\n",
    "    mask = (data['redshift']<z+0.1)*(data['redshift']>z)\n",
    "    print(len(data['redshift'][mask]))"
   ]
  },
  {
   "cell_type": "code",
   "execution_count": null,
   "metadata": {},
   "outputs": [],
   "source": []
  }
 ],
 "metadata": {
  "kernelspec": {
   "display_name": "desc-python",
   "language": "python",
   "name": "desc-python"
  },
  "language_info": {
   "codemirror_mode": {
    "name": "ipython",
    "version": 3
   },
   "file_extension": ".py",
   "mimetype": "text/x-python",
   "name": "python",
   "nbconvert_exporter": "python",
   "pygments_lexer": "ipython3",
   "version": "3.7.2"
  }
 },
 "nbformat": 4,
 "nbformat_minor": 4
}
