{
 "cells": [
  {
   "cell_type": "code",
   "execution_count": 1,
   "metadata": {},
   "outputs": [
    {
     "name": "stdout",
     "output_type": "stream",
     "text": [
      "CCL version you are using: 2.0.1\n",
      "/global/common/software/lsst/common/miniconda/py3.7-4.7.12.1/envs/desc/lib/python3.7/site-packages/pyccl/__init__.py\n"
     ]
    }
   ],
   "source": [
    "import numpy as np\n",
    "import pylab as plt\n",
    "import pyccl as ccl\n",
    "import scipy\n",
    "from scipy.interpolate import interp1d\n",
    "\n",
    "import matplotlib\n",
    "\n",
    "%matplotlib inline\n",
    "\n",
    "print(\"CCL version you are using:\",ccl.__version__)\n",
    "print(ccl.__file__)\n",
    "ccl_dir = '/global/homes/z/zhzhuoqi/CCL/'"
   ]
  },
  {
   "cell_type": "code",
   "execution_count": 83,
   "metadata": {},
   "outputs": [],
   "source": [
    "import sys\n",
    "#sys.path.insert(0, '/global/homes/z/zhzhuoqi/.local/cori/3.7-anaconda-2019.10/lib/python3.7/site-packages/TreeCorr-4.1-py3.7-linux-x86_64.egg')\n",
    "sys.path.insert(0, '/global/homes/z/zhzhuoqi/.local/lib/python2.7/site-packages/TreeCorr-4.1-py2.7-linux-x86_64.egg')"
   ]
  },
  {
   "cell_type": "code",
   "execution_count": 84,
   "metadata": {},
   "outputs": [
    {
     "data": {
      "text/plain": [
       "'4.1'"
      ]
     },
     "execution_count": 84,
     "metadata": {},
     "output_type": "execute_result"
    }
   ],
   "source": [
    "import treecorr\n",
    "treecorr.__version__"
   ]
  },
  {
   "cell_type": "code",
   "execution_count": 86,
   "metadata": {},
   "outputs": [],
   "source": [
    "import GCRCatalogs\n",
    "import numpy as np\n",
    "import pyccl as ccl\n",
    "import matplotlib.pyplot as plt\n",
    "import healpy as hp\n",
    "import camb\n",
    "import camb.correlations\n",
    "import matplotlib.colors as clr\n",
    "import matplotlib.pyplot as plt\n",
    "from matplotlib.pyplot import imshow, show, colorbar"
   ]
  },
  {
   "cell_type": "markdown",
   "metadata": {},
   "source": [
    "This is the part for Treecorr measurement"
   ]
  },
  {
   "cell_type": "code",
   "execution_count": 98,
   "metadata": {},
   "outputs": [],
   "source": [
    "def get_healpixel_footprint(ra, dec, nside, nest=False, count_threshold=None):\n",
    "    pixels = hp.ang2pix(nside, ra, dec, nest=nest, lonlat=True)\n",
    "    if count_threshold and count_threshold > 1:\n",
    "        pixels, counts = np.unique(pixels, return_counts=True)\n",
    "        return pixels[counts >= count_threshold]\n",
    "    return np.unique(pixels)\n",
    "def generate_uniform_random_ra_dec_healpixel(n, pix, nside, nest=False):\n",
    "\n",
    "    ra, dec = hp.vec2ang(hp.boundaries(nside, pix, 1, nest=nest).T, lonlat=True)\n",
    "    ra_dec_min_max = ra.min(), ra.max(), dec.min(), dec.max()\n",
    "\n",
    "    ra = np.empty(n)\n",
    "    dec = np.empty_like(ra)\n",
    "    n_needed = n\n",
    "\n",
    "    while n_needed > 0:\n",
    "        ra_this, dec_this = generate_uniform_random_ra_dec_min_max(n_needed*2, *ra_dec_min_max)\n",
    "        mask = np.where(hp.ang2pix(nside, ra_this, dec_this, nest=nest, lonlat=True) == pix)[0]\n",
    "        count_this = mask.size\n",
    "        if n_needed - count_this < 0:\n",
    "            count_this = n_needed\n",
    "            mask = mask[:n_needed]\n",
    "\n",
    "        s = slice(-n_needed, -n_needed+count_this if -n_needed+count_this < 0 else None)\n",
    "        ra[s] = ra_this[mask]\n",
    "        dec[s] = dec_this[mask]\n",
    "        n_needed -= count_this\n",
    "\n",
    "    return ra, dec\n",
    "\n",
    "def generate_uniform_random_ra_dec_min_max(n, ra_min, ra_max, dec_min, dec_max):\n",
    "\n",
    "    ra = np.random.uniform(ra_min, ra_max, size=n)\n",
    "    dec = np.random.uniform(np.sin(np.deg2rad(dec_min)), np.sin(np.deg2rad(dec_max)), size=n)\n",
    "    dec = np.arcsin(dec, out=dec)\n",
    "    dec = np.rad2deg(dec, out=dec)\n",
    "    return ra, dec\n",
    "\n",
    "def generate_uniform_random_ra_dec_footprint(n, footprint=None, nside=None, nest=False):\n",
    "\n",
    "    if footprint is None or hp.nside2npix(nside) == len(footprint):\n",
    "        return generate_uniform_random_ra_dec(n)\n",
    "\n",
    "    n_per_pix_all = np.histogram(np.random.rand(n), np.linspace(0, 1, len(footprint)+1))[0]\n",
    "\n",
    "    ra = np.empty(n)\n",
    "    dec = np.empty_like(ra)\n",
    "    count = 0\n",
    "\n",
    "    for n_per_pix, pix in zip(n_per_pix_all, footprint):\n",
    "        ra_this, dec_this = generate_uniform_random_ra_dec_healpixel(n_per_pix, pix, nside, nest)\n",
    "        s = slice(count, count+n_per_pix)\n",
    "        ra[s] = ra_this\n",
    "        dec[s] = dec_this\n",
    "        count += n_per_pix\n",
    "\n",
    "    assert count == n\n",
    "\n",
    "    return ra, dec"
   ]
  },
  {
   "cell_type": "code",
   "execution_count": 89,
   "metadata": {},
   "outputs": [],
   "source": [
    "filename = '/global/projecta/projectdirs/lsst/groups/CS/cosmoDC2/mass_sheets_behind_z3/cmb_maps/cmblensmap_total_gausshiz_masked.fits'"
   ]
  },
  {
   "cell_type": "code",
   "execution_count": 90,
   "metadata": {},
   "outputs": [
    {
     "name": "stderr",
     "output_type": "stream",
     "text": [
      "/global/common/software/lsst/common/miniconda/py3.7-4.7.12.1/envs/desc/lib/python3.7/site-packages/healpy/fitsfunc.py:352: UserWarning: If you are not specifying the input dtype and using the default np.float64 dtype of read_map(), please consider that it will change in a future version to None as to keep the same dtype of the input file: please explicitly set the dtype if it is important to you.\n",
      "  \"If you are not specifying the input dtype and using the default \"\n"
     ]
    },
    {
     "name": "stdout",
     "output_type": "stream",
     "text": [
      "NSIDE = 4096\n",
      "ORDERING = RING in fits file\n",
      "INDXSCHM = IMPLICIT\n",
      "201326592\n"
     ]
    }
   ],
   "source": [
    "mapfile = hp.read_map(filename)\n",
    "print(len(mapfile))"
   ]
  },
  {
   "cell_type": "code",
   "execution_count": 91,
   "metadata": {},
   "outputs": [],
   "source": [
    "index = np.arange(201326592)\n",
    "theta, phi = hp.pix2ang(nside=4096, ipix=index)"
   ]
  },
  {
   "cell_type": "code",
   "execution_count": 92,
   "metadata": {},
   "outputs": [],
   "source": [
    "gc = GCRCatalogs.load_catalog('cosmoDC2')"
   ]
  },
  {
   "cell_type": "code",
   "execution_count": 94,
   "metadata": {},
   "outputs": [],
   "source": [
    "data = gc.get_quantities(['ra', 'dec', 'shear_1', 'shear_2', 'redshift', 'mag_i_lsst'], filters=['mag_i_lsst<22'])"
   ]
  },
  {
   "cell_type": "code",
   "execution_count": 532,
   "metadata": {},
   "outputs": [],
   "source": [
    "redshift_mask = (data['redshift']<0.62)*(data['redshift']>0.43)"
   ]
  },
  {
   "cell_type": "code",
   "execution_count": 533,
   "metadata": {},
   "outputs": [
    {
     "name": "stdout",
     "output_type": "stream",
     "text": [
      "[2227504 2227519 2227520 ... 2714575 2714591 2714592]\n"
     ]
    }
   ],
   "source": [
    "#cut out the CosmoDC2 region from KCMB\n",
    "nside = 512\n",
    "healpix_id = get_healpixel_footprint(data['ra'][redshift_mask], data['dec'][redshift_mask], nside) \n",
    "print(healpix_id)\n",
    "npix = hp.nside2npix(nside)\n",
    "m = np.zeros(npix)\n",
    "m[healpix_id]=1\n",
    "new = hp.ud_grade(m, 4096)\n",
    "cmb_mask = new>0\n",
    "ra_K = np.degrees(phi[cmb_mask])\n",
    "dec_K = np.degrees(np.pi/2-theta[cmb_mask])\n",
    "kcmb = mapfile[cmb_mask]"
   ]
  },
  {
   "cell_type": "code",
   "execution_count": 534,
   "metadata": {},
   "outputs": [],
   "source": [
    "cat_N = treecorr.Catalog(ra=data['ra'][redshift_mask], dec=data['dec'][redshift_mask], ra_units='deg', dec_units='deg', npatch=40)\n",
    "Npatch = cat_N.patch\n",
    "Npatch_center = cat_N.get_patch_centers()"
   ]
  },
  {
   "cell_type": "code",
   "execution_count": 535,
   "metadata": {},
   "outputs": [],
   "source": [
    "cat_K = treecorr.Catalog(ra=ra_K, dec=dec_K, k=kcmb, ra_units='deg', dec_units='deg', patch_centers=Npatch_center)\n",
    "Kpatch=cat_K.patch"
   ]
  },
  {
   "cell_type": "code",
   "execution_count": 536,
   "metadata": {},
   "outputs": [],
   "source": [
    "#generate random ra and dec\n",
    "n = 10*len(data['ra'][redshift_mask])\n",
    "nside = 512\n",
    "ra_random, dec_random = generate_uniform_random_ra_dec_footprint(n, footprint=healpix_id, nside=nside, nest=False)"
   ]
  },
  {
   "cell_type": "code",
   "execution_count": 537,
   "metadata": {},
   "outputs": [],
   "source": [
    "cat_N_random = treecorr.Catalog(ra=ra_random, dec=dec_random, ra_units='deg', dec_units='deg', patch_centers=Npatch_center)\n",
    "Rpatch=cat_N_random.patch"
   ]
  },
  {
   "cell_type": "code",
   "execution_count": 538,
   "metadata": {},
   "outputs": [],
   "source": [
    "nk_rand = treecorr.NKCorrelation(nbins=20, min_sep=(2.5/60)*(np.pi/180), max_sep=(250./60)*(np.pi/180), var_method='jackknife')"
   ]
  },
  {
   "cell_type": "code",
   "execution_count": 539,
   "metadata": {},
   "outputs": [],
   "source": [
    "nk_rand.process(cat_N_random, cat_K)"
   ]
  },
  {
   "cell_type": "code",
   "execution_count": 540,
   "metadata": {},
   "outputs": [],
   "source": [
    "nk_jk = treecorr.NKCorrelation(nbins=20, min_sep=(2.5/60)*(np.pi/180), max_sep=(250./60)*(np.pi/180), var_method='jackknife')"
   ]
  },
  {
   "cell_type": "code",
   "execution_count": 541,
   "metadata": {},
   "outputs": [],
   "source": [
    "nk_jk.process(cat_N, cat_K)\n",
    "nk_jk.calculateXi(rk=nk_rand)\n",
    "xi_nk = nk_jk.xi\n",
    "R_nk = np.exp(nk_jk.logr)\n",
    "varxi_nk = nk_jk.varxi"
   ]
  },
  {
   "cell_type": "code",
   "execution_count": 542,
   "metadata": {},
   "outputs": [],
   "source": [
    "cat_G = treecorr.Catalog(ra=data['ra'][redshift_mask], dec=data['dec'][redshift_mask],g1=data['shear_1'][redshift_mask], g2=data['shear_2'][redshift_mask], ra_units='deg', dec_units='deg', patch_centers=Npatch_center)"
   ]
  },
  {
   "cell_type": "code",
   "execution_count": 543,
   "metadata": {},
   "outputs": [],
   "source": [
    "kg = treecorr.KGCorrelation(nbins=20, min_sep=(2.5/60)*(np.pi/180), max_sep=(250./60)*(np.pi/180), var_method='jackknife')"
   ]
  },
  {
   "cell_type": "code",
   "execution_count": 544,
   "metadata": {},
   "outputs": [],
   "source": [
    "kg.process(cat_K, cat_G)\n",
    "xi_kg = kg.xi\n",
    "var_kg = kg.varxi\n",
    "R_kg = np.exp(kg.logr)"
   ]
  },
  {
   "cell_type": "markdown",
   "metadata": {},
   "source": [
    "This is the ccl part"
   ]
  },
  {
   "cell_type": "code",
   "execution_count": 545,
   "metadata": {},
   "outputs": [],
   "source": [
    "# Setting Omega_g = 0 turns off radiation and puts the rest in Omega_l\n",
    "# This matches the cosmologies in the paper.\n",
    "\n",
    "cosmo_ccl1 = ccl.Cosmology(\n",
    "    Omega_c=0.25, Omega_b=0.05, h=0.7, A_s=2.1e-9, n_s=0.96, Neff=0, Omega_g=0)\n",
    "\n",
    "cosmo_ccl2 = ccl.Cosmology(\n",
    "    Omega_c=0.25, Omega_b=0.05, h=0.7, A_s=2.1e-9, n_s=0.96, w0=-0.9, Neff=0, Omega_g=0)\n",
    "\n",
    "cosmo_ccl3 = ccl.Cosmology(\n",
    "    Omega_c=0.25, Omega_b=0.05, h=0.7, A_s = 2.1e-9, n_s=0.96, w0=-0.9, wa=0.1, Neff=0, Omega_g=0)\n",
    "\n",
    "cosmo_ccl4 = ccl.Cosmology(\n",
    "    Omega_c=0.25, Omega_b=0.05, Omega_k=0.05, h=0.7, A_s = 2.1e-9, n_s=0.96, \n",
    "    w0=-0.9, wa=0.1, Neff=0, Omega_g=0)\n",
    "\n",
    "cosmo_ccl5 = ccl.Cosmology(\n",
    "    Omega_c=0.25, Omega_b=0.05, Omega_k=-0.05, h=0.7, A_s = 2.1e-9, n_s=0.96, \n",
    "    w0=-0.9, wa=0.1, Neff=0, Omega_g=0)\n",
    "\n",
    "cosmo_ccl6 = ccl.Cosmology(\n",
    "    Omega_c=0.3, Omega_b=0.0, h=0.7, sigma8 = 0.8, n_s=0.96, Neff=0,\n",
    "    transfer_function='bbks', matter_power_spectrum='linear', Omega_g=0)\n",
    "\n",
    "cosmo_ccl7 = ccl.Cosmology(\n",
    "    Omega_c=0.3, Omega_b=0.0, h=0.7, sigma8 = 0.8, n_s=0.96, Neff=0,\n",
    "    transfer_function='bbks', matter_power_spectrum='linear')\n",
    "\n",
    "cosmo_list = [\n",
    "    cosmo_ccl1,\n",
    "    cosmo_ccl2,\n",
    "    cosmo_ccl3,\n",
    "    cosmo_ccl4,\n",
    "    cosmo_ccl5,\n",
    "    cosmo_ccl6,\n",
    "    cosmo_ccl7]\n",
    "\n",
    "num_models = 5\n",
    "num_models_hiz = 3"
   ]
  },
  {
   "cell_type": "code",
   "execution_count": 557,
   "metadata": {},
   "outputs": [],
   "source": [
    "accuracy = 1e-3\n",
    "\n",
    "#load redshift distribution\n",
    "zhist = np.histogram(data['redshift'][redshift_mask],bins = 512)\n",
    "data_array = zhist[1]\n",
    "z = [sum(data_array[i:i + 2])/2 for i in range(len(data_array) - 2 + 1)]\n",
    "z_h = zhist[0]\n",
    "\n",
    "#z,z_h=np.loadtxt(ccl_dir+\"/benchmarks/data/bin1_histo.txt\",unpack=True)[:,1:]"
   ]
  },
  {
   "cell_type": "code",
   "execution_count": 558,
   "metadata": {},
   "outputs": [
    {
     "data": {
      "image/png": "[encoded data removed]",
      "text/plain": [
       "<Figure size 432x288 with 1 Axes>"
      ]
     },
     "metadata": {
      "needs_background": "light"
     },
     "output_type": "display_data"
    }
   ],
   "source": [
    "plt.plot(z, z_h)\n",
    "plt.show()\n",
    "\n",
    "#Bias parameters for these distributions\n",
    "bz=np.ones_like(z_h)"
   ]
  },
  {
   "cell_type": "code",
   "execution_count": 559,
   "metadata": {},
   "outputs": [],
   "source": [
    "#Initialize tracers\n",
    "cosmo_cls=ccl.Cosmology(Omega_c=0.30, Omega_b=0.00, Omega_g=0, Omega_k=0,\n",
    "                          h=0.7, sigma8=0.8, n_s=0.96, Neff=0, m_nu=0.0,\n",
    "                          w0=-1, wa=0, T_CMB=2.7, transfer_function='bbks',\n",
    "                          mass_function='tinker',\n",
    "                          matter_power_spectrum='linear')\n",
    "cosmo_cls.cosmo.gsl_params.INTEGRATION_LIMBER_EPSREL = 1E-4\n",
    "cosmo_cls.cosmo.gsl_params.INTEGRATION_EPSREL = 1E-4\n",
    "cosmo_cls_cmbl=cosmo_list[-1]"
   ]
  },
  {
   "cell_type": "code",
   "execution_count": 560,
   "metadata": {},
   "outputs": [],
   "source": [
    "ells=np.loadtxt(ccl_dir+\"examples/larr_cls.txt\").astype(int)\n",
    "ells3k=np.linspace(0,3000,3001).astype(int)\n",
    "#Limber prefactors\n",
    "lf_dl=(ells+0.5)**2/np.sqrt((ells+2.)*(ells+1.)*ells*(ells-1.))\n",
    "lf_dc=(ells+0.5)**2/(ells*(ells+1.))\n",
    "lf_ll=ells*(ells+1.)/np.sqrt((ells+2.)*(ells+1.)*ells*(ells-1.))"
   ]
  },
  {
   "cell_type": "code",
   "execution_count": 561,
   "metadata": {},
   "outputs": [],
   "source": [
    "trcrs={}\n",
    "\n",
    "trcrs['nc']=ccl.NumberCountsTracer(cosmo_cls,has_rsd=False,dndz=(z,z_h),bias=(z,bz))\n",
    "\n",
    "trcrs['wl']=ccl.WeakLensingTracer(cosmo_cls,dndz=(z,z_h))\n",
    "\n",
    "\n",
    "trcrs['cmbl']=ccl.CMBLensingTracer(cosmo_cls,1100.)\n",
    "trcrs['cmblb']=ccl.CMBLensingTracer(cosmo_cls_cmbl,1100.)"
   ]
  },
  {
   "cell_type": "code",
   "execution_count": 551,
   "metadata": {},
   "outputs": [],
   "source": [
    "#CCL Power spectra\n",
    "cl_ccl={}\n",
    "cl_ccl['nc/cmbl']=ccl.angular_cl(cosmo_cls,\n",
    "                                   trcrs['nc'],trcrs['cmbl'],ells)*lf_dc\n",
    "cl_ccl['wl/cmbl']=ccl.angular_cl(cosmo_cls,\n",
    "                                   trcrs['wl'],trcrs['cmbl'],ells)*lf_ll"
   ]
  },
  {
   "cell_type": "code",
   "execution_count": 552,
   "metadata": {},
   "outputs": [],
   "source": [
    "theta_deg = np.logspace(-1, 2.5, num=50)/60"
   ]
  },
  {
   "cell_type": "code",
   "execution_count": 553,
   "metadata": {},
   "outputs": [],
   "source": [
    "corr={}\n",
    "\n",
    "ell=ells\n",
    "cell=cl_ccl['nc/cmbl']\n",
    "corr['nk']=ccl.correlation(cosmo_cls, ell, cell, theta_deg,\n",
    "                                               corr_type='GG', method='Bessel')"
   ]
  },
  {
   "cell_type": "code",
   "execution_count": 554,
   "metadata": {},
   "outputs": [],
   "source": [
    "ell=ells\n",
    "cell=cl_ccl['wl/cmbl']\n",
    "corr['gk']=ccl.correlation(cosmo_cls, ell, cell, theta_deg,\n",
    "                                               corr_type='GL', method='fftlog')"
   ]
  },
  {
   "cell_type": "code",
   "execution_count": 555,
   "metadata": {},
   "outputs": [
    {
     "data": {
      "image/png": "[encoded data removed]",
      "text/plain": [
       "<Figure size 432x288 with 1 Axes>"
      ]
     },
     "metadata": {
      "needs_background": "light"
     },
     "output_type": "display_data"
    }
   ],
   "source": [
    "fig, ax = plt.subplots()\n",
    "ax.set_xscale('log')\n",
    "ax.errorbar(np.degrees(R_nk)*60, xi_nk, yerr=np.sqrt(varxi_nk),label='treecorr')\n",
    "ax.plot(theta_deg*60,corr['nk'],label='ccl')\n",
    "ax.set_title('0.43<z<0.62')\n",
    "ax.legend()\n",
    "ax.set_xlabel('angular separation [arcmin]')\n",
    "ax.set_ylabel('N-Kcmb correlation')\n",
    "fig.suptitle('NK Correlation Random')\n",
    "ax.set_xlim(2.5,250)\n",
    "fig.savefig('NK4-6.png',dpi=200)"
   ]
  },
  {
   "cell_type": "code",
   "execution_count": 556,
   "metadata": {},
   "outputs": [
    {
     "data": {
      "image/png": "[encoded data removed]",
      "text/plain": [
       "<Figure size 432x288 with 1 Axes>"
      ]
     },
     "metadata": {
      "needs_background": "light"
     },
     "output_type": "display_data"
    }
   ],
   "source": [
    "fig, ax = plt.subplots()\n",
    "ax.set_xscale('log')\n",
    "ax.errorbar(np.degrees(R_kg)*60, xi_kg, yerr=np.sqrt(var_kg),label='treecorr')\n",
    "ax.plot(theta_deg*60,corr['gk'],label='ccl')\n",
    "ax.set_title('0.43<z<0.62')\n",
    "ax.legend()\n",
    "ax.set_xlabel('angular separation [arcmin]')\n",
    "ax.set_ylabel('GK correlation')\n",
    "fig.suptitle('GK Correlation Random')\n",
    "ax.set_xlim(2.5,250)\n",
    "fig.savefig('GK4-6.png',dpi=200)"
   ]
  },
  {
   "cell_type": "code",
   "execution_count": null,
   "metadata": {},
   "outputs": [],
   "source": []
  },
  {
   "cell_type": "code",
   "execution_count": null,
   "metadata": {},
   "outputs": [],
   "source": []
  },
  {
   "cell_type": "code",
   "execution_count": null,
   "metadata": {},
   "outputs": [],
   "source": []
  },
  {
   "cell_type": "code",
   "execution_count": null,
   "metadata": {},
   "outputs": [],
   "source": []
  }
 ],
 "metadata": {
  "kernelspec": {
   "display_name": "desc-python",
   "language": "python",
   "name": "desc-python"
  },
  "language_info": {
   "codemirror_mode": {
    "name": "ipython",
    "version": 3
   },
   "file_extension": ".py",
   "mimetype": "text/x-python",
   "name": "python",
   "nbconvert_exporter": "python",
   "pygments_lexer": "ipython3",
   "version": "3.7.6"
  }
 },
 "nbformat": 4,
 "nbformat_minor": 4
}
