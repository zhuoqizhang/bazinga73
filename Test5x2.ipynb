{
 "cells": [
  {
   "cell_type": "code",
   "execution_count": 12,
   "metadata": {},
   "outputs": [
    {
     "name": "stdout",
     "output_type": "stream",
     "text": [
      "CCL version you are using: 2.0.1\n"
     ]
    }
   ],
   "source": [
    "import pylab as plt\n",
    "import pyccl as ccl\n",
    "import scipy\n",
    "from scipy.interpolate import interp1d\n",
    "import numpy as np\n",
    "import matplotlib\n",
    "\n",
    "%matplotlib inline\n",
    "\n",
    "print(\"CCL version you are using:\",ccl.__version__)"
   ]
  },
  {
   "cell_type": "code",
   "execution_count": 13,
   "metadata": {},
   "outputs": [],
   "source": [
    "#Redshift distribution\n",
    "zmean1=1.0; zmean2=1.5;\n",
    "sigz1=0.15; sigz2=0.15;\n",
    "nzs=512;\n",
    "\n",
    "#Analytic redshift distributions\n",
    "z_a_1=np.linspace(zmean1-5*sigz1,zmean1+5*sigz1,nzs);\n",
    "z_a_2=np.linspace(zmean2-5*sigz2,zmean2+5*sigz2,nzs);\n",
    "pz_a_1=np.exp(-0.5*((z_a_1-zmean1)/sigz1)**2)\n",
    "pz_a_2=np.exp(-0.5*((z_a_2-zmean2)/sigz2)**2)\n",
    "#Bias parameters for these distributions\n",
    "bz_a_1=np.ones_like(z_a_1); bz_a_2=np.ones_like(z_a_2);"
   ]
  },
  {
   "cell_type": "code",
   "execution_count": 14,
   "metadata": {},
   "outputs": [],
   "source": [
    "cosmo_ccl1 = ccl.Cosmology(\n",
    "    Omega_c=0.25, Omega_b=0.05, h=0.7, A_s=2.1e-9, n_s=0.96, Neff=0, Omega_g=0)\n",
    "\n",
    "cosmo_ccl2 = ccl.Cosmology(\n",
    "    Omega_c=0.25, Omega_b=0.05, h=0.7, A_s=2.1e-9, n_s=0.96, w0=-0.9, Neff=0, Omega_g=0)\n",
    "\n",
    "cosmo_ccl3 = ccl.Cosmology(\n",
    "    Omega_c=0.25, Omega_b=0.05, h=0.7, A_s = 2.1e-9, n_s=0.96, w0=-0.9, wa=0.1, Neff=0, Omega_g=0)\n",
    "\n",
    "cosmo_ccl4 = ccl.Cosmology(\n",
    "    Omega_c=0.25, Omega_b=0.05, Omega_k=0.05, h=0.7, A_s = 2.1e-9, n_s=0.96, \n",
    "    w0=-0.9, wa=0.1, Neff=0, Omega_g=0)\n",
    "\n",
    "cosmo_ccl5 = ccl.Cosmology(\n",
    "    Omega_c=0.25, Omega_b=0.05, Omega_k=-0.05, h=0.7, A_s = 2.1e-9, n_s=0.96, \n",
    "    w0=-0.9, wa=0.1, Neff=0, Omega_g=0)\n",
    "\n",
    "cosmo_ccl6 = ccl.Cosmology(\n",
    "    Omega_c=0.3, Omega_b=0.0, h=0.7, sigma8 = 0.8, n_s=0.96, Neff=0,\n",
    "    transfer_function='bbks', matter_power_spectrum='linear', Omega_g=0)\n",
    "\n",
    "cosmo_ccl7 = ccl.Cosmology(\n",
    "    Omega_c=0.3, Omega_b=0.0, h=0.7, sigma8 = 0.8, n_s=0.96, Neff=0,\n",
    "    transfer_function='bbks', matter_power_spectrum='linear')\n",
    "\n",
    "cosmo_list = [\n",
    "    cosmo_ccl1,\n",
    "    cosmo_ccl2,\n",
    "    cosmo_ccl3,\n",
    "    cosmo_ccl4,\n",
    "    cosmo_ccl5,\n",
    "    cosmo_ccl6,\n",
    "    cosmo_ccl7]"
   ]
  },
  {
   "cell_type": "code",
   "execution_count": 15,
   "metadata": {},
   "outputs": [],
   "source": [
    "ccl_dir = '/global/homes/c/chihway/CCL/'"
   ]
  },
  {
   "cell_type": "code",
   "execution_count": 16,
   "metadata": {},
   "outputs": [],
   "source": [
    "accuracy = 1e-3\n",
    "\n",
    "#Redshift distribution\n",
    "zmean1=1.0; zmean2=1.5;\n",
    "sigz1=0.15; sigz2=0.15;\n",
    "nzs=512;\n",
    "\n",
    "#Analytic redshift distributions\n",
    "z_a_1=np.linspace(zmean1-5*sigz1,zmean1+5*sigz1,nzs);\n",
    "z_a_2=np.linspace(zmean2-5*sigz2,zmean2+5*sigz2,nzs);\n",
    "pz_a_1=np.exp(-0.5*((z_a_1-zmean1)/sigz1)**2)\n",
    "pz_a_2=np.exp(-0.5*((z_a_2-zmean2)/sigz2)**2)\n",
    "#Bias parameters for these distributions\n",
    "bz_a_1=np.ones_like(z_a_1); bz_a_2=np.ones_like(z_a_2);\n",
    "\n",
    "#Binned redshift distributions and biases\n",
    "z_h_1,pz_h_1=np.loadtxt(ccl_dir+\"benchmarks/data/bin1_histo.txt\",unpack=True)[:,1:]\n",
    "z_h_2,pz_h_2=np.loadtxt(ccl_dir+\"benchmarks/data/bin2_histo.txt\",unpack=True)[:,1:]\n",
    "bz_h_1=np.ones_like(z_h_1); bz_h_2=np.ones_like(z_h_2);\n",
    "\n",
    "#Intrinsic Alignment amplitude arrays\n",
    "zi_h_1,az_h_1=np.loadtxt(ccl_dir+\"benchmarks/data/ia_amp_histo_1.txt\",unpack=True)\n",
    "zi_h_2,az_h_2=np.loadtxt(ccl_dir+\"benchmarks/data/ia_amp_histo_2.txt\",unpack=True)\n",
    "zi_a_1,az_a_1=np.loadtxt(ccl_dir+\"benchmarks/data/ia_amp_analytic_1.txt\",unpack=True)\n",
    "zi_a_2,az_a_2=np.loadtxt(ccl_dir+\"benchmarks/data/ia_amp_analytic_2.txt\",unpack=True)\n",
    "\n",
    "rz_a_1=np.ones_like(z_a_1); rz_a_2=np.ones_like(z_a_2);\n",
    "rz_h_1=np.ones_like(z_h_1); rz_h_2=np.ones_like(z_h_2);\n",
    "\n",
    "#Initialize tracers\n",
    "cosmo_cls=ccl.Cosmology(Omega_c=0.30, Omega_b=0.00, Omega_g=0, Omega_k=0,\n",
    "                          h=0.7, sigma8=0.8, n_s=0.96, Neff=0, m_nu=0.0,\n",
    "                          w0=-1, wa=0, T_CMB=2.7, transfer_function='bbks',\n",
    "                          mass_function='tinker',\n",
    "                          matter_power_spectrum='linear')\n",
    "cosmo_cls.cosmo.gsl_params.INTEGRATION_LIMBER_EPSREL = 1E-4\n",
    "cosmo_cls.cosmo.gsl_params.INTEGRATION_EPSREL = 1E-4\n",
    "cosmo_cls_cmbl=cosmo_list[-1]\n",
    "\n",
    "\n",
    "# Renormalize the IA amplitude to be consistent with A_IA\n",
    "rho_m = ccl.physical_constants.RHO_CRITICAL * cosmo_cls['Omega_m']\n",
    "D1 = ccl.growth_factor(cosmo_cls, 1./(1+zi_a_1))\n",
    "D2 = ccl.growth_factor(cosmo_cls, 1./(1+zi_a_2))\n",
    "az_a_1 = - az_a_1 * D1 / (5e-14 * rho_m)\n",
    "az_a_2 = - az_a_2 * D2 / (5e-14 * rho_m)\n",
    "D1 = ccl.growth_factor(cosmo_cls, 1./(1+zi_h_1))\n",
    "D2 = ccl.growth_factor(cosmo_cls, 1./(1+zi_h_2))\n",
    "az_h_1 = - az_h_1 * D1 / (5e-14 * rho_m)\n",
    "az_h_2 = - az_h_2 * D2 / (5e-14 * rho_m)\n",
    "\n",
    "\n",
    "zarrs={'analytic':{'b1':{'z':z_a_1,'nz':pz_a_1,'bz':bz_a_1,'az':az_a_1,'rz':rz_a_1},'b2':{'z':z_a_2,'nz':pz_a_2,'bz':bz_a_2,'az':az_a_2,'rz':rz_a_2}},\n",
    "      'histo':{'b1':{'z':z_h_1,'nz':pz_h_1,'bz':bz_h_1,'az':az_h_1,'rz':rz_h_1},'b2':{'z':z_h_2,'nz':pz_h_2,'bz':bz_h_2,'az':az_h_2,'rz':rz_h_2}}}\n",
    "\n",
    "\n",
    "trcrs={}\n",
    "for nztyp in ['analytic','histo'] :\n",
    "    trcrs[nztyp]={}\n",
    "    za=zarrs[nztyp]\n",
    "    trcrs[nztyp]['nc_1']=ccl.NumberCountsTracer(cosmo_cls,has_rsd=False,\n",
    "                                                dndz=(za['b1']['z'],za['b1']['nz']),\n",
    "                                                bias=(za['b1']['z'],za['b1']['bz']))\n",
    "    trcrs[nztyp]['nc_2']=ccl.NumberCountsTracer(cosmo_cls,has_rsd=False,\n",
    "                                                dndz=(za['b2']['z'],za['b2']['nz']),\n",
    "                                                bias=(za['b2']['z'],za['b2']['bz']))\n",
    "    trcrs[nztyp]['wl_1']=ccl.WeakLensingTracer(cosmo_cls,\n",
    "                                               dndz=(za['b1']['z'],za['b1']['nz']))\n",
    "    trcrs[nztyp]['wl_2']=ccl.WeakLensingTracer(cosmo_cls,\n",
    "                                               dndz=(za['b2']['z'],za['b2']['nz']))\n",
    "    trcrs[nztyp]['wli_1']=ccl.WeakLensingTracer(cosmo_cls,\n",
    "                                               dndz=(za['b1']['z'],za['b1']['nz']),\n",
    "                                                ia_bias=(za['b1']['z'],za['b1']['az']))\n",
    "    trcrs[nztyp]['wli_2']=ccl.WeakLensingTracer(cosmo_cls,\n",
    "                                               dndz=(za['b2']['z'],za['b2']['nz']), \n",
    "                                                ia_bias=(za['b2']['z'],za['b2']['az']))\n",
    "    trcrs[nztyp]['cmbl']=ccl.CMBLensingTracer(cosmo_cls,1100.)\n",
    "    trcrs[nztyp]['cmblb']=ccl.CMBLensingTracer(cosmo_cls_cmbl,1100.)"
   ]
  },
  {
   "cell_type": "code",
   "execution_count": 17,
   "metadata": {},
   "outputs": [],
   "source": [
    "#Generate CCL predictions\n",
    "cl_ccl={}\n",
    "el_ccl={}\n",
    "el_bench={}\n",
    "ells=np.loadtxt(ccl_dir+\"examples/larr_cls.txt\").astype(int)\n",
    "ells3k=np.linspace(0,3000,3001).astype(int)\n",
    "for nztyp in ['analytic','histo'] :\n",
    "    #Limber prefactors\n",
    "    lf_dl=(ells+0.5)**2/np.sqrt((ells+2.)*(ells+1.)*ells*(ells-1.))\n",
    "    lf_dc=(ells+0.5)**2/(ells*(ells+1.))\n",
    "    lf_ll=ells*(ells+1.)/np.sqrt((ells+2.)*(ells+1.)*ells*(ells-1.))\n",
    "    \n",
    "    #CCL Power spectra\n",
    "    cl_ccl[nztyp]={}\n",
    "    cl_ccl[nztyp]['nc_1/cmbl']=ccl.angular_cl(cosmo_cls,\n",
    "                                       trcrs[nztyp]['nc_1'],trcrs[nztyp]['cmbl'],ells)*lf_dc\n",
    "    cl_ccl[nztyp]['nc_2/cmbl']=ccl.angular_cl(cosmo_cls,\n",
    "                                       trcrs[nztyp]['nc_2'],trcrs[nztyp]['cmbl'],ells)*lf_dc\n",
    "    cl_ccl[nztyp]['wl_1/cmbl']=ccl.angular_cl(cosmo_cls,\n",
    "                                       trcrs[nztyp]['wl_1'],trcrs[nztyp]['cmbl'],ells)*lf_ll\n",
    "    cl_ccl[nztyp]['wl_2/cmbl']=ccl.angular_cl(cosmo_cls,\n",
    "                                       trcrs[nztyp]['wl_2'],trcrs[nztyp]['cmbl'],ells)*lf_ll\n",
    "    cl_ccl[nztyp]['cmbl/cmbl']=ccl.angular_cl(cosmo_cls,\n",
    "                                       trcrs[nztyp]['cmblb'],trcrs[nztyp]['cmblb'],ells)"
   ]
  },
  {
   "cell_type": "code",
   "execution_count": 18,
   "metadata": {},
   "outputs": [
    {
     "data": {
      "image/png": "[encoded data removed]",
      "text/plain": [
       "<Figure size 576x432 with 1 Axes>"
      ]
     },
     "metadata": {
      "needs_background": "light"
     },
     "output_type": "display_data"
    },
    {
     "data": {
      "text/plain": [
       "<Figure size 432x288 with 0 Axes>"
      ]
     },
     "metadata": {},
     "output_type": "display_data"
    }
   ],
   "source": [
    "#galaxy-CMBl\n",
    "title=r' $C_\\ell$ $\\kappa_{\\rm CMB}$-NC'\n",
    "plt.figure(figsize=(8,6))\n",
    "plt.title(title)\n",
    "# plt.gcf().subplots_adjust(**plot_adjust)\n",
    "plt.ylabel(r'$C_\\ell$')\n",
    "plt.xlabel(r'$\\ell$')\n",
    "for itag,tag in enumerate(['nc_1/cmbl','nc_2/cmbl']) :\n",
    "    for nztyp in ['histo'] :\n",
    "        plt.plot(ells,cl_ccl[nztyp][tag],ls='-',c='r')\n",
    "# for itag,tag in enumerate(['cmbl/cmbl']) :\n",
    "#     for nztyp in ['analytic'] :\n",
    "#         plt.plot(ells,np.fabs(cl_bench[nztyp][tag][ells]-cl_ccl[nztyp][tag])/el_ccl[nztyp][tag],\n",
    "#                  ls=ltypes[nztyp],c=color_map(2))\n",
    "# plt.plot([-1,-1],[-1,-1],ls='-',c=color_map(0),label='$\\\\kappa_{\\\\rm CMB}$-1')\n",
    "# plt.plot([-1,-1],[-1,-1],ls='-',c=color_map(1),label='$\\\\kappa_{\\\\rm CMB}$-2')\n",
    "# plt.plot([-1,-1],[-1,-1],ls='-',c=color_map(2),label='$\\\\kappa_{\\\\rm CMB}$-$\\\\kappa_{\\\\rm CMB}$')\n",
    "# plt.plot([-1,-1],[-1,-1],ls='-',c='k',label='Analytic $N(z)$')\n",
    "# plt.plot([-1,-1],[-1,-1],ls='--',c='k',label='Binned $N(z)$')\n",
    "# plt.axhline(0.1, c=\"k\", ls=\"-.\")\n",
    "plt.xscale('log');\n",
    "plt.yscale('log');\n",
    "# plt.ylim([1e-6, 10])\n",
    "plt.xlim([2,2980])\n",
    "# plt.legend(loc='upper left',ncol=2, frameon=False, fontsize=\"x-small\");\n",
    "# plt.savefig('Cl_dc.pdf')\n",
    "plt.show();\n",
    "plt.clf();"
   ]
  },
  {
   "cell_type": "code",
   "execution_count": 19,
   "metadata": {},
   "outputs": [
    {
     "data": {
      "text/plain": [
       "(2, 2980)"
      ]
     },
     "execution_count": 19,
     "metadata": {},
     "output_type": "execute_result"
    },
    {
     "data": {
      "image/png": "[encoded data removed]",
      "text/plain": [
       "<Figure size 576x432 with 1 Axes>"
      ]
     },
     "metadata": {
      "needs_background": "light"
     },
     "output_type": "display_data"
    }
   ],
   "source": [
    "#shear-CMBl\n",
    "title=r' $C_\\ell$ $\\kappa_{\\rm CMB}$-WL'\n",
    "plt.figure(figsize=(8,6))\n",
    "plt.title(title)\n",
    "plt.ylabel(r'$C_\\ell$')\n",
    "plt.xlabel(r'$\\ell$')\n",
    "for itag,tag in enumerate(['wl_1/cmbl','wl_2/cmbl']) :\n",
    "    for nztyp in ['histo'] :\n",
    "        plt.plot(ells,cl_ccl[nztyp][tag], ls='-',c='b')\n",
    "# plt.plot([-1,-1],[-1,-1],ls='-',c=color_map(0),label='$\\\\kappa_{\\\\rm CMB}$-1')\n",
    "# plt.plot([-1,-1],[-1,-1],ls='-',c=color_map(1),label='$\\\\kappa_{\\\\rm CMB}$-2')\n",
    "# plt.plot([-1,-1],[-1,-1],ls='-',c='k',label='Analytic $N(z)$')\n",
    "# plt.plot([-1,-1],[-1,-1],ls='--',c='k',label='Binned $N(z)$')\n",
    "# plt.axhline(0.1, c=\"k\", ls=\"-.\")\n",
    "plt.xscale('log');\n",
    "plt.yscale('log');\n",
    "# plt.ylim([1e-6, 10])\n",
    "plt.xlim([2,2980])\n",
    "# plt.legend(loc='upper left',ncol=2, frameon=False, fontsize=\"x-small\");\n",
    "# plt.savefig('Cl_lc.pdf')\n",
    "# plt.show();\n",
    "# plt.clf();"
   ]
  },
  {
   "cell_type": "code",
   "execution_count": 20,
   "metadata": {},
   "outputs": [
    {
     "name": "stdout",
     "output_type": "stream",
     "text": [
      "[1.66666667e-03 1.96461439e-03 2.31582582e-03 2.72982284e-03\n",
      " 3.21782955e-03 3.79307654e-03 4.47115966e-03 5.27046277e-03\n",
      " 6.21265620e-03 7.32328427e-03 8.63245780e-03 1.01756705e-02\n",
      " 1.19947612e-02 1.41390483e-02 1.66666667e-02 1.96461439e-02\n",
      " 2.31582582e-02 2.72982284e-02 3.21782955e-02 3.79307654e-02\n",
      " 4.47115966e-02 5.27046277e-02 6.21265620e-02 7.32328427e-02\n",
      " 8.63245780e-02 1.01756705e-01 1.19947612e-01 1.41390483e-01\n",
      " 1.66666667e-01 1.96461439e-01 2.31582582e-01 2.72982284e-01\n",
      " 3.21782955e-01 3.79307654e-01 4.47115966e-01 5.27046277e-01\n",
      " 6.21265620e-01 7.32328427e-01 8.63245780e-01 1.01756705e+00\n",
      " 1.19947612e+00 1.41390483e+00 1.66666667e+00 1.96461439e+00\n",
      " 2.31582582e+00 2.72982284e+00 3.21782955e+00 3.79307654e+00\n",
      " 4.47115966e+00 5.27046277e+00]\n"
     ]
    }
   ],
   "source": [
    "theta_deg = np.logspace(-1, 2.5, num=50)/60\n",
    "print(theta_deg)"
   ]
  },
  {
   "cell_type": "code",
   "execution_count": 21,
   "metadata": {},
   "outputs": [
    {
     "data": {
      "text/plain": [
       "Text(0, 0.5, 'NK')"
      ]
     },
     "execution_count": 21,
     "metadata": {},
     "output_type": "execute_result"
    },
    {
     "data": {
      "image/png": "[encoded data removed]",
      "text/plain": [
       "<Figure size 432x288 with 1 Axes>"
      ]
     },
     "metadata": {
      "needs_background": "light"
     },
     "output_type": "display_data"
    }
   ],
   "source": [
    "#Assume that c_ell are computed above in the Angular_cl benchmark\n",
    "#If you haven't run that cell, please scroll up to run it.\n",
    "#Then proceed to compute the relavent correlation functions: clustering and lensing auto-correlations.\n",
    "corr={}\n",
    "\n",
    "for nztyp in ['histo'] :\n",
    "    corr[nztyp]={}\n",
    "    za=zarrs[nztyp]\n",
    "    for tag in ['nc_1/cmbl','nc_2/cmbl'] :\n",
    "        corr[nztyp][tag]={}\n",
    "        ell=ells\n",
    "        cell=cl_ccl[nztyp][tag]\n",
    "        corr[nztyp][tag]=ccl.correlation(cosmo_cls, ell, cell, theta_deg,\n",
    "                                                       corr_type='GG', method='Bessel')\n",
    "        plt.semilogy(theta_deg*60,corr[nztyp][tag],ls='-')\n",
    "\n",
    "plt.xlim(2.5,250)\n",
    "plt.ylabel('NK')"
   ]
  },
  {
   "cell_type": "code",
   "execution_count": 22,
   "metadata": {},
   "outputs": [
    {
     "data": {
      "text/plain": [
       "(2.5, 250.0)"
      ]
     },
     "execution_count": 22,
     "metadata": {},
     "output_type": "execute_result"
    },
    {
     "data": {
      "image/png": "[encoded data removed]",
      "text/plain": [
       "<Figure size 432x288 with 1 Axes>"
      ]
     },
     "metadata": {
      "needs_background": "light"
     },
     "output_type": "display_data"
    }
   ],
   "source": [
    "#Assume that c_ell are computed above in the Angular_cl benchmark\n",
    "#If you haven't run that cell, please scroll up to run it.\n",
    "#Then proceed to compute the relavent correlation functions: clustering and lensing auto-correlations.\n",
    "\n",
    "for nztyp in ['histo'] :\n",
    "    corr[nztyp]={}\n",
    "    za=zarrs[nztyp]\n",
    "    for tag in ['wl_1/cmbl','wl_2/cmbl'] :\n",
    "        corr[nztyp][tag]={}\n",
    "        ell=ells\n",
    "        cell=cl_ccl[nztyp][tag]\n",
    "        corr[nztyp][tag]=ccl.correlation(cosmo_cls, ell, cell, theta_deg,\n",
    "                                                       corr_type='GL', method='Bessel')\n",
    "        plt.semilogy(theta_deg*60,corr[nztyp][tag],ls='-')\n",
    "\n",
    "plt.ylabel('GK')\n",
    "plt.xlim(2.5,250)"
   ]
  },
  {
   "cell_type": "code",
   "execution_count": null,
   "metadata": {},
   "outputs": [],
   "source": []
  }
 ],
 "metadata": {
  "kernelspec": {
   "display_name": "Python 3",
   "language": "python",
   "name": "python3"
  },
  "language_info": {
   "codemirror_mode": {
    "name": "ipython",
    "version": 3
   },
   "file_extension": ".py",
   "mimetype": "text/x-python",
   "name": "python",
   "nbconvert_exporter": "python",
   "pygments_lexer": "ipython3",
   "version": "3.6.8"
  }
 },
 "nbformat": 4,
 "nbformat_minor": 4
}
