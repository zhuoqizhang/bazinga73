{
 "cells": [
  {
   "cell_type": "code",
   "execution_count": 1,
   "metadata": {},
   "outputs": [],
   "source": [
    "import sys\n",
    "sys.path.insert(0, '/global/homes/z/zhzhuoqi/.local/cori/3.7-anaconda-2019.10/lib/python3.7/site-packages/TreeCorr-4.1-py3.7-linux-x86_64.egg')"
   ]
  },
  {
   "cell_type": "code",
   "execution_count": 2,
   "metadata": {},
   "outputs": [
    {
     "data": {
      "text/plain": [
       "'4.1'"
      ]
     },
     "execution_count": 2,
     "metadata": {},
     "output_type": "execute_result"
    }
   ],
   "source": [
    "import treecorr\n",
    "treecorr.__version__"
   ]
  },
  {
   "cell_type": "code",
   "execution_count": 3,
   "metadata": {},
   "outputs": [],
   "source": [
    "import GCRCatalogs\n",
    "import numpy as np\n",
    "import pyccl as ccl\n",
    "import matplotlib.pyplot as plt\n",
    "import healpy as hp\n",
    "import camb\n",
    "import camb.correlations\n",
    "import matplotlib.colors as clr\n",
    "import matplotlib.pyplot as plt\n",
    "from matplotlib.pyplot import imshow, show, colorbar"
   ]
  },
  {
   "cell_type": "code",
   "execution_count": 4,
   "metadata": {},
   "outputs": [],
   "source": [
    "def get_healpixel_footprint(ra, dec, nside, nest=False, count_threshold=None):\n",
    "    pixels = hp.ang2pix(nside, ra, dec, nest=nest, lonlat=True)\n",
    "    if count_threshold and count_threshold > 1:\n",
    "        pixels, counts = np.unique(pixels, return_counts=True)\n",
    "        return pixels[counts >= count_threshold]\n",
    "    return np.unique(pixels)"
   ]
  },
  {
   "cell_type": "code",
   "execution_count": 5,
   "metadata": {},
   "outputs": [],
   "source": [
    "def generate_uniform_random_ra_dec_healpixel(n, pix, nside, nest=False):\n",
    "\n",
    "    ra, dec = hp.vec2ang(hp.boundaries(nside, pix, 1, nest=nest).T, lonlat=True)\n",
    "    ra_dec_min_max = ra.min(), ra.max(), dec.min(), dec.max()\n",
    "\n",
    "    ra = np.empty(n)\n",
    "    dec = np.empty_like(ra)\n",
    "    n_needed = n\n",
    "\n",
    "    while n_needed > 0:\n",
    "        ra_this, dec_this = generate_uniform_random_ra_dec_min_max(n_needed*2, *ra_dec_min_max)\n",
    "        mask = np.where(hp.ang2pix(nside, ra_this, dec_this, nest=nest, lonlat=True) == pix)[0]\n",
    "        count_this = mask.size\n",
    "        if n_needed - count_this < 0:\n",
    "            count_this = n_needed\n",
    "            mask = mask[:n_needed]\n",
    "\n",
    "        s = slice(-n_needed, -n_needed+count_this if -n_needed+count_this < 0 else None)\n",
    "        ra[s] = ra_this[mask]\n",
    "        dec[s] = dec_this[mask]\n",
    "        n_needed -= count_this\n",
    "\n",
    "    return ra, dec\n",
    "\n",
    "def generate_uniform_random_ra_dec_min_max(n, ra_min, ra_max, dec_min, dec_max):\n",
    "\n",
    "    ra = np.random.uniform(ra_min, ra_max, size=n)\n",
    "    dec = np.random.uniform(np.sin(np.deg2rad(dec_min)), np.sin(np.deg2rad(dec_max)), size=n)\n",
    "    dec = np.arcsin(dec, out=dec)\n",
    "    dec = np.rad2deg(dec, out=dec)\n",
    "    return ra, dec\n"
   ]
  },
  {
   "cell_type": "code",
   "execution_count": 6,
   "metadata": {},
   "outputs": [],
   "source": [
    "def generate_uniform_random_ra_dec_footprint(n, footprint=None, nside=None, nest=False):\n",
    "\n",
    "    if footprint is None or hp.nside2npix(nside) == len(footprint):\n",
    "        return generate_uniform_random_ra_dec(n)\n",
    "\n",
    "    n_per_pix_all = np.histogram(np.random.rand(n), np.linspace(0, 1, len(footprint)+1))[0]\n",
    "\n",
    "    ra = np.empty(n)\n",
    "    dec = np.empty_like(ra)\n",
    "    count = 0\n",
    "\n",
    "    for n_per_pix, pix in zip(n_per_pix_all, footprint):\n",
    "        ra_this, dec_this = generate_uniform_random_ra_dec_healpixel(n_per_pix, pix, nside, nest)\n",
    "        s = slice(count, count+n_per_pix)\n",
    "        ra[s] = ra_this\n",
    "        dec[s] = dec_this\n",
    "        count += n_per_pix\n",
    "\n",
    "    assert count == n\n",
    "\n",
    "    return ra, dec\n"
   ]
  },
  {
   "cell_type": "code",
   "execution_count": 24,
   "metadata": {},
   "outputs": [],
   "source": [
    "def theory_real_cross(lmax2, z_vals, n_vals, xvals):\n",
    "    ''' Compute the correlation between galaxy shear and CMB lensing in real space '''\n",
    "    ns = 0.963\n",
    "    s8 = .8\n",
    "\n",
    "    Omega_c = .22\n",
    "    Omega_b = .0045\n",
    "    h = 71./100.\n",
    "\n",
    "    cosmo_ccl = ccl.Cosmology(Omega_c=Omega_c, Omega_b=Omega_b, h=h, sigma8 = s8, n_s = ns)#, transfer_function='boltzmann_class', matter_power_spectrum='emu')\n",
    "    cmbl1 = ccl.CMBLensingTracer(cosmo_ccl, 1100) # second number is source redshift\n",
    "    lens1 = ccl.WeakLensingTracer(cosmo_ccl, dndz=(z_vals, n_vals))\n",
    "    ll = np.arange(lmax2)\n",
    "\n",
    "    num = ccl.NumberCountsTracer(cosmo_ccl, has_rsd=False, dndz=(z_vals, n_vals), bias = (z_vals,np.ones(len(z_vals))*1.3))\n",
    "    #cls = ccl.angular_cl(cosmo_ccl, cmbl1, cmbl1, ll)\n",
    "    cls = ccl.angular_cl(cosmo_ccl, lens1, cmbl1, ll) #k\n",
    "    cls_num = ccl.angular_cl(cosmo_ccl,num,cmbl1,ll) #nk\n",
    "    win = hp.pixwin(4096)[:lmax2]\n",
    "    cls = cls*win**2\n",
    "    pp3_2 = np.zeros((lmax2, 4))\n",
    "    pp3_2[:, 0] = cls[:] * (ll * (ll + 1.)) / (2. * np.pi)\n",
    "    cxvals = np.cos(xvals / (60.) / (180. / np.pi))\n",
    "    vals = camb.correlations.cl2corr(pp3_2, cxvals)#from fourier space to real space\n",
    "    #cls_num = cls_num*win**2\n",
    "    pp3_2 = np.zeros((lmax2, 4))\n",
    "    pp3_2[:, 0] = cls_num[:] * (ll * (ll + 1.)) / (2. * np.pi)\n",
    "    cxvals = np.cos(xvals / (60.) / (180. / np.pi))\n",
    "    vals2 = camb.correlations.cl2corr(pp3_2, cxvals)\n",
    "    return xvals, vals[:, 0], vals2[:, 0]"
   ]
  },
  {
   "cell_type": "code",
   "execution_count": 25,
   "metadata": {},
   "outputs": [],
   "source": [
    "filename = '/global/projecta/projectdirs/lsst/groups/CS/cosmoDC2/mass_sheets_behind_z3/cmb_maps/cmblensmap_total_gausshiz_masked.fits'"
   ]
  },
  {
   "cell_type": "code",
   "execution_count": 26,
   "metadata": {},
   "outputs": [
    {
     "name": "stdout",
     "output_type": "stream",
     "text": [
      "NSIDE = 4096\n",
      "ORDERING = RING in fits file\n",
      "INDXSCHM = IMPLICIT\n",
      "201326592\n"
     ]
    }
   ],
   "source": [
    "mapfile = hp.read_map(filename)\n",
    "print(len(mapfile))"
   ]
  },
  {
   "cell_type": "code",
   "execution_count": 17,
   "metadata": {},
   "outputs": [],
   "source": [
    "index = np.arange(201326592)\n",
    "theta, phi = hp.pix2ang(nside=4096, ipix=index)"
   ]
  },
  {
   "cell_type": "code",
   "execution_count": 13,
   "metadata": {},
   "outputs": [],
   "source": [
    "gc = GCRCatalogs.load_catalog('cosmoDC2')"
   ]
  },
  {
   "cell_type": "code",
   "execution_count": 14,
   "metadata": {},
   "outputs": [],
   "source": [
    "data = gc.get_quantities(['ra', 'dec', 'redshift', 'mag_i_lsst'], filters=['mag_i_lsst<22'])"
   ]
  },
  {
   "cell_type": "code",
   "execution_count": 163,
   "metadata": {},
   "outputs": [],
   "source": [
    "redshift_mask = (data['redshift']<0.3+0.1)*(data['redshift']>0.3)"
   ]
  },
  {
   "cell_type": "code",
   "execution_count": 165,
   "metadata": {},
   "outputs": [
    {
     "name": "stdout",
     "output_type": "stream",
     "text": [
      "[2227504 2227535 2227536 ... 2714479 2714559 2714575]\n"
     ]
    },
    {
     "data": {
      "text/plain": [
       "(array([[0., 0., 0., ..., 0., 0., 0.],\n",
       "        [0., 0., 0., ..., 0., 0., 0.],\n",
       "        [0., 0., 0., ..., 0., 0., 0.],\n",
       "        ...,\n",
       "        [0., 0., 0., ..., 0., 0., 0.],\n",
       "        [0., 0., 0., ..., 0., 0., 0.],\n",
       "        [0., 0., 0., ..., 0., 0., 0.]]),\n",
       " array([47.82348633, 47.96447081, 48.1054553 , 48.24643978, 48.38742426,\n",
       "        48.52840875, 48.66939323, 48.81037772, 48.9513622 , 49.09234668,\n",
       "        49.23333117, 49.37431565, 49.51530013, 49.65628462, 49.7972691 ,\n",
       "        49.93825359, 50.07923807, 50.22022255, 50.36120704, 50.50219152,\n",
       "        50.64317601, 50.78416049, 50.92514497, 51.06612946, 51.20711394,\n",
       "        51.34809843, 51.48908291, 51.63006739, 51.77105188, 51.91203636,\n",
       "        52.05302084, 52.19400533, 52.33498981, 52.4759743 , 52.61695878,\n",
       "        52.75794326, 52.89892775, 53.03991223, 53.18089672, 53.3218812 ,\n",
       "        53.46286568, 53.60385017, 53.74483465, 53.88581913, 54.02680362,\n",
       "        54.1677881 , 54.30877259, 54.44975707, 54.59074155, 54.73172604,\n",
       "        54.87271052, 55.01369501, 55.15467949, 55.29566397, 55.43664846,\n",
       "        55.57763294, 55.71861743, 55.85960191, 56.00058639, 56.14157088,\n",
       "        56.28255536, 56.42353984, 56.56452433, 56.70550881, 56.8464933 ,\n",
       "        56.98747778, 57.12846226, 57.26944675, 57.41043123, 57.55141572,\n",
       "        57.6924002 , 57.83338468, 57.97436917, 58.11535365, 58.25633814,\n",
       "        58.39732262, 58.5383071 , 58.67929159, 58.82027607, 58.96126055,\n",
       "        59.10224504, 59.24322952, 59.38421401, 59.52519849, 59.66618297,\n",
       "        59.80716746, 59.94815194, 60.08913643, 60.23012091, 60.37110539,\n",
       "        60.51208988, 60.65307436, 60.79405885, 60.93504333, 61.07602781,\n",
       "        61.2170123 , 61.35799678, 61.49898126, 61.63996575, 61.78095023,\n",
       "        61.92193472, 62.0629192 , 62.20390368, 62.34488817, 62.48587265,\n",
       "        62.62685714, 62.76784162, 62.9088261 , 63.04981059, 63.19079507,\n",
       "        63.33177955, 63.47276404, 63.61374852, 63.75473301, 63.89571749,\n",
       "        64.03670197, 64.17768646, 64.31867094, 64.45965543, 64.60063991,\n",
       "        64.74162439, 64.88260888, 65.02359336, 65.16457785, 65.30556233,\n",
       "        65.44654681, 65.5875313 , 65.72851578, 65.86950026, 66.01048475,\n",
       "        66.15146923, 66.29245372, 66.4334382 , 66.57442268, 66.71540717,\n",
       "        66.85639165, 66.99737614, 67.13836062, 67.2793451 , 67.42032959,\n",
       "        67.56131407, 67.70229856, 67.84328304, 67.98426752, 68.12525201,\n",
       "        68.26623649, 68.40722097, 68.54820546, 68.68918994, 68.83017443,\n",
       "        68.97115891, 69.11214339, 69.25312788, 69.39411236, 69.53509685,\n",
       "        69.67608133, 69.81706581, 69.9580503 , 70.09903478, 70.24001927,\n",
       "        70.38100375, 70.52198823, 70.66297272, 70.8039572 , 70.94494168,\n",
       "        71.08592617, 71.22691065, 71.36789514, 71.50887962, 71.6498641 ,\n",
       "        71.79084859, 71.93183307, 72.07281756, 72.21380204, 72.35478652,\n",
       "        72.49577101, 72.63675549, 72.77773997, 72.91872446, 73.05970894,\n",
       "        73.20069343, 73.34167791, 73.48266239, 73.62364688, 73.76463136,\n",
       "        73.90561585, 74.04660033, 74.18758481, 74.3285693 , 74.46955378,\n",
       "        74.61053827, 74.75152275, 74.89250723, 75.03349172, 75.1744762 ,\n",
       "        75.31546068, 75.45644517, 75.59742965, 75.73841414, 75.87939862,\n",
       "        76.0203831 ]),\n",
       " array([-46.65789031, -46.54736351, -46.4368367 , -46.3263099 ,\n",
       "        -46.2157831 , -46.1052563 , -45.9947295 , -45.8842027 ,\n",
       "        -45.7736759 , -45.6631491 , -45.5526223 , -45.4420955 ,\n",
       "        -45.3315687 , -45.2210419 , -45.1105151 , -44.9999883 ,\n",
       "        -44.8894615 , -44.7789347 , -44.6684079 , -44.5578811 ,\n",
       "        -44.4473543 , -44.3368275 , -44.2263007 , -44.1157739 ,\n",
       "        -44.0052471 , -43.89472029, -43.78419349, -43.67366669,\n",
       "        -43.56313989, -43.45261309, -43.34208629, -43.23155949,\n",
       "        -43.12103269, -43.01050589, -42.89997909, -42.78945229,\n",
       "        -42.67892549, -42.56839869, -42.45787189, -42.34734509,\n",
       "        -42.23681829, -42.12629149, -42.01576469, -41.90523789,\n",
       "        -41.79471109, -41.68418429, -41.57365749, -41.46313069,\n",
       "        -41.35260388, -41.24207708, -41.13155028, -41.02102348,\n",
       "        -40.91049668, -40.79996988, -40.68944308, -40.57891628,\n",
       "        -40.46838948, -40.35786268, -40.24733588, -40.13680908,\n",
       "        -40.02628228, -39.91575548, -39.80522868, -39.69470188,\n",
       "        -39.58417508, -39.47364828, -39.36312148, -39.25259468,\n",
       "        -39.14206788, -39.03154108, -38.92101428, -38.81048747,\n",
       "        -38.69996067, -38.58943387, -38.47890707, -38.36838027,\n",
       "        -38.25785347, -38.14732667, -38.03679987, -37.92627307,\n",
       "        -37.81574627, -37.70521947, -37.59469267, -37.48416587,\n",
       "        -37.37363907, -37.26311227, -37.15258547, -37.04205867,\n",
       "        -36.93153187, -36.82100507, -36.71047827, -36.59995147,\n",
       "        -36.48942467, -36.37889787, -36.26837106, -36.15784426,\n",
       "        -36.04731746, -35.93679066, -35.82626386, -35.71573706,\n",
       "        -35.60521026, -35.49468346, -35.38415666, -35.27362986,\n",
       "        -35.16310306, -35.05257626, -34.94204946, -34.83152266,\n",
       "        -34.72099586, -34.61046906, -34.49994226, -34.38941546,\n",
       "        -34.27888866, -34.16836186, -34.05783506, -33.94730826,\n",
       "        -33.83678146, -33.72625466, -33.61572785, -33.50520105,\n",
       "        -33.39467425, -33.28414745, -33.17362065, -33.06309385,\n",
       "        -32.95256705, -32.84204025, -32.73151345, -32.62098665,\n",
       "        -32.51045985, -32.39993305, -32.28940625, -32.17887945,\n",
       "        -32.06835265, -31.95782585, -31.84729905, -31.73677225,\n",
       "        -31.62624545, -31.51571865, -31.40519185, -31.29466505,\n",
       "        -31.18413825, -31.07361144, -30.96308464, -30.85255784,\n",
       "        -30.74203104, -30.63150424, -30.52097744, -30.41045064,\n",
       "        -30.29992384, -30.18939704, -30.07887024, -29.96834344,\n",
       "        -29.85781664, -29.74728984, -29.63676304, -29.52623624,\n",
       "        -29.41570944, -29.30518264, -29.19465584, -29.08412904,\n",
       "        -28.97360224, -28.86307544, -28.75254864, -28.64202184,\n",
       "        -28.53149503, -28.42096823, -28.31044143, -28.19991463,\n",
       "        -28.08938783, -27.97886103, -27.86833423, -27.75780743,\n",
       "        -27.64728063, -27.53675383, -27.42622703, -27.31570023,\n",
       "        -27.20517343, -27.09464663, -26.98411983, -26.87359303,\n",
       "        -26.76306623, -26.65253943, -26.54201263, -26.43148583,\n",
       "        -26.32095903, -26.21043223, -26.09990543, -25.98937862,\n",
       "        -25.87885182, -25.76832502, -25.65779822, -25.54727142,\n",
       "        -25.43674462, -25.32621782, -25.21569102, -25.10516422,\n",
       "        -24.99463742, -24.88411062, -24.77358382, -24.66305702,\n",
       "        -24.55253022]),\n",
       " <matplotlib.collections.QuadMesh at 0x2aab0e7bbcf8>)"
      ]
     },
     "execution_count": 165,
     "metadata": {},
     "output_type": "execute_result"
    },
    {
     "data": {
      "image/png": "[encoded data removed]",
      "text/plain": [
       "<Figure size 432x288 with 1 Axes>"
      ]
     },
     "metadata": {
      "needs_background": "light"
     },
     "output_type": "display_data"
    }
   ],
   "source": [
    "#cut out the CosmoDC2 region from KCMB\n",
    "nside = 512\n",
    "healpix_id = get_healpixel_footprint(data['ra'][redshift_mask], data['dec'][redshift_mask], nside) \n",
    "print(healpix_id)\n",
    "npix = hp.nside2npix(nside)\n",
    "m = np.zeros(npix)\n",
    "m[healpix_id]=1\n",
    "new = hp.ud_grade(m, 4096)\n",
    "cmb_mask = new>0\n",
    "ra_K = np.degrees(phi[cmb_mask])\n",
    "dec_K = np.degrees(np.pi/2-theta[cmb_mask])\n",
    "kcmb = mapfile[cmb_mask]\n",
    "plt.hist2d(ra_K, dec_K, bins=200)"
   ]
  },
  {
   "cell_type": "code",
   "execution_count": 41,
   "metadata": {},
   "outputs": [
    {
     "name": "stdout",
     "output_type": "stream",
     "text": [
      "2160768\n"
     ]
    }
   ],
   "source": []
  },
  {
   "cell_type": "code",
   "execution_count": 166,
   "metadata": {},
   "outputs": [],
   "source": [
    "cat_N = treecorr.Catalog(ra=data['ra'][redshift_mask], dec=data['dec'][redshift_mask], ra_units='deg', dec_units='deg', npatch=40)\n",
    "Npatch = cat_N.get_patch_centers()\n",
    "#n = len(Npatch)\n",
    "#print(Npatch)"
   ]
  },
  {
   "cell_type": "code",
   "execution_count": 167,
   "metadata": {},
   "outputs": [],
   "source": [
    "cat_K = treecorr.Catalog(ra=ra_K, dec=dec_K, k=kcmb, ra_units='deg', dec_units='deg', patch_centers=Npatch)"
   ]
  },
  {
   "cell_type": "code",
   "execution_count": 168,
   "metadata": {},
   "outputs": [],
   "source": [
    "#generate random ra and dec\n",
    "n = len(data['ra'][redshift_mask])\n",
    "nside = 512\n",
    "healpix_id = get_healpixel_footprint(data['ra'][redshift_mask], data['dec'][redshift_mask], nside) #calculate NK with random galaxy distribution \n",
    "ra_random, dec_random = generate_uniform_random_ra_dec_footprint(n, footprint=healpix_id, nside=nside, nest=False)"
   ]
  },
  {
   "cell_type": "code",
   "execution_count": 169,
   "metadata": {},
   "outputs": [],
   "source": [
    "cat_N_random = treecorr.Catalog(ra=ra_random, dec=dec_random, ra_units='deg', dec_units='deg', patch_centers=Npatch)"
   ]
  },
  {
   "cell_type": "code",
   "execution_count": 170,
   "metadata": {},
   "outputs": [
    {
     "data": {
      "text/plain": [
       "Text(0.5, 0.98, 'NK Correlation Random')"
      ]
     },
     "execution_count": 170,
     "metadata": {},
     "output_type": "execute_result"
    },
    {
     "data": {
      "image/png": "[encoded data removed]",
      "text/plain": [
       "<Figure size 432x288 with 1 Axes>"
      ]
     },
     "metadata": {
      "needs_background": "light"
     },
     "output_type": "display_data"
    }
   ],
   "source": [
    "#calculate random correlation\n",
    "nk_rand = treecorr.NKCorrelation(nbins=20, min_sep=(2.5/60)*(np.pi/180), max_sep=(250./60)*(np.pi/180), var_method='jackknife')\n",
    "nk_rand.process(cat_N_random, cat_K)\n",
    "xi_nk_random = nk_rand.xi\n",
    "fig, ax = plt.subplots()\n",
    "ax.set_xscale('log')\n",
    "ax.errorbar(np.degrees(R_nk)*60, nk_rand.xi, yerr=np.sqrt(nk_rand.varxi))\n",
    "ax.set_title('0.5<z<0.6')\n",
    "ax.set_xlabel('angular separation [arcmin]')\n",
    "ax.set_ylabel('N-Kcmb correlation random')\n",
    "fig.suptitle('NK Correlation Random')"
   ]
  },
  {
   "cell_type": "code",
   "execution_count": 171,
   "metadata": {},
   "outputs": [],
   "source": [
    "nk = treecorr.NKCorrelation(nbins=20, min_sep=(2.5/60)*(np.pi/180), max_sep=(250./60)*(np.pi/180), var_method='jackknife')"
   ]
  },
  {
   "cell_type": "code",
   "execution_count": 172,
   "metadata": {},
   "outputs": [],
   "source": [
    "nk.process(cat_N, cat_K)"
   ]
  },
  {
   "cell_type": "code",
   "execution_count": 174,
   "metadata": {},
   "outputs": [],
   "source": [
    "nk.calculateXi(rk=nk_rand)\n",
    "xi_nk = nk.xi\n",
    "R_nk = np.exp(nk.logr)\n",
    "varxi_nk = nk.varxi"
   ]
  },
  {
   "cell_type": "code",
   "execution_count": 175,
   "metadata": {},
   "outputs": [
    {
     "data": {
      "text/plain": [
       "Text(0.5, 0.98, 'NK Correlation Random')"
      ]
     },
     "execution_count": 175,
     "metadata": {},
     "output_type": "execute_result"
    },
    {
     "data": {
      "image/png": "[encoded data removed]",
      "text/plain": [
       "<Figure size 432x288 with 1 Axes>"
      ]
     },
     "metadata": {
      "needs_background": "light"
     },
     "output_type": "display_data"
    }
   ],
   "source": [
    "fig, ax = plt.subplots()\n",
    "ax.set_xscale('log')\n",
    "ax.errorbar(np.degrees(R_nk)*60, xi_nk, yerr=np.sqrt(varxi_nk))\n",
    "ax.set_title('0.5<z<0.6')\n",
    "ax.set_xlabel('angular separation [arcmin]')\n",
    "ax.set_ylabel('N-Kcmb correlation')\n",
    "fig.suptitle('NK Correlation Random')\n",
    "#fig.savefig('NK_corrected(1).png',dpi=200)"
   ]
  },
  {
   "cell_type": "code",
   "execution_count": 176,
   "metadata": {},
   "outputs": [
    {
     "data": {
      "text/plain": [
       "Text(0.5, 1.0, '0.5<z<0.6')"
      ]
     },
     "execution_count": 176,
     "metadata": {},
     "output_type": "execute_result"
    },
    {
     "data": {
      "image/png": "[encoded data removed]",
      "text/plain": [
       "<Figure size 432x288 with 2 Axes>"
      ]
     },
     "metadata": {
      "needs_background": "light"
     },
     "output_type": "display_data"
    }
   ],
   "source": [
    "cov = nk.cov\n",
    "norm_cov = cov.copy()\n",
    "for i in range(len(cov)):\n",
    "    for j in range(len(cov)):\n",
    "        norm_cov[i][j]/=np.sqrt(cov[i][i]*cov[j][j])\n",
    "plt.imshow(norm_cov)\n",
    "plt.colorbar()\n",
    "plt.suptitle(\"NK Correlation Random\")\n",
    "plt.title('0.5<z<0.6')\n",
    "#plt.savefig(\"NK_cov_corrected(1).png\", dpi=200)"
   ]
  },
  {
   "cell_type": "code",
   "execution_count": null,
   "metadata": {},
   "outputs": [],
   "source": []
  }
 ],
 "metadata": {
  "kernelspec": {
   "display_name": "desc-python",
   "language": "python",
   "name": "desc-python"
  },
  "language_info": {
   "codemirror_mode": {
    "name": "ipython",
    "version": 3
   },
   "file_extension": ".py",
   "mimetype": "text/x-python",
   "name": "python",
   "nbconvert_exporter": "python",
   "pygments_lexer": "ipython3",
   "version": "3.7.2"
  }
 },
 "nbformat": 4,
 "nbformat_minor": 4
}
