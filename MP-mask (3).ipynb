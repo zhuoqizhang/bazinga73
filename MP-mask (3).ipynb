{
 "cells": [
  {
   "cell_type": "code",
   "execution_count": 76,
   "id": "29058c51-2e62-410d-acd9-39e13c872583",
   "metadata": {},
   "outputs": [],
   "source": [
    "import numpy as np\n",
    "import matplotlib.pyplot as plt\n",
    "import healpy as hp\n",
    "import pymaster as nmt\n",
    "import fitsio\n",
    "import tqdm"
   ]
  },
  {
   "cell_type": "code",
   "execution_count": 25,
   "id": "92cbc31b-87e3-496a-b82c-5e8bfa4f1350",
   "metadata": {},
   "outputs": [],
   "source": [
    "def MSE(d1,d2,weight=1):\n",
    "    return np.sum(np.real(weight*(d1-d2)*np.conjugate(d1-d2)))/np.size(d1)"
   ]
  },
  {
   "cell_type": "code",
   "execution_count": 5,
   "id": "054195e6-96a1-4288-bfab-8343f78a8a74",
   "metadata": {},
   "outputs": [],
   "source": [
    "dat = fitsio.read('/global/cscratch1/sd/zhzhuoqi/surf/run_sysnet/inputs/eBOSS.ELG.NGC.DR7.table.fits')\n",
    "inds = dat['hpix']"
   ]
  },
  {
   "cell_type": "code",
   "execution_count": 18,
   "id": "973ab4fd",
   "metadata": {},
   "outputs": [],
   "source": [
    "mask = np.zeros(hp.nside2npix(nside))\n",
    "mask[inds] = 1\n",
    "mask = mask.astype(np.bool_)\n",
    "mask_s = nmt.mask_apodization(mask, 1, apotype=\"C2\")"
   ]
  },
  {
   "cell_type": "code",
   "execution_count": 7,
   "id": "8e6bf431-ca87-443c-9fe5-b790eafaeb97",
   "metadata": {},
   "outputs": [
    {
     "name": "stderr",
     "output_type": "stream",
     "text": [
      "/tmp/ipykernel_52670/2443363870.py:6: RuntimeWarning: invalid value encountered in true_divide\n",
      "  s = cl_camb['W1xW1'][0:lmax]*2*np.pi/(ell*(ell+1))\n"
     ]
    }
   ],
   "source": [
    "nside = 256\n",
    "lmax = 3*nside\n",
    "\n",
    "cl_camb = np.load('cl_camb_nonlin_Y1.npy',allow_pickle=True).item()\n",
    "ell = np.arange(0,lmax)\n",
    "s = cl_camb['W1xW1'][0:lmax]*2*np.pi/(ell*(ell+1))\n",
    "s[0] = 0\n",
    "\n",
    "t0 = np.ones_like(ell)*2e-6\n",
    "t0[:2] = 0\n",
    "t1 = 5e-5/(ell+1)\n",
    "t1[:2] = 0\n",
    "t2 = 5e-4/(ell+1)**2\n",
    "t2[:2] = 0"
   ]
  },
  {
   "cell_type": "code",
   "execution_count": 109,
   "id": "6724caea-0188-404c-a6de-48ee1f11d83e",
   "metadata": {},
   "outputs": [],
   "source": [
    "smap = hp.synfast(s,nside)\n",
    "smap[~mask] = 0\n",
    "tmap1 = hp.synfast(t0,nside)\n",
    "tmap1[~mask] = 0\n",
    "tmap2 = hp.synfast(t0,nside)\n",
    "tmap2[~mask] = 0\n",
    "tmap3 = hp.synfast(t0,nside)\n",
    "tmap3[~mask] = 0"
   ]
  },
  {
   "cell_type": "code",
   "execution_count": 142,
   "id": "77ed85e0-163f-4f22-81e5-e56b13ff8cad",
   "metadata": {},
   "outputs": [],
   "source": [
    "def MP(dmap,t_arr):\n",
    "    b = nmt.NmtBin.from_nside_linear(nside, 4)\n",
    "    ell_eff = b.get_effective_ells()\n",
    "    n = len(t_arr)\n",
    "    sigma_td = np.zeros((n,1))\n",
    "    sigma_tt = np.zeros((n,n))\n",
    "\n",
    "    f_d = nmt.NmtField(mask, [dmap])\n",
    "    for i in range(len(t_arr)):\n",
    "        for j in range(0,i+1):\n",
    "            f_t1 = nmt.NmtField(mask, [t_arr[i]])\n",
    "            f_t2 = nmt.NmtField(mask, [t_arr[j]])\n",
    "            cl_tt = nmt.compute_full_master(f_t1, f_t2, b)\n",
    "            sigma_tt[i,j] = np.sum((2*ell_eff+1)*cl_tt)\n",
    "            sigma_tt[j,i] = np.sum((2*ell_eff+1)*cl_tt)\n",
    "        f_t = nmt.NmtField(mask, [t_arr[i]])\n",
    "        cl_td = nmt.compute_full_master(f_t, f_d, b) \n",
    "        sigma_td[i,0] = np.sum((2*ell_eff+1)*cl_td)\n",
    "    alpha = np.dot(np.linalg.inv(sigma_tt),sigma_td)\n",
    "    return alpha.reshape(-1)"
   ]
  },
  {
   "cell_type": "code",
   "execution_count": null,
   "id": "7c12c6b5-ba8e-45cb-9c8e-0e317dad7a05",
   "metadata": {},
   "outputs": [],
   "source": [
    "mses = []\n",
    "for _ in tqdm.trange(10):\n",
    "    np.random.seed(_)\n",
    "    smap = hp.synfast(s,nside)\n",
    "    smap[~mask] = 0\n",
    "    alpha1 = MP(smap,tmap1)\n",
    "    alpha2 = MP(smap,tmap2)\n",
    "    shat1 = smap - alpha1*tmap1\n",
    "    shat2 = smap - alpha2*tmap2\n",
    "    mses.append(MSE(shat1,shat2))"
   ]
  },
  {
   "cell_type": "code",
   "execution_count": 116,
   "id": "c5afbb87-e0b9-4ba8-97e6-0a1ffc421c09",
   "metadata": {},
   "outputs": [
    {
     "data": {
      "text/plain": [
       "[6.488092098303125e-07,\n",
       " 1.0939641740596981e-06,\n",
       " 4.165520148260136e-07,\n",
       " 1.096276351035692e-07,\n",
       " 5.492010520345762e-07,\n",
       " 3.0518341654372425e-07,\n",
       " 5.463031491445044e-07,\n",
       " 6.970191120377409e-07,\n",
       " 3.0550675211365955e-07,\n",
       " 1.1163701837788113e-07]"
      ]
     },
     "execution_count": 116,
     "metadata": {},
     "output_type": "execute_result"
    }
   ],
   "source": [
    "mses"
   ]
  },
  {
   "cell_type": "code",
   "execution_count": 157,
   "id": "b882921b-9648-4c10-b6a1-06f1301cd92e",
   "metadata": {},
   "outputs": [
    {
     "name": "stdout",
     "output_type": "stream",
     "text": [
      "6.524037008058986e-07\n"
     ]
    }
   ],
   "source": [
    "dmap = smap+1.*tmap1+1.*tmap2+1.*tmap3\n",
    "t_arr = np.array([tmap1,tmap2,tmap3])\n",
    "alpha1 = MP(dmap,t_arr)\n",
    "shat1 = dmap - np.dot(t_arr.T,alpha1)\n",
    "print(MSE(shat1,smap))"
   ]
  },
  {
   "cell_type": "code",
   "execution_count": 155,
   "id": "2cf62517-4fe1-4d5e-9979-40fe64a29670",
   "metadata": {},
   "outputs": [
    {
     "data": {
      "text/plain": [
       "1.6895383182126826"
      ]
     },
     "execution_count": 155,
     "metadata": {},
     "output_type": "execute_result"
    }
   ],
   "source": [
    "np.std(tmap1+tmap2+tmap3)/np.std(smap)"
   ]
  },
  {
   "cell_type": "code",
   "execution_count": 144,
   "id": "6e6c8aac-6b78-4209-affa-1dc43c96923c",
   "metadata": {},
   "outputs": [
    {
     "name": "stdout",
     "output_type": "stream",
     "text": [
      "2.514067434411412e-07\n"
     ]
    }
   ],
   "source": [
    "dmap = smap+tmap2\n",
    "alpha2 = MP(dmap,[tmap2])\n",
    "shat2 = dmap - alpha2*tmap2\n",
    "print(MSE(shat2,smap))"
   ]
  },
  {
   "cell_type": "code",
   "execution_count": 145,
   "id": "dbef562e-0037-4a47-b277-05be4c4ed8b9",
   "metadata": {},
   "outputs": [
    {
     "data": {
      "text/plain": [
       "2.8898083449106918e-06"
      ]
     },
     "execution_count": 145,
     "metadata": {},
     "output_type": "execute_result"
    }
   ],
   "source": [
    "MSE(shat1,shat2)"
   ]
  },
  {
   "cell_type": "code",
   "execution_count": 102,
   "id": "a1f35dc8-ec64-43c6-b285-5bf39c4cde3e",
   "metadata": {},
   "outputs": [
    {
     "data": {
      "text/plain": [
       "0.0061284082685368665"
      ]
     },
     "execution_count": 102,
     "metadata": {},
     "output_type": "execute_result"
    }
   ],
   "source": [
    "np.std(0.02*tmap3[mask])"
   ]
  },
  {
   "cell_type": "code",
   "execution_count": 103,
   "id": "55236754-d509-4c47-80c7-fe69d89cae93",
   "metadata": {},
   "outputs": [
    {
     "data": {
      "text/plain": [
       "0.4372748441747765"
      ]
     },
     "execution_count": 103,
     "metadata": {},
     "output_type": "execute_result"
    }
   ],
   "source": [
    "np.std(dmap[mask])"
   ]
  },
  {
   "cell_type": "code",
   "execution_count": 105,
   "id": "3c2b9286-1af5-4057-91c6-24752916ffea",
   "metadata": {},
   "outputs": [
    {
     "data": {
      "text/plain": [
       "0.018965814266210978"
      ]
     },
     "execution_count": 105,
     "metadata": {},
     "output_type": "execute_result"
    }
   ],
   "source": [
    "0.0061284082685368665/0.32312919353297087"
   ]
  },
  {
   "cell_type": "code",
   "execution_count": 101,
   "id": "0b8304bc-a673-422b-b057-55bf984027f6",
   "metadata": {},
   "outputs": [
    {
     "data": {
      "text/plain": [
       "[3.668763219889041e-06,\n",
       " 5.590627758646892e-06,\n",
       " 6.736967031757072e-06,\n",
       " 2.571422162469559e-07,\n",
       " 8.84840216652451e-07,\n",
       " 1.7662450285308214e-06,\n",
       " 3.958032050403614e-06,\n",
       " 2.716880304239235e-07,\n",
       " 3.9683204994917396e-07,\n",
       " 3.309471660304734e-07]"
      ]
     },
     "execution_count": 101,
     "metadata": {},
     "output_type": "execute_result"
    }
   ],
   "source": [
    "mses"
   ]
  },
  {
   "cell_type": "code",
   "execution_count": null,
   "id": "2b94155f-ed15-4f85-b096-303cd17b309f",
   "metadata": {},
   "outputs": [],
   "source": []
  }
 ],
 "metadata": {
  "kernelspec": {
   "display_name": "desc-python",
   "language": "python",
   "name": "desc-python"
  },
  "language_info": {
   "codemirror_mode": {
    "name": "ipython",
    "version": 3
   },
   "file_extension": ".py",
   "mimetype": "text/x-python",
   "name": "python",
   "nbconvert_exporter": "python",
   "pygments_lexer": "ipython3",
   "version": "3.8.12"
  }
 },
 "nbformat": 4,
 "nbformat_minor": 5
}
