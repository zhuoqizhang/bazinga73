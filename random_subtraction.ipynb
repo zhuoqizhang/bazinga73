{
 "cells": [
  {
   "cell_type": "code",
   "execution_count": 18,
   "metadata": {},
   "outputs": [],
   "source": [
    "import sys\n",
    "sys.path.insert(0, '/global/homes/z/zhzhuoqi/.local/cori/3.7-anaconda-2019.10/lib/python3.7/site-packages/TreeCorr-4.1-py3.7-linux-x86_64.egg')"
   ]
  },
  {
   "cell_type": "code",
   "execution_count": 19,
   "metadata": {},
   "outputs": [
    {
     "data": {
      "text/plain": [
       "'4.1'"
      ]
     },
     "execution_count": 19,
     "metadata": {},
     "output_type": "execute_result"
    }
   ],
   "source": [
    "import treecorr\n",
    "treecorr.__version__"
   ]
  },
  {
   "cell_type": "code",
   "execution_count": 20,
   "metadata": {},
   "outputs": [],
   "source": [
    "import GCRCatalogs\n",
    "import numpy as np\n",
    "import pyccl as ccl\n",
    "import matplotlib.pyplot as plt\n",
    "import healpy as hp\n",
    "import camb\n",
    "import camb.correlations\n",
    "import matplotlib.colors as clr\n",
    "import matplotlib.pyplot as plt\n",
    "from matplotlib.pyplot import imshow, show, colorbar"
   ]
  },
  {
   "cell_type": "code",
   "execution_count": 21,
   "metadata": {},
   "outputs": [],
   "source": [
    "def get_healpixel_footprint(ra, dec, nside, nest=False, count_threshold=None):\n",
    "    pixels = hp.ang2pix(nside, ra, dec, nest=nest, lonlat=True)\n",
    "    if count_threshold and count_threshold > 1:\n",
    "        pixels, counts = np.unique(pixels, return_counts=True)\n",
    "        return pixels[counts >= count_threshold]\n",
    "    return np.unique(pixels)"
   ]
  },
  {
   "cell_type": "code",
   "execution_count": 22,
   "metadata": {},
   "outputs": [],
   "source": [
    "def generate_uniform_random_ra_dec_healpixel(n, pix, nside, nest=False):\n",
    "\n",
    "    ra, dec = hp.vec2ang(hp.boundaries(nside, pix, 1, nest=nest).T, lonlat=True)\n",
    "    ra_dec_min_max = ra.min(), ra.max(), dec.min(), dec.max()\n",
    "\n",
    "    ra = np.empty(n)\n",
    "    dec = np.empty_like(ra)\n",
    "    n_needed = n\n",
    "\n",
    "    while n_needed > 0:\n",
    "        ra_this, dec_this = generate_uniform_random_ra_dec_min_max(n_needed*2, *ra_dec_min_max)\n",
    "        mask = np.where(hp.ang2pix(nside, ra_this, dec_this, nest=nest, lonlat=True) == pix)[0]\n",
    "        count_this = mask.size\n",
    "        if n_needed - count_this < 0:\n",
    "            count_this = n_needed\n",
    "            mask = mask[:n_needed]\n",
    "\n",
    "        s = slice(-n_needed, -n_needed+count_this if -n_needed+count_this < 0 else None)\n",
    "        ra[s] = ra_this[mask]\n",
    "        dec[s] = dec_this[mask]\n",
    "        n_needed -= count_this\n",
    "\n",
    "    return ra, dec\n",
    "\n",
    "def generate_uniform_random_ra_dec_min_max(n, ra_min, ra_max, dec_min, dec_max):\n",
    "\n",
    "    ra = np.random.uniform(ra_min, ra_max, size=n)\n",
    "    dec = np.random.uniform(np.sin(np.deg2rad(dec_min)), np.sin(np.deg2rad(dec_max)), size=n)\n",
    "    dec = np.arcsin(dec, out=dec)\n",
    "    dec = np.rad2deg(dec, out=dec)\n",
    "    return ra, dec\n"
   ]
  },
  {
   "cell_type": "code",
   "execution_count": 23,
   "metadata": {},
   "outputs": [],
   "source": [
    "def generate_uniform_random_ra_dec_footprint(n, footprint=None, nside=None, nest=False):\n",
    "\n",
    "    if footprint is None or hp.nside2npix(nside) == len(footprint):\n",
    "        return generate_uniform_random_ra_dec(n)\n",
    "\n",
    "    n_per_pix_all = np.histogram(np.random.rand(n), np.linspace(0, 1, len(footprint)+1))[0]\n",
    "\n",
    "    ra = np.empty(n)\n",
    "    dec = np.empty_like(ra)\n",
    "    count = 0\n",
    "\n",
    "    for n_per_pix, pix in zip(n_per_pix_all, footprint):\n",
    "        ra_this, dec_this = generate_uniform_random_ra_dec_healpixel(n_per_pix, pix, nside, nest)\n",
    "        s = slice(count, count+n_per_pix)\n",
    "        ra[s] = ra_this\n",
    "        dec[s] = dec_this\n",
    "        count += n_per_pix\n",
    "\n",
    "    assert count == n\n",
    "\n",
    "    return ra, dec\n"
   ]
  },
  {
   "cell_type": "code",
   "execution_count": 24,
   "metadata": {},
   "outputs": [],
   "source": [
    "def theory_real_cross(lmax2, z_vals, n_vals, xvals):\n",
    "    ''' Compute the correlation between galaxy shear and CMB lensing in real space '''\n",
    "    ns = 0.963\n",
    "    s8 = .8\n",
    "\n",
    "    Omega_c = .22\n",
    "    Omega_b = .0045\n",
    "    h = 71./100.\n",
    "\n",
    "    cosmo_ccl = ccl.Cosmology(Omega_c=Omega_c, Omega_b=Omega_b, h=h, sigma8 = s8, n_s = ns)#, transfer_function='boltzmann_class', matter_power_spectrum='emu')\n",
    "    cmbl1 = ccl.CMBLensingTracer(cosmo_ccl, 1100) # second number is source redshift\n",
    "    lens1 = ccl.WeakLensingTracer(cosmo_ccl, dndz=(z_vals, n_vals))\n",
    "    ll = np.arange(lmax2)\n",
    "\n",
    "    num = ccl.NumberCountsTracer(cosmo_ccl, has_rsd=False, dndz=(z_vals, n_vals), bias = (z_vals,np.ones(len(z_vals))*1.3))\n",
    "    #cls = ccl.angular_cl(cosmo_ccl, cmbl1, cmbl1, ll)\n",
    "    cls = ccl.angular_cl(cosmo_ccl, lens1, cmbl1, ll) #k\n",
    "    cls_num = ccl.angular_cl(cosmo_ccl,num,cmbl1,ll) #nk\n",
    "    win = hp.pixwin(4096)[:lmax2]\n",
    "    cls = cls*win**2\n",
    "    pp3_2 = np.zeros((lmax2, 4))\n",
    "    pp3_2[:, 0] = cls[:] * (ll * (ll + 1.)) / (2. * np.pi)\n",
    "    cxvals = np.cos(xvals / (60.) / (180. / np.pi))\n",
    "    vals = camb.correlations.cl2corr(pp3_2, cxvals)#from fourier space to real space\n",
    "    #cls_num = cls_num*win**2\n",
    "    pp3_2 = np.zeros((lmax2, 4))\n",
    "    pp3_2[:, 0] = cls_num[:] * (ll * (ll + 1.)) / (2. * np.pi)\n",
    "    cxvals = np.cos(xvals / (60.) / (180. / np.pi))\n",
    "    vals2 = camb.correlations.cl2corr(pp3_2, cxvals)\n",
    "    return xvals, vals[:, 0], vals2[:, 0]"
   ]
  },
  {
   "cell_type": "code",
   "execution_count": 25,
   "metadata": {},
   "outputs": [],
   "source": [
    "filename = '/global/projecta/projectdirs/lsst/groups/CS/cosmoDC2/mass_sheets_behind_z3/cmb_maps/cmblensmap_total_gausshiz_masked.fits'"
   ]
  },
  {
   "cell_type": "code",
   "execution_count": 26,
   "metadata": {},
   "outputs": [
    {
     "name": "stdout",
     "output_type": "stream",
     "text": [
      "NSIDE = 4096\n",
      "ORDERING = RING in fits file\n",
      "INDXSCHM = IMPLICIT\n",
      "201326592\n"
     ]
    }
   ],
   "source": [
    "mapfile = hp.read_map(filename)\n",
    "print(len(mapfile))"
   ]
  },
  {
   "cell_type": "code",
   "execution_count": 17,
   "metadata": {},
   "outputs": [],
   "source": [
    "index = np.arange(201326592)\n",
    "theta, phi = hp.pix2ang(nside=4096, ipix=index)"
   ]
  },
  {
   "cell_type": "code",
   "execution_count": 13,
   "metadata": {},
   "outputs": [],
   "source": [
    "gc = GCRCatalogs.load_catalog('cosmoDC2')"
   ]
  },
  {
   "cell_type": "code",
   "execution_count": 14,
   "metadata": {},
   "outputs": [],
   "source": [
    "data = gc.get_quantities(['ra', 'dec', 'redshift', 'mag_i_lsst'], filters=['mag_i_lsst<22'])"
   ]
  },
  {
   "cell_type": "code",
   "execution_count": 15,
   "metadata": {},
   "outputs": [],
   "source": [
    "redshift_mask = (data['redshift']<0.5+0.1)*(data['redshift']>0.5)"
   ]
  },
  {
   "cell_type": "code",
   "execution_count": 27,
   "metadata": {},
   "outputs": [
    {
     "name": "stdout",
     "output_type": "stream",
     "text": [
      "[2227504 2227519 2227520 ... 2714559 2714575 2714591]\n"
     ]
    }
   ],
   "source": [
    "#cut out the CosmoDC2 region from KCMB\n",
    "nside = 512\n",
    "healpix_id = get_healpixel_footprint(data['ra'][redshift_mask], data['dec'][redshift_mask], nside) \n",
    "print(healpix_id)\n",
    "npix = hp.nside2npix(nside)\n",
    "m = np.zeros(npix)\n",
    "m[healpix_id]=1\n",
    "new = hp.ud_grade(m, 4096)\n",
    "cmb_mask = new>0\n",
    "ra_K = np.degrees(phi[cmb_mask])\n",
    "dec_K = np.degrees(np.pi/2-theta[cmb_mask])\n",
    "kcmb = mapfile[cmb_mask]\n",
    "#plt.hist2d(ra_K, dec_K, bins=200)\n",
    "cat_K = treecorr.Catalog(ra=ra_K, dec=dec_K, k=kcmb, ra_units='deg', dec_units='deg', npatch=40)"
   ]
  },
  {
   "cell_type": "code",
   "execution_count": 28,
   "metadata": {},
   "outputs": [],
   "source": [
    "cat_N = treecorr.Catalog(ra=data['ra'][redshift_mask], dec=data['dec'][redshift_mask], ra_units='deg', dec_units='deg', npatch=40)"
   ]
  },
  {
   "cell_type": "code",
   "execution_count": 29,
   "metadata": {},
   "outputs": [],
   "source": [
    "#generate random ra and dec\n",
    "n = len(data['ra'][redshift_mask])\n",
    "nside = 512\n",
    "healpix_id = get_healpixel_footprint(data['ra'][redshift_mask], data['dec'][redshift_mask], nside) #calculate NK with random galaxy distribution \n",
    "ra_random, dec_random = generate_uniform_random_ra_dec_footprint(n, footprint=healpix_id, nside=nside, nest=False)"
   ]
  },
  {
   "cell_type": "code",
   "execution_count": 30,
   "metadata": {},
   "outputs": [],
   "source": [
    "cat_N_random = treecorr.Catalog(ra=ra_random, dec=dec_random, ra_units='deg', dec_units='deg', npatch=40)"
   ]
  },
  {
   "cell_type": "code",
   "execution_count": 31,
   "metadata": {},
   "outputs": [],
   "source": [
    "#calculate random correlation\n",
    "nk_rand = treecorr.NKCorrelation(nbins=20, min_sep=(2.5/60)*(np.pi/180), max_sep=(250./60)*(np.pi/180), var_method='jackknife')\n",
    "nk_rand.process(cat_N_random, cat_K)\n",
    "xi_nk_random = nk_rand.xi"
   ]
  },
  {
   "cell_type": "code",
   "execution_count": 32,
   "metadata": {},
   "outputs": [],
   "source": [
    "nk = treecorr.NKCorrelation(nbins=20, min_sep=(2.5/60)*(np.pi/180), max_sep=(250./60)*(np.pi/180), var_method='jackknife')"
   ]
  },
  {
   "cell_type": "code",
   "execution_count": 33,
   "metadata": {},
   "outputs": [],
   "source": [
    "nk.process(cat_N, cat_K)"
   ]
  },
  {
   "cell_type": "code",
   "execution_count": 34,
   "metadata": {},
   "outputs": [
    {
     "ename": "AttributeError",
     "evalue": "'numpy.ndarray' object has no attribute 'xi'",
     "output_type": "error",
     "traceback": [
      "\u001b[0;31m---------------------------------------------------------------------------\u001b[0m",
      "\u001b[0;31mAttributeError\u001b[0m                            Traceback (most recent call last)",
      "\u001b[0;32m<ipython-input-34-9db6dde0bad0>\u001b[0m in \u001b[0;36m<module>\u001b[0;34m\u001b[0m\n\u001b[0;32m----> 1\u001b[0;31m \u001b[0mnk\u001b[0m\u001b[0;34m.\u001b[0m\u001b[0mcalculateXi\u001b[0m\u001b[0;34m(\u001b[0m\u001b[0mrk\u001b[0m\u001b[0;34m=\u001b[0m\u001b[0mxi_nk_random\u001b[0m\u001b[0;34m)\u001b[0m\u001b[0;34m\u001b[0m\u001b[0;34m\u001b[0m\u001b[0m\n\u001b[0m\u001b[1;32m      2\u001b[0m \u001b[0mxi_nk\u001b[0m \u001b[0;34m=\u001b[0m \u001b[0mnk\u001b[0m\u001b[0;34m.\u001b[0m\u001b[0mxi\u001b[0m\u001b[0;34m\u001b[0m\u001b[0;34m\u001b[0m\u001b[0m\n\u001b[1;32m      3\u001b[0m \u001b[0mR_nk\u001b[0m \u001b[0;34m=\u001b[0m \u001b[0mnp\u001b[0m\u001b[0;34m.\u001b[0m\u001b[0mexp\u001b[0m\u001b[0;34m(\u001b[0m\u001b[0mnk\u001b[0m\u001b[0;34m.\u001b[0m\u001b[0mlogr\u001b[0m\u001b[0;34m)\u001b[0m\u001b[0;34m\u001b[0m\u001b[0;34m\u001b[0m\u001b[0m\n\u001b[1;32m      4\u001b[0m \u001b[0mvarxi_nk\u001b[0m \u001b[0;34m=\u001b[0m \u001b[0mnk\u001b[0m\u001b[0;34m.\u001b[0m\u001b[0mvarxi\u001b[0m\u001b[0;34m\u001b[0m\u001b[0;34m\u001b[0m\u001b[0m\n",
      "\u001b[0;32m~/.local/cori/3.7-anaconda-2019.10/lib/python3.7/site-packages/TreeCorr-4.1-py3.7-linux-x86_64.egg/treecorr/nkcorrelation.py\u001b[0m in \u001b[0;36mcalculateXi\u001b[0;34m(self, rk)\u001b[0m\n\u001b[1;32m    355\u001b[0m         \"\"\"\n\u001b[1;32m    356\u001b[0m         \u001b[0;32mif\u001b[0m \u001b[0mrk\u001b[0m \u001b[0;32mis\u001b[0m \u001b[0;32mnot\u001b[0m \u001b[0;32mNone\u001b[0m\u001b[0;34m:\u001b[0m\u001b[0;34m\u001b[0m\u001b[0;34m\u001b[0m\u001b[0m\n\u001b[0;32m--> 357\u001b[0;31m             \u001b[0mself\u001b[0m\u001b[0;34m.\u001b[0m\u001b[0mxi\u001b[0m \u001b[0;34m=\u001b[0m \u001b[0mself\u001b[0m\u001b[0;34m.\u001b[0m\u001b[0mraw_xi\u001b[0m \u001b[0;34m-\u001b[0m \u001b[0mrk\u001b[0m\u001b[0;34m.\u001b[0m\u001b[0mxi\u001b[0m\u001b[0;34m\u001b[0m\u001b[0;34m\u001b[0m\u001b[0m\n\u001b[0m\u001b[1;32m    358\u001b[0m             \u001b[0mself\u001b[0m\u001b[0;34m.\u001b[0m\u001b[0mvarxi\u001b[0m \u001b[0;34m=\u001b[0m \u001b[0mself\u001b[0m\u001b[0;34m.\u001b[0m\u001b[0mraw_varxi\u001b[0m \u001b[0;34m+\u001b[0m \u001b[0mrk\u001b[0m\u001b[0;34m.\u001b[0m\u001b[0mvarxi\u001b[0m\u001b[0;34m\u001b[0m\u001b[0;34m\u001b[0m\u001b[0m\n\u001b[1;32m    359\u001b[0m \u001b[0;34m\u001b[0m\u001b[0m\n",
      "\u001b[0;31mAttributeError\u001b[0m: 'numpy.ndarray' object has no attribute 'xi'"
     ]
    }
   ],
   "source": [
    "nk.calculateXi(rk=xi_nk_random)\n",
    "xi_nk = nk.xi\n",
    "R_nk = np.exp(nk.logr)\n",
    "varxi_nk = nk.varxi"
   ]
  },
  {
   "cell_type": "code",
   "execution_count": null,
   "metadata": {},
   "outputs": [],
   "source": []
  }
 ],
 "metadata": {
  "kernelspec": {
   "display_name": "desc-python",
   "language": "python",
   "name": "desc-python"
  },
  "language_info": {
   "codemirror_mode": {
    "name": "ipython",
    "version": 3
   },
   "file_extension": ".py",
   "mimetype": "text/x-python",
   "name": "python",
   "nbconvert_exporter": "python",
   "pygments_lexer": "ipython3",
   "version": "3.7.2"
  }
 },
 "nbformat": 4,
 "nbformat_minor": 4
}
