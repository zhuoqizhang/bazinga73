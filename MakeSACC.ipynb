{
 "cells": [
  {
   "cell_type": "code",
   "execution_count": 3,
   "metadata": {},
   "outputs": [],
   "source": [
    "import pyccl as ccl\n",
    "import numpy as np\n",
    "import matplotlib.pyplot as plt\n",
    "import sacc"
   ]
  },
  {
   "cell_type": "code",
   "execution_count": 4,
   "metadata": {},
   "outputs": [],
   "source": [
    "s = sacc.Sacc()"
   ]
  },
  {
   "cell_type": "code",
   "execution_count": null,
   "metadata": {},
   "outputs": [],
   "source": [
    "# get n(z) from DC2\n",
    "# z1, nz1 --> lens\n",
    "# z2, nz2 --> source"
   ]
  },
  {
   "cell_type": "code",
   "execution_count": 6,
   "metadata": {},
   "outputs": [
    {
     "data": {
      "text/plain": [
       "(0.001, 1.1)"
      ]
     },
     "execution_count": 6,
     "metadata": {},
     "output_type": "execute_result"
    },
    {
     "data": {
      "image/png": "[encoded data removed]",
      "text/plain": [
       "<Figure size 432x288 with 1 Axes>"
      ]
     },
     "metadata": {
      "needs_background": "light"
     },
     "output_type": "display_data"
    }
   ],
   "source": [
    "# Beam\n",
    "fwhm = 60.  # 3 arcmin\n",
    "sigma = (fwhm / 2.355) * np.pi / 180 / 60\n",
    "ell_beam = np.arange(3000)\n",
    "beam = np.exp(-ell_beam * (ell_beam + 1) * sigma**2)\n",
    "plt.figure()\n",
    "plt.loglog(ell_beam, beam)\n",
    "plt.ylim([1E-3,1.1])"
   ]
  },
  {
   "cell_type": "code",
   "execution_count": 5,
   "metadata": {},
   "outputs": [
    {
     "ename": "NameError",
     "evalue": "name 'z' is not defined",
     "output_type": "error",
     "traceback": [
      "\u001b[0;31m---------------------------------------------------------------------------\u001b[0m",
      "\u001b[0;31mNameError\u001b[0m                                 Traceback (most recent call last)",
      "\u001b[0;32m<ipython-input-5-2d72327ed7e2>\u001b[0m in \u001b[0;36m<module>\u001b[0;34m\u001b[0m\n\u001b[1;32m      2\u001b[0m              \u001b[0mquantity\u001b[0m\u001b[0;34m=\u001b[0m\u001b[0;34m'galaxy_density'\u001b[0m\u001b[0;34m,\u001b[0m  \u001b[0;31m# Quantity\u001b[0m\u001b[0;34m\u001b[0m\u001b[0;34m\u001b[0m\u001b[0m\n\u001b[1;32m      3\u001b[0m              \u001b[0mspin\u001b[0m\u001b[0;34m=\u001b[0m\u001b[0;36m0\u001b[0m\u001b[0;34m,\u001b[0m  \u001b[0;31m# Spin\u001b[0m\u001b[0;34m\u001b[0m\u001b[0;34m\u001b[0m\u001b[0m\n\u001b[0;32m----> 4\u001b[0;31m              \u001b[0mz\u001b[0m\u001b[0;34m=\u001b[0m\u001b[0mz\u001b[0m\u001b[0;34m,\u001b[0m  \u001b[0;31m# z\u001b[0m\u001b[0;34m\u001b[0m\u001b[0;34m\u001b[0m\u001b[0m\n\u001b[0m\u001b[1;32m      5\u001b[0m              nz=nz)  # nz\n\u001b[1;32m      6\u001b[0m \u001b[0;31m# WL\u001b[0m\u001b[0;34m\u001b[0m\u001b[0;34m\u001b[0m\u001b[0;34m\u001b[0m\u001b[0m\n",
      "\u001b[0;31mNameError\u001b[0m: name 'z' is not defined"
     ]
    }
   ],
   "source": [
    "s.add_tracer('NZ', 'gc',  # Name\n",
    "             quantity='galaxy_density',  # Quantity\n",
    "             spin=0,  # Spin\n",
    "             z=z1,  # z\n",
    "             nz=nz1)  # nz\n",
    "# WL\n",
    "s.add_tracer('NZ', 'wl',  # Name\n",
    "             quantity='galaxy_shear',  # Quantity\n",
    "             spin=2,  # Spin\n",
    "             z=z2,  # z\n",
    "             nz=nz2,  # nz\n",
    "             extra_columns={'error': 0.1*nz},  # You can include extra columns for the N(z)\n",
    "             sigma_g=0.28)  # You can add any extra information as **kwargs\n",
    "# CMBK\n",
    "s.add_tracer('Map', 'ck',  # Name\n",
    "             quantity='cmb_convergence',  # Quantity\n",
    "             spin=0,  # Spin\n",
    "             ell=ell_beam, beam=beam)  # Beam"
   ]
  },
  {
   "cell_type": "code",
   "execution_count": null,
   "metadata": {},
   "outputs": [],
   "source": [
    "theta1 = np.arange(20) # log binning from 2.5-250 arcmin\n",
    "x1 = NK data vector\n",
    "\n",
    "theta2 = np.arange(20) # log binning from 2.5-250 arcmin\n",
    "x2 = NK data vector\n",
    "\n",
    "# NK\n",
    "s. add_theta_xi('xi_00', 'gc', 'ck', theta1, x1, window=None, tracers_later=False)\n",
    "# GK\n",
    "s. add_theta_xi('xi_0e', 'wl', 'ck', theta2, x2, window=None, tracers_later=False)\n",
    "\n",
    "# how to add multiple source/lens bins?\n"
   ]
  },
  {
   "cell_type": "code",
   "execution_count": null,
   "metadata": {},
   "outputs": [],
   "source": [
    "covar = JK covariance\n",
    "s.add_covariance(covar)"
   ]
  },
  {
   "cell_type": "code",
   "execution_count": null,
   "metadata": {},
   "outputs": [],
   "source": [
    "s.save_fits(\"cmblss.fits\", overwrite=True)"
   ]
  },
  {
   "cell_type": "code",
   "execution_count": null,
   "metadata": {},
   "outputs": [],
   "source": []
  },
  {
   "cell_type": "code",
   "execution_count": null,
   "metadata": {},
   "outputs": [],
   "source": [
    "# possible code to use for covariance -- Fourier \n",
    "\n",
    "fsky = 0.1\n",
    "n_cross = (n_maps * (n_maps + 1)) // 2\n",
    "covar = np.zeros([n_cross, n_ell, n_cross, n_ell])\n",
    "\n",
    "id_i = 0\n",
    "for i1 in range(n_maps):\n",
    "    for i2 in range(i1, n_maps):\n",
    "        id_j = 0\n",
    "        for j1 in range(n_maps):\n",
    "            for j2 in range(j1, n_maps):\n",
    "                cl_i1j1 = cls[i1, j1, :]\n",
    "                cl_i1j2 = cls[i1, j2, :]\n",
    "                cl_i2j1 = cls[i2, j1, :]\n",
    "                cl_i2j2 = cls[i2, j2, :]\n",
    "                # Knox formula\n",
    "                cov = (cl_i1j1 * cl_i2j2 + cl_i1j2 * cl_i2j1) / (d_ell * fsky * (2 * ells + 1))\n",
    "                covar[id_i, :, id_j, :] = np.diag(cov)\n",
    "                id_j += 1\n",
    "        id_i += 1\n",
    "covar = covar.reshape([n_cross * n_ell, n_cross * n_ell])\n",
    "\n",
    "# useful type table: https://github.com/LSSTDESC/sacc/blob/master/sacc/data_types.py"
   ]
  }
 ],
 "metadata": {
  "kernelspec": {
   "display_name": "desc-python",
   "language": "python",
   "name": "desc-python"
  },
  "language_info": {
   "codemirror_mode": {
    "name": "ipython",
    "version": 3
   },
   "file_extension": ".py",
   "mimetype": "text/x-python",
   "name": "python",
   "nbconvert_exporter": "python",
   "pygments_lexer": "ipython3",
   "version": "3.7.6"
  }
 },
 "nbformat": 4,
 "nbformat_minor": 4
}
