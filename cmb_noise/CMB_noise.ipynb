{
 "cells": [
  {
   "cell_type": "code",
   "execution_count": 1,
   "metadata": {},
   "outputs": [
    {
     "name": "stdout",
     "output_type": "stream",
     "text": [
      "CCL version you are using: 2.1.0\n",
      "/global/common/software/lsst/common/miniconda/py3.7-4.7.12.1-v1/envs/desc/lib/python3.7/site-packages/pyccl/__init__.py\n"
     ]
    }
   ],
   "source": [
    "import numpy as np\n",
    "import pylab as plt\n",
    "import pyccl as ccl\n",
    "import scipy\n",
    "from scipy.interpolate import interp1d\n",
    "\n",
    "\n",
    "import matplotlib\n",
    "\n",
    "\n",
    "%matplotlib inline\n",
    "\n",
    "print(\"CCL version you are using:\",ccl.__version__)\n",
    "print(ccl.__file__)\n",
    "ccl_dir = '/global/homes/z/zhzhuoqi/CCL/'"
   ]
  },
  {
   "cell_type": "code",
   "execution_count": 2,
   "metadata": {},
   "outputs": [],
   "source": [
    "import sys\n",
    "sys.path.insert(0, '/global/homes/z/zhzhuoqi/.local/lib/python2.7/site-packages/TreeCorr-4.1-py2.7-linux-x86_64.egg')"
   ]
  },
  {
   "cell_type": "code",
   "execution_count": 3,
   "metadata": {},
   "outputs": [
    {
     "data": {
      "text/plain": [
       "'4.1'"
      ]
     },
     "execution_count": 3,
     "metadata": {},
     "output_type": "execute_result"
    }
   ],
   "source": [
    "import treecorr\n",
    "treecorr.__version__"
   ]
  },
  {
   "cell_type": "code",
   "execution_count": 4,
   "metadata": {},
   "outputs": [],
   "source": [
    "import GCRCatalogs\n",
    "import numpy as np\n",
    "import pyccl as ccl\n",
    "import matplotlib.pyplot as plt\n",
    "import healpy as hp\n",
    "import camb\n",
    "import camb.correlations\n",
    "import matplotlib.colors as clr\n",
    "import matplotlib.pyplot as plt\n",
    "from matplotlib.pyplot import imshow, show, colorbar"
   ]
  },
  {
   "cell_type": "markdown",
   "metadata": {},
   "source": [
    "## Set up for Treecorr"
   ]
  },
  {
   "cell_type": "code",
   "execution_count": 5,
   "metadata": {},
   "outputs": [],
   "source": [
    "#functions in this cell are those for treecorr measurement\n",
    "\n",
    "def get_healpixel_footprint(ra, dec, nside, nest=False, count_threshold=None):\n",
    "    pixels = hp.ang2pix(nside, ra, dec, nest=nest, lonlat=True)\n",
    "    if count_threshold and count_threshold > 1:\n",
    "        pixels, counts = np.unique(pixels, return_counts=True)\n",
    "        return pixels[counts >= count_threshold]\n",
    "    return np.unique(pixels)\n",
    "def generate_uniform_random_ra_dec_healpixel(n, pix, nside, nest=False):\n",
    "\n",
    "    ra, dec = hp.vec2ang(hp.boundaries(nside, pix, 1, nest=nest).T, lonlat=True)\n",
    "    ra_dec_min_max = ra.min(), ra.max(), dec.min(), dec.max()\n",
    "\n",
    "    ra = np.empty(n)\n",
    "    dec = np.empty_like(ra)\n",
    "    n_needed = n\n",
    "\n",
    "    while n_needed > 0:\n",
    "        ra_this, dec_this = generate_uniform_random_ra_dec_min_max(n_needed*2, *ra_dec_min_max)\n",
    "        mask = np.where(hp.ang2pix(nside, ra_this, dec_this, nest=nest, lonlat=True) == pix)[0]\n",
    "        count_this = mask.size\n",
    "        if n_needed - count_this < 0:\n",
    "            count_this = n_needed\n",
    "            mask = mask[:n_needed]\n",
    "\n",
    "        s = slice(-n_needed, -n_needed+count_this if -n_needed+count_this < 0 else None)\n",
    "        ra[s] = ra_this[mask]\n",
    "        dec[s] = dec_this[mask]\n",
    "        n_needed -= count_this\n",
    "\n",
    "    return ra, dec\n",
    "\n",
    "def generate_uniform_random_ra_dec_min_max(n, ra_min, ra_max, dec_min, dec_max):\n",
    "\n",
    "    ra = np.random.uniform(ra_min, ra_max, size=n)\n",
    "    dec = np.random.uniform(np.sin(np.deg2rad(dec_min)), np.sin(np.deg2rad(dec_max)), size=n)\n",
    "    dec = np.arcsin(dec, out=dec)\n",
    "    dec = np.rad2deg(dec, out=dec)\n",
    "    return ra, dec\n",
    "\n",
    "def generate_uniform_random_ra_dec_footprint(n, footprint=None, nside=None, nest=False):\n",
    "\n",
    "    if footprint is None or hp.nside2npix(nside) == len(footprint):\n",
    "        return generate_uniform_random_ra_dec(n)\n",
    "\n",
    "    n_per_pix_all = np.histogram(np.random.rand(n), np.linspace(0, 1, len(footprint)+1))[0]\n",
    "\n",
    "    ra = np.empty(n)\n",
    "    dec = np.empty_like(ra)\n",
    "    count = 0\n",
    "\n",
    "    for n_per_pix, pix in zip(n_per_pix_all, footprint):\n",
    "        ra_this, dec_this = generate_uniform_random_ra_dec_healpixel(n_per_pix, pix, nside, nest)\n",
    "        s = slice(count, count+n_per_pix)\n",
    "        ra[s] = ra_this\n",
    "        dec[s] = dec_this\n",
    "        count += n_per_pix\n",
    "\n",
    "    assert count == n\n",
    "\n",
    "    return ra, dec"
   ]
  },
  {
   "cell_type": "code",
   "execution_count": 6,
   "metadata": {},
   "outputs": [],
   "source": [
    "def get_measurement(zmin, zmax, whichMap):\n",
    "    redshift_mask = (redshift<zmax)*(redshift>zmin)\n",
    "    index = np.arange(201326592)\n",
    "    theta, phi = hp.pix2ang(nside=4096, ipix=index)\n",
    "\n",
    "    #cut out the CosmoDC2 region from KCMB\n",
    "    nside = 512\n",
    "    healpix_id = get_healpixel_footprint(ra[redshift_mask], dec[redshift_mask], nside) \n",
    "    npix = hp.nside2npix(nside)\n",
    "    m = np.zeros(npix)\n",
    "    m[healpix_id]=1\n",
    "    new = hp.ud_grade(m, 4096)\n",
    "    cmb_mask = new>0\n",
    "    ra_K = np.degrees(phi[cmb_mask])\n",
    "    dec_K = np.degrees(np.pi/2-theta[cmb_mask])\n",
    "    kcmb = maps[whichMap][cmb_mask]\n",
    "\n",
    "    #number count catalog\n",
    "    cat_N = treecorr.Catalog(ra=ra[redshift_mask], dec=dec[redshift_mask], ra_units='deg', dec_units='deg', npatch=40)\n",
    "    Npatch = cat_N.patch\n",
    "    Npatch_center = cat_N.get_patch_centers()\n",
    "\n",
    "    #KCMB catalog\n",
    "    cat_K = treecorr.Catalog(ra=ra_K, dec=dec_K, k=kcmb, ra_units='deg', dec_units='deg', patch_centers=Npatch_center)\n",
    "    Kpatch=cat_K.patch\n",
    "\n",
    "    #generate random ra and dec\n",
    "    n = 10*len(ra[redshift_mask])\n",
    "    nside = 512\n",
    "    ra_random, dec_random = generate_uniform_random_ra_dec_footprint(n, footprint=healpix_id, nside=nside, nest=False)\n",
    "\n",
    "    #random catalog\n",
    "    cat_N_random = treecorr.Catalog(ra=ra_random, dec=dec_random, ra_units='deg', dec_units='deg', patch_centers=Npatch_center)\n",
    "    Rpatch=cat_N_random.patch\n",
    "\n",
    "    #random correlation with jackknife\n",
    "    nk_rand = treecorr.NKCorrelation(nbins=20, min_sep=(2.5/60)*(np.pi/180), max_sep=(250./60)*(np.pi/180), var_method='jackknife')\n",
    "    nk_rand.process(cat_N_random, cat_K)\n",
    "\n",
    "    #get NK predictions and errors\n",
    "    nk_jk = treecorr.NKCorrelation(nbins=20, min_sep=(2.5/60)*(np.pi/180), max_sep=(250./60)*(np.pi/180), var_method='jackknife')\n",
    "    nk_jk.process(cat_N, cat_K)\n",
    "    nk_jk.calculateXi(rk=nk_rand)\n",
    "    xi_nk = nk_jk.xi\n",
    "    R_nk = np.exp(nk_jk.logr)\n",
    "    cov_nk = nk_jk.cov\n",
    "\n",
    "    #shear catalog\n",
    "    #cat_G = treecorr.Catalog(ra=data['ra'][redshift_mask], dec=data['dec'][redshift_mask],g1=data['shear_1'][redshift_mask], g2=data['shear_2'][redshift_mask], ra_units='deg', dec_units='deg', patch_centers=Npatch_center)\n",
    "\n",
    "    #get GK predictions and errors\n",
    "    #kg = treecorr.KGCorrelation(nbins=32, min_sep=(2.5/60)*(np.pi/180), max_sep=(250./60)*(np.pi/180), var_method='jackknife')\n",
    "    #kg.process(cat_K, cat_G)\n",
    "    #xi_kg = kg.xi\n",
    "    #cov_kg = kg.cov\n",
    "    #R_kg = np.exp(kg.logr)\n",
    "\n",
    "    results = {}\n",
    "    results['R'] = np.degrees(R_nk)\n",
    "    results['nk'] = {}\n",
    "    results['nk']['xi'] = xi_nk\n",
    "    results['nk']['cov'] = cov_nk\n",
    "    #results['gk'] = {}\n",
    "    #results['gk']['xi'] = xi_kg\n",
    "    #results['gk']['var'] = cov_kg\n",
    "\n",
    "    \n",
    "    return results"
   ]
  },
  {
   "cell_type": "code",
   "execution_count": 7,
   "metadata": {},
   "outputs": [],
   "source": [
    "dec = np.loadtxt('/global/homes/z/zhzhuoqi/MCMC/dec.txt')\n",
    "ra = np.loadtxt('/global/homes/z/zhzhuoqi/MCMC/ra.txt')\n",
    "redshift = np.loadtxt('/global/homes/z/zhzhuoqi/MCMC/redshift.txt')"
   ]
  },
  {
   "cell_type": "markdown",
   "metadata": {},
   "source": [
    "## Load CMB Map"
   ]
  },
  {
   "cell_type": "code",
   "execution_count": 8,
   "metadata": {},
   "outputs": [],
   "source": [
    "maps = {}"
   ]
  },
  {
   "cell_type": "code",
   "execution_count": 9,
   "metadata": {},
   "outputs": [],
   "source": [
    "filename = '/global/projecta/projectdirs/lsst/groups/CS/cosmoDC2/mass_sheets_behind_z3/cmb_maps/cmblensmap_total_gausshiz_masked.fits'"
   ]
  },
  {
   "cell_type": "code",
   "execution_count": 10,
   "metadata": {},
   "outputs": [
    {
     "name": "stderr",
     "output_type": "stream",
     "text": [
      "/global/common/software/lsst/common/miniconda/py3.7-4.7.12.1-v1/envs/desc/lib/python3.7/site-packages/healpy/fitsfunc.py:352: UserWarning: If you are not specifying the input dtype and using the default np.float64 dtype of read_map(), please consider that it will change in a future version to None as to keep the same dtype of the input file: please explicitly set the dtype if it is important to you.\n",
      "  \"If you are not specifying the input dtype and using the default \"\n"
     ]
    },
    {
     "name": "stdout",
     "output_type": "stream",
     "text": [
      "NSIDE = 4096\n",
      "ORDERING = RING in fits file\n",
      "INDXSCHM = IMPLICIT\n",
      "201326592\n"
     ]
    }
   ],
   "source": [
    "mapfile = hp.read_map(filename)\n",
    "print(len(mapfile))\n",
    "maps['0']=mapfile"
   ]
  },
  {
   "cell_type": "markdown",
   "metadata": {},
   "source": [
    "## Generate Noise"
   ]
  },
  {
   "cell_type": "code",
   "execution_count": 11,
   "metadata": {},
   "outputs": [],
   "source": [
    "nlkk = np.loadtxt('nlkk.dat')"
   ]
  },
  {
   "cell_type": "code",
   "execution_count": 12,
   "metadata": {},
   "outputs": [
    {
     "data": {
      "text/plain": [
       "[<matplotlib.lines.Line2D at 0x2aaadcb618d0>]"
      ]
     },
     "execution_count": 12,
     "metadata": {},
     "output_type": "execute_result"
    },
    {
     "data": {
      "image/png": "[encoded data removed]",
      "text/plain": [
       "<Figure size 432x288 with 1 Axes>"
      ]
     },
     "metadata": {
      "needs_background": "light"
     },
     "output_type": "display_data"
    }
   ],
   "source": [
    "ell_noise = nlkk.T[0]\n",
    "noise = nlkk.T[1]\n",
    "plt.plot(ell_noise[:3072], noise[:3072])"
   ]
  },
  {
   "cell_type": "code",
   "execution_count": 13,
   "metadata": {},
   "outputs": [
    {
     "name": "stderr",
     "output_type": "stream",
     "text": [
      "/global/common/software/lsst/common/miniconda/py3.7-4.7.12.1-v1/envs/desc/lib/python3.7/site-packages/healpy/sphtfunc.py:400: FutureChangeWarning: The order of the input cl's will change in a future release.\n",
      "Use new=True keyword to start using the new order.\n",
      "See documentation of healpy.synalm.\n",
      "  category=FutureChangeWarning,\n"
     ]
    },
    {
     "name": "stdout",
     "output_type": "stream",
     "text": [
      "Sigma is 0.000000 arcmin (0.000000 rad) \n",
      "-> fwhm is 0.000000 arcmin\n"
     ]
    }
   ],
   "source": [
    "alm_noise1 = hp.synalm(noise, lmax = 3000)\n",
    "map_noise1 = hp.alm2map(alm_noise1, 4096)\n",
    "\n",
    "maps['1'] = mapfile+map_noise1"
   ]
  },
  {
   "cell_type": "code",
   "execution_count": 14,
   "metadata": {},
   "outputs": [
    {
     "name": "stdout",
     "output_type": "stream",
     "text": [
      "Sigma is 0.000000 arcmin (0.000000 rad) \n",
      "-> fwhm is 0.000000 arcmin\n"
     ]
    }
   ],
   "source": [
    "alm_noise2 = hp.synalm(noise, lmax = 3000)\n",
    "map_noise2 = hp.alm2map(alm_noise2, 4096)\n",
    "\n",
    "maps['2'] = mapfile+map_noise2"
   ]
  },
  {
   "cell_type": "code",
   "execution_count": 15,
   "metadata": {},
   "outputs": [
    {
     "name": "stdout",
     "output_type": "stream",
     "text": [
      "Sigma is 0.000000 arcmin (0.000000 rad) \n",
      "-> fwhm is 0.000000 arcmin\n"
     ]
    }
   ],
   "source": [
    "alm_noise3 = hp.synalm(noise, lmax = 3000)\n",
    "map_noise3 = hp.alm2map(alm_noise3, 4096)\n",
    "\n",
    "maps['3'] = mapfile+map_noise3"
   ]
  },
  {
   "cell_type": "markdown",
   "metadata": {},
   "source": [
    "## Treecorr Measurement Without Noise"
   ]
  },
  {
   "cell_type": "code",
   "execution_count": 16,
   "metadata": {},
   "outputs": [],
   "source": [
    "measurement0 = get_measurement(0.40,0.70,'0')"
   ]
  },
  {
   "cell_type": "code",
   "execution_count": 17,
   "metadata": {},
   "outputs": [
    {
     "data": {
      "image/png": "[encoded data removed]",
      "text/plain": [
       "<Figure size 432x288 with 1 Axes>"
      ]
     },
     "metadata": {
      "needs_background": "light"
     },
     "output_type": "display_data"
    }
   ],
   "source": [
    "plt.errorbar(60*measurement0['R'],measurement0['nk']['xi'],yerr=np.sqrt(np.diag(measurement0['nk']['cov'])),color='blue')\n",
    "plt.xscale('log')"
   ]
  },
  {
   "cell_type": "markdown",
   "metadata": {},
   "source": [
    "## Treecorr Measurement With Noise"
   ]
  },
  {
   "cell_type": "code",
   "execution_count": 18,
   "metadata": {},
   "outputs": [
    {
     "data": {
      "text/plain": [
       "<matplotlib.legend.Legend at 0x2aaae7ef2810>"
      ]
     },
     "execution_count": 18,
     "metadata": {},
     "output_type": "execute_result"
    },
    {
     "data": {
      "image/png": "[encoded data removed]",
      "text/plain": [
       "<Figure size 432x288 with 1 Axes>"
      ]
     },
     "metadata": {
      "needs_background": "light"
     },
     "output_type": "display_data"
    }
   ],
   "source": [
    "measurement1 = get_measurement(0.40, 0.70,'1')\n",
    "plt.errorbar(60*measurement1['R'],measurement1['nk']['xi'],yerr=np.sqrt(np.diag(measurement1['nk']['cov'])),label='lmax=3000',color='red')\n",
    "plt.errorbar(60*measurement0['R'],measurement0['nk']['xi'],yerr=np.sqrt(np.diag(measurement0['nk']['cov'])),label='no noise',color='blue')\n",
    "plt.xscale('log')\n",
    "plt.legend()"
   ]
  },
  {
   "cell_type": "code",
   "execution_count": 19,
   "metadata": {},
   "outputs": [
    {
     "data": {
      "text/plain": [
       "<matplotlib.legend.Legend at 0x2aaae764c090>"
      ]
     },
     "execution_count": 19,
     "metadata": {},
     "output_type": "execute_result"
    },
    {
     "data": {
      "image/png": "[encoded data removed]",
      "text/plain": [
       "<Figure size 432x288 with 1 Axes>"
      ]
     },
     "metadata": {
      "needs_background": "light"
     },
     "output_type": "display_data"
    }
   ],
   "source": [
    "measurement2 = get_measurement(0.40, 0.70,'2')\n",
    "plt.errorbar(60*measurement2['R'],measurement2['nk']['xi'],yerr=np.sqrt(np.diag(measurement2['nk']['cov'])),label='lmax=3000',color='red')\n",
    "plt.errorbar(60*measurement0['R'],measurement0['nk']['xi'],yerr=np.sqrt(np.diag(measurement0['nk']['cov'])),label='no noise',color='blue')\n",
    "plt.xscale('log')\n",
    "plt.legend()"
   ]
  },
  {
   "cell_type": "code",
   "execution_count": 20,
   "metadata": {},
   "outputs": [
    {
     "data": {
      "text/plain": [
       "<matplotlib.legend.Legend at 0x2aaae7d53310>"
      ]
     },
     "execution_count": 20,
     "metadata": {},
     "output_type": "execute_result"
    },
    {
     "data": {
      "image/png": "[encoded data removed]",
      "text/plain": [
       "<Figure size 432x288 with 1 Axes>"
      ]
     },
     "metadata": {
      "needs_background": "light"
     },
     "output_type": "display_data"
    }
   ],
   "source": [
    "measurement3 = get_measurement(0.40, 0.70,'3')\n",
    "plt.errorbar(60*measurement3['R'],measurement3['nk']['xi'],yerr=np.sqrt(np.diag(measurement3['nk']['cov'])),label='lmax=3000',color='red')\n",
    "plt.errorbar(60*measurement0['R'],measurement0['nk']['xi'],yerr=np.sqrt(np.diag(measurement0['nk']['cov'])),label='no noise',color='blue')\n",
    "plt.xscale('log')\n",
    "plt.legend()"
   ]
  },
  {
   "cell_type": "code",
   "execution_count": null,
   "metadata": {},
   "outputs": [],
   "source": []
  }
 ],
 "metadata": {
  "kernelspec": {
   "display_name": "desc-python",
   "language": "python",
   "name": "desc-python"
  },
  "language_info": {
   "codemirror_mode": {
    "name": "ipython",
    "version": 3
   },
   "file_extension": ".py",
   "mimetype": "text/x-python",
   "name": "python",
   "nbconvert_exporter": "python",
   "pygments_lexer": "ipython3",
   "version": "3.7.6"
  }
 },
 "nbformat": 4,
 "nbformat_minor": 4
}
