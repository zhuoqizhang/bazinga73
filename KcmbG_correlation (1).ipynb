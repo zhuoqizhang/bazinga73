{
 "cells": [
  {
   "cell_type": "code",
   "execution_count": 1,
   "metadata": {},
   "outputs": [],
   "source": [
    "import treecorr\n",
    "import GCRCatalogs\n",
    "import numpy as np\n",
    "import matplotlib.pyplot as plt\n",
    "import healpy as hp\n",
    "%matplotlib inline"
   ]
  },
  {
   "cell_type": "code",
   "execution_count": 2,
   "metadata": {},
   "outputs": [],
   "source": [
    "filename = '/global/projecta/projectdirs/lsst/groups/CS/cosmoDC2/mass_sheets_behind_z3/cmb_maps/cmblensmap_total_gausshiz_masked.fits'"
   ]
  },
  {
   "cell_type": "code",
   "execution_count": 3,
   "metadata": {},
   "outputs": [
    {
     "name": "stdout",
     "output_type": "stream",
     "text": [
      "NSIDE = 4096\n",
      "ORDERING = RING in fits file\n",
      "INDXSCHM = IMPLICIT\n",
      "201326592\n"
     ]
    }
   ],
   "source": [
    "mapfile = hp.read_map(filename)\n",
    "print(len(mapfile))"
   ]
  },
  {
   "cell_type": "code",
   "execution_count": 4,
   "metadata": {},
   "outputs": [],
   "source": [
    "index = np.arange(201326592)"
   ]
  },
  {
   "cell_type": "code",
   "execution_count": 5,
   "metadata": {},
   "outputs": [
    {
     "name": "stdout",
     "output_type": "stream",
     "text": [
      "True\n"
     ]
    }
   ],
   "source": [
    "theta, phi = hp.pix2ang(nside=4096, ipix=index)\n",
    "mask_kcmb = (phi>0)*(phi<np.pi/2)*(theta>np.pi/2)\n",
    "print(True in mask_kcmb)"
   ]
  },
  {
   "cell_type": "markdown",
   "metadata": {},
   "source": [
    "the above is to pick up the octant that has data"
   ]
  },
  {
   "cell_type": "code",
   "execution_count": 39,
   "metadata": {},
   "outputs": [
    {
     "name": "stdout",
     "output_type": "stream",
     "text": [
      "[ 0.00170215  0.09302823  0.09426145 ... -0.06422222 -0.12017739\n",
      " -0.09952184]\n"
     ]
    }
   ],
   "source": [
    "kcmb = mapfile[mask_kcmb]\n",
    "ra_K = phi[mask_kcmb]\n",
    "dec_K = np.pi/2-theta[mask_kcmb]\n",
    "print(kcmb)"
   ]
  },
  {
   "cell_type": "markdown",
   "metadata": {},
   "source": [
    "Convert lon and lat to ra and dec (in rads)"
   ]
  },
  {
   "cell_type": "code",
   "execution_count": 7,
   "metadata": {},
   "outputs": [],
   "source": [
    "gc = GCRCatalogs.load_catalog('cosmoDC2_v1.1.4_small')"
   ]
  },
  {
   "cell_type": "code",
   "execution_count": 8,
   "metadata": {},
   "outputs": [],
   "source": [
    "data = gc.get_quantities(['ra', 'dec', 'shear_1', 'shear_2', 'redshift'])"
   ]
  },
  {
   "cell_type": "code",
   "execution_count": 32,
   "metadata": {},
   "outputs": [],
   "source": [
    "mask_redshift = (data['redshift']>0.2)*(data['redshift']<0.3) #the foreground shear?"
   ]
  },
  {
   "cell_type": "code",
   "execution_count": 33,
   "metadata": {},
   "outputs": [],
   "source": [
    "ra0 = data['ra'][mask_redshift]\n",
    "dec0 = data['dec'][mask_redshift]"
   ]
  },
  {
   "cell_type": "code",
   "execution_count": 34,
   "metadata": {},
   "outputs": [
    {
     "name": "stdout",
     "output_type": "stream",
     "text": [
      "[-39.03470387 -39.02967575 -39.02289191 ... -39.15142208 -39.15033602\n",
      " -39.18218801]\n"
     ]
    }
   ],
   "source": [
    "mask_G = (ra0>0)*(ra0<90)*(dec0<0)\n",
    "ra_G = ra0[mask_G]\n",
    "dec_G = dec0[mask_G]\n",
    "print(dec_G)"
   ]
  },
  {
   "cell_type": "markdown",
   "metadata": {},
   "source": [
    "restrict galaxies to the same octant where we have Kcmb data (in degrees)"
   ]
  },
  {
   "cell_type": "code",
   "execution_count": 40,
   "metadata": {},
   "outputs": [],
   "source": [
    "cat_G = treecorr.Catalog(ra=ra0, dec=dec0, ra_units='deg', dec_units='deg', g1=data['shear_1'][mask_redshift], g2=data['shear_2'][mask_redshift])\n",
    "cat_K = treecorr.Catalog(ra=ra_K, dec=dec_K, k=kcmb, ra_units='rad', dec_units='rad')"
   ]
  },
  {
   "cell_type": "code",
   "execution_count": 36,
   "metadata": {},
   "outputs": [],
   "source": [
    "kg = treecorr.KGCorrelation(nbins=20, min_sep=2.5/60/180/np.pi, max_sep=100./60/180/np.pi)"
   ]
  },
  {
   "cell_type": "code",
   "execution_count": 41,
   "metadata": {},
   "outputs": [],
   "source": [
    "kg.process(cat_K, cat_G)\n",
    "xi = kg.xi\n",
    "xi_im = kg.xi_im\n",
    "R = np.exp(kg.logr)"
   ]
  },
  {
   "cell_type": "code",
   "execution_count": 45,
   "metadata": {},
   "outputs": [
    {
     "data": {
      "text/plain": [
       "[<matplotlib.lines.Line2D at 0x2aaae176f1d0>]"
      ]
     },
     "execution_count": 45,
     "metadata": {},
     "output_type": "execute_result"
    },
    {
     "data": {
      "image/png": "[encoded data removed]",
      "text/plain": [
       "<Figure size 432x288 with 1 Axes>"
      ]
     },
     "metadata": {
      "needs_background": "light"
     },
     "output_type": "display_data"
    }
   ],
   "source": [
    "plt.plot(xi)\n",
    "plt.plot(xi_im)"
   ]
  },
  {
   "cell_type": "code",
   "execution_count": null,
   "metadata": {},
   "outputs": [],
   "source": []
  }
 ],
 "metadata": {
  "kernelspec": {
   "display_name": "desc-python",
   "language": "python",
   "name": "desc-python"
  },
  "language_info": {
   "codemirror_mode": {
    "name": "ipython",
    "version": 3
   },
   "file_extension": ".py",
   "mimetype": "text/x-python",
   "name": "python",
   "nbconvert_exporter": "python",
   "pygments_lexer": "ipython3",
   "version": "3.7.2"
  }
 },
 "nbformat": 4,
 "nbformat_minor": 4
}
