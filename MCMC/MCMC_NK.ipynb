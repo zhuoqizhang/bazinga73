{
 "cells": [
  {
   "cell_type": "markdown",
   "metadata": {},
   "source": [
    "# This is an MCMC on $\\Omega_c$ and NK Bias"
   ]
  },
  {
   "cell_type": "code",
   "execution_count": 1,
   "metadata": {},
   "outputs": [
    {
     "name": "stdout",
     "output_type": "stream",
     "text": [
      "CCL version you are using: 2.1.0\n",
      "/global/common/software/lsst/common/miniconda/py3.7-4.7.12.1-v1/envs/desc/lib/python3.7/site-packages/pyccl/__init__.py\n"
     ]
    }
   ],
   "source": [
    "import numpy as np\n",
    "import pylab as plt\n",
    "import pyccl as ccl\n",
    "import scipy\n",
    "from scipy.interpolate import interp1d\n",
    "\n",
    "import matplotlib\n",
    "\n",
    "\n",
    "%matplotlib inline\n",
    "\n",
    "print(\"CCL version you are using:\",ccl.__version__)\n",
    "print(ccl.__file__)\n",
    "ccl_dir = '/global/homes/z/zhzhuoqi/CCL/'"
   ]
  },
  {
   "cell_type": "code",
   "execution_count": 2,
   "metadata": {},
   "outputs": [],
   "source": [
    "import sys\n",
    "sys.path.insert(0, '/global/homes/z/zhzhuoqi/.local/lib/python2.7/site-packages/TreeCorr-4.1-py2.7-linux-x86_64.egg')"
   ]
  },
  {
   "cell_type": "code",
   "execution_count": 3,
   "metadata": {},
   "outputs": [
    {
     "data": {
      "text/plain": [
       "'4.1'"
      ]
     },
     "execution_count": 3,
     "metadata": {},
     "output_type": "execute_result"
    }
   ],
   "source": [
    "import treecorr\n",
    "treecorr.__version__"
   ]
  },
  {
   "cell_type": "code",
   "execution_count": 4,
   "metadata": {},
   "outputs": [],
   "source": [
    "import GCRCatalogs\n",
    "import numpy as np\n",
    "import pyccl as ccl\n",
    "import matplotlib.pyplot as plt\n",
    "import healpy as hp\n",
    "import camb\n",
    "import camb.correlations\n",
    "import matplotlib.colors as clr\n",
    "import matplotlib.pyplot as plt\n",
    "from matplotlib.pyplot import imshow, show, colorbar"
   ]
  },
  {
   "cell_type": "markdown",
   "metadata": {},
   "source": [
    "## This is the part for Treecorr measurement"
   ]
  },
  {
   "cell_type": "code",
   "execution_count": 5,
   "metadata": {},
   "outputs": [],
   "source": [
    "#functions in this cell are those for treecorr measurement\n",
    "\n",
    "def get_healpixel_footprint(ra, dec, nside, nest=False, count_threshold=None):\n",
    "    pixels = hp.ang2pix(nside, ra, dec, nest=nest, lonlat=True)\n",
    "    if count_threshold and count_threshold > 1:\n",
    "        pixels, counts = np.unique(pixels, return_counts=True)\n",
    "        return pixels[counts >= count_threshold]\n",
    "    return np.unique(pixels)\n",
    "def generate_uniform_random_ra_dec_healpixel(n, pix, nside, nest=False):\n",
    "\n",
    "    ra, dec = hp.vec2ang(hp.boundaries(nside, pix, 1, nest=nest).T, lonlat=True)\n",
    "    ra_dec_min_max = ra.min(), ra.max(), dec.min(), dec.max()\n",
    "\n",
    "    ra = np.empty(n)\n",
    "    dec = np.empty_like(ra)\n",
    "    n_needed = n\n",
    "\n",
    "    while n_needed > 0:\n",
    "        ra_this, dec_this = generate_uniform_random_ra_dec_min_max(n_needed*2, *ra_dec_min_max)\n",
    "        mask = np.where(hp.ang2pix(nside, ra_this, dec_this, nest=nest, lonlat=True) == pix)[0]\n",
    "        count_this = mask.size\n",
    "        if n_needed - count_this < 0:\n",
    "            count_this = n_needed\n",
    "            mask = mask[:n_needed]\n",
    "\n",
    "        s = slice(-n_needed, -n_needed+count_this if -n_needed+count_this < 0 else None)\n",
    "        ra[s] = ra_this[mask]\n",
    "        dec[s] = dec_this[mask]\n",
    "        n_needed -= count_this\n",
    "\n",
    "    return ra, dec\n",
    "\n",
    "def generate_uniform_random_ra_dec_min_max(n, ra_min, ra_max, dec_min, dec_max):\n",
    "\n",
    "    ra = np.random.uniform(ra_min, ra_max, size=n)\n",
    "    dec = np.random.uniform(np.sin(np.deg2rad(dec_min)), np.sin(np.deg2rad(dec_max)), size=n)\n",
    "    dec = np.arcsin(dec, out=dec)\n",
    "    dec = np.rad2deg(dec, out=dec)\n",
    "    return ra, dec\n",
    "\n",
    "def generate_uniform_random_ra_dec_footprint(n, footprint=None, nside=None, nest=False):\n",
    "\n",
    "    if footprint is None or hp.nside2npix(nside) == len(footprint):\n",
    "        return generate_uniform_random_ra_dec(n)\n",
    "\n",
    "    n_per_pix_all = np.histogram(np.random.rand(n), np.linspace(0, 1, len(footprint)+1))[0]\n",
    "\n",
    "    ra = np.empty(n)\n",
    "    dec = np.empty_like(ra)\n",
    "    count = 0\n",
    "\n",
    "    for n_per_pix, pix in zip(n_per_pix_all, footprint):\n",
    "        ra_this, dec_this = generate_uniform_random_ra_dec_healpixel(n_per_pix, pix, nside, nest)\n",
    "        s = slice(count, count+n_per_pix)\n",
    "        ra[s] = ra_this\n",
    "        dec[s] = dec_this\n",
    "        count += n_per_pix\n",
    "\n",
    "    assert count == n\n",
    "\n",
    "    return ra, dec"
   ]
  },
  {
   "cell_type": "code",
   "execution_count": 6,
   "metadata": {},
   "outputs": [],
   "source": [
    "filename = '/global/projecta/projectdirs/lsst/groups/CS/cosmoDC2/mass_sheets_behind_z3/cmb_maps/cmblensmap_total_gausshiz_masked.fits'"
   ]
  },
  {
   "cell_type": "code",
   "execution_count": 7,
   "metadata": {},
   "outputs": [
    {
     "name": "stderr",
     "output_type": "stream",
     "text": [
      "/global/common/software/lsst/common/miniconda/py3.7-4.7.12.1-v1/envs/desc/lib/python3.7/site-packages/healpy/fitsfunc.py:352: UserWarning: If you are not specifying the input dtype and using the default np.float64 dtype of read_map(), please consider that it will change in a future version to None as to keep the same dtype of the input file: please explicitly set the dtype if it is important to you.\n",
      "  \"If you are not specifying the input dtype and using the default \"\n"
     ]
    },
    {
     "name": "stdout",
     "output_type": "stream",
     "text": [
      "NSIDE = 4096\n",
      "ORDERING = RING in fits file\n",
      "INDXSCHM = IMPLICIT\n",
      "201326592\n"
     ]
    }
   ],
   "source": [
    "mapfile = hp.read_map(filename)\n",
    "print(len(mapfile))"
   ]
  },
  {
   "cell_type": "code",
   "execution_count": 8,
   "metadata": {},
   "outputs": [],
   "source": [
    "index = np.arange(201326592)\n",
    "theta, phi = hp.pix2ang(nside=4096, ipix=index)"
   ]
  },
  {
   "cell_type": "code",
   "execution_count": 9,
   "metadata": {},
   "outputs": [],
   "source": [
    "gc = GCRCatalogs.load_catalog('cosmoDC2')"
   ]
  },
  {
   "cell_type": "code",
   "execution_count": 10,
   "metadata": {},
   "outputs": [],
   "source": [
    "data = gc.get_quantities(['ra', 'dec', 'shear_1', 'shear_2', 'redshift', 'mag_i_lsst'], filters=['mag_i_lsst<22'])"
   ]
  },
  {
   "cell_type": "code",
   "execution_count": 11,
   "metadata": {},
   "outputs": [],
   "source": [
    "def get_measurement(zmax, zmin):\n",
    "    redshift_mask = (data['redshift']<zmax)*(data['redshift']>zmin)\n",
    "\n",
    "    #cut out the CosmoDC2 region from KCMB\n",
    "    nside = 512\n",
    "    healpix_id = get_healpixel_footprint(data['ra'][redshift_mask], data['dec'][redshift_mask], nside) \n",
    "    npix = hp.nside2npix(nside)\n",
    "    m = np.zeros(npix)\n",
    "    m[healpix_id]=1\n",
    "    new = hp.ud_grade(m, 4096)\n",
    "    cmb_mask = new>0\n",
    "    ra_K = np.degrees(phi[cmb_mask])\n",
    "    dec_K = np.degrees(np.pi/2-theta[cmb_mask])\n",
    "    kcmb = mapfile[cmb_mask]\n",
    "\n",
    "    #number count catalog\n",
    "    cat_N = treecorr.Catalog(ra=data['ra'][redshift_mask], dec=data['dec'][redshift_mask], ra_units='deg', dec_units='deg', npatch=40)\n",
    "    Npatch = cat_N.patch\n",
    "    Npatch_center = cat_N.get_patch_centers()\n",
    "\n",
    "    #KCMB catalog\n",
    "    cat_K = treecorr.Catalog(ra=ra_K, dec=dec_K, k=kcmb, ra_units='deg', dec_units='deg', patch_centers=Npatch_center)\n",
    "    Kpatch=cat_K.patch\n",
    "\n",
    "    #generate random ra and dec\n",
    "    n = 10*len(data['ra'][redshift_mask])\n",
    "    nside = 512\n",
    "    ra_random, dec_random = generate_uniform_random_ra_dec_footprint(n, footprint=healpix_id, nside=nside, nest=False)\n",
    "\n",
    "    #random catalog\n",
    "    cat_N_random = treecorr.Catalog(ra=ra_random, dec=dec_random, ra_units='deg', dec_units='deg', patch_centers=Npatch_center)\n",
    "    Rpatch=cat_N_random.patch\n",
    "\n",
    "    #random correlation with jackknife\n",
    "    nk_rand = treecorr.NKCorrelation(nbins=20, min_sep=(2.5/60)*(np.pi/180), max_sep=(250./60)*(np.pi/180), var_method='jackknife')\n",
    "    nk_rand.process(cat_N_random, cat_K)\n",
    "\n",
    "    #get NK predictions and errors\n",
    "    nk_jk = treecorr.NKCorrelation(nbins=20, min_sep=(2.5/60)*(np.pi/180), max_sep=(250./60)*(np.pi/180), var_method='jackknife')\n",
    "    nk_jk.process(cat_N, cat_K)\n",
    "    nk_jk.calculateXi(rk=nk_rand)\n",
    "    xi_nk = nk_jk.xi\n",
    "    R_nk = np.exp(nk_jk.logr)\n",
    "    cov_nk = nk_jk.cov\n",
    "\n",
    "    #shear catalog\n",
    "    cat_G = treecorr.Catalog(ra=data['ra'][redshift_mask], dec=data['dec'][redshift_mask],g1=data['shear_1'][redshift_mask], g2=data['shear_2'][redshift_mask], ra_units='deg', dec_units='deg', patch_centers=Npatch_center)\n",
    "\n",
    "    #get GK predictions and errors\n",
    "    kg = treecorr.KGCorrelation(nbins=20, min_sep=(2.5/60)*(np.pi/180), max_sep=(250./60)*(np.pi/180), var_method='jackknife')\n",
    "    kg.process(cat_K, cat_G)\n",
    "    xi_kg = kg.xi\n",
    "    cov_kg = kg.cov\n",
    "    R_kg = np.exp(kg.logr)\n",
    "\n",
    "    results = {}\n",
    "    results['R'] = np.degrees(R_kg)\n",
    "    results['nk'] = {}\n",
    "    results['nk']['xi'] = xi_nk\n",
    "    results['nk']['cov'] = cov_nk\n",
    "    results['gk'] = {}\n",
    "    results['gk']['xi'] = xi_kg\n",
    "    results['gk']['var'] = cov_kg\n",
    "\n",
    "    \n",
    "    return results"
   ]
  },
  {
   "cell_type": "code",
   "execution_count": 12,
   "metadata": {},
   "outputs": [],
   "source": [
    "#get measurement\n",
    "zmax = 0.62\n",
    "zmin = 0.43\n",
    "measurement = get_measurement(zmax, zmin)\n",
    "theta_deg = measurement['R']\n",
    "xi = measurement['nk']['xi']\n",
    "cov = measurement['nk']['cov']"
   ]
  },
  {
   "cell_type": "markdown",
   "metadata": {},
   "source": [
    "## This is the ccl part"
   ]
  },
  {
   "cell_type": "code",
   "execution_count": 13,
   "metadata": {},
   "outputs": [],
   "source": [
    "# some set-up for get_prediction function (pull out from the function to reduce MCMC running time)\n",
    "redshift_mask = (data['redshift']<zmax)*(data['redshift']>zmin)\n",
    "zhist = np.histogram(data['redshift'][redshift_mask], bins=100)\n",
    "#plt.xlabel('z')\n",
    "z = (zhist[1][1:]+zhist[1][:-1])/2\n",
    "z_h = zhist[0]/np.sum(zhist[0])\n",
    "\n",
    "ells=np.linspace(2,3000,2999).astype(int)\n",
    "\n",
    "#Limber prefactors \n",
    "lf_dl=(ells+0.5)**2/np.sqrt((ells+2.)*(ells+1.)*ells*(ells-1.))\n",
    "lf_dc=(ells+0.5)**2/(ells*(ells+1.))\n",
    "lf_ll=ells*(ells+1.)/np.sqrt((ells+2.)*(ells+1.)*ells*(ells-1.))"
   ]
  },
  {
   "cell_type": "code",
   "execution_count": 14,
   "metadata": {},
   "outputs": [],
   "source": [
    "def get_prediction(parameter, theta_deg): #parameter is an np array. parameter[0] is omega_c, parameter[1] is h\n",
    "\n",
    "    #generate bias\n",
    "    bz=parameter[1]*np.ones_like(z_h)\n",
    "\n",
    "    # Initialize tracers  \n",
    "    cosmo_cls=ccl.Cosmology(Omega_c=parameter[0], Omega_b=0.0045, Omega_g=0, Omega_k=0,\n",
    "                              h=0.71, sigma8=0.8, n_s=0.963, Neff=0, m_nu=0.0,\n",
    "                              w0=-1, wa=0, T_CMB=2.7, transfer_function='bbks',\n",
    "                              mass_function='tinker')\n",
    "    cosmo_cls.cosmo.gsl_params.INTEGRATION_LIMBER_EPSREL = 1E-4\n",
    "    cosmo_cls.cosmo.gsl_params.INTEGRATION_EPSREL = 1E-4   \n",
    "\n",
    "    #generate tracers \n",
    "    trcrs={}\n",
    "    trcrs['nc']=ccl.NumberCountsTracer(cosmo_cls,has_rsd=False,dndz=(z,z_h),bias=(z,bz))\n",
    "    #trcrs['wl']=ccl.WeakLensingTracer(cosmo_cls,dndz=(z,z_h))\n",
    "    trcrs['cmbl']=ccl.CMBLensingTracer(cosmo_cls,1100.)\n",
    "\n",
    "    #CCL Power spectra\n",
    "    cl_ccl={}\n",
    "    cl_ccl['nc/cmbl']=ccl.angular_cl(cosmo_cls,trcrs['nc'],trcrs['cmbl'],ells)*lf_dc\n",
    "    #cl_ccl['wl/cmbl']=ccl.angular_cl(cosmo_cls,trcrs['wl'],trcrs['cmbl'],ells)*lf_ll\n",
    "\n",
    "    win = hp.pixwin(4096)[:2999]\n",
    "    cl_ccl['nc/cmbl'] = cl_ccl['nc/cmbl']*win\n",
    "    #cl_ccl['wl/cmbl'] = cl_ccl['wl/cmbl']*win\n",
    "\n",
    "    #theta array \n",
    "    #theta_deg = np.degrees(R_kg)\n",
    "\n",
    "    #generate correlations from power spectrum \n",
    "    corr={}\n",
    "\n",
    "    ell = ells\n",
    "    cell = cl_ccl['nc/cmbl']\n",
    "    corr['nk'] = ccl.correlation(cosmo_cls, ell, cell, theta_deg, corr_type='GG', method='Bessel')\n",
    "\n",
    "    #cell = cl_ccl['wl/cmbl']\n",
    "    #corr['gk']=ccl.correlation(cosmo_cls, ell, cell, theta_deg, corr_type='GL', method='Bessel')\n",
    "    \n",
    "    \n",
    "    return corr"
   ]
  },
  {
   "cell_type": "markdown",
   "metadata": {},
   "source": [
    "## This is the MCMC part"
   ]
  },
  {
   "cell_type": "markdown",
   "metadata": {},
   "source": [
    "<font size=\"3\">Our log-likelihood function is $$L=-\\frac{1}{2}(D-M)^TC^{-1}(D-M)-\\frac{1}{2}\\ln\\det{C}-\\frac{N}{2}\\ln2\\pi$$ where $M$ is the measurement, $D$ is the prediction, $C$ is the Jackknife covariance matrix obtained in the treecorr measurement. Note that the last term is a constant."
   ]
  },
  {
   "cell_type": "code",
   "execution_count": 15,
   "metadata": {},
   "outputs": [],
   "source": [
    "def log_likelihood(parameter, theta_deg, xi, cov):\n",
    "    model = get_prediction(parameter, theta_deg)\n",
    "    D = model['nk']\n",
    "    C = cov\n",
    "    M = xi\n",
    "    L = - 0.5*np.dot(np.dot((D-M),scipy.linalg.inv(C)), D-M) - 0.5*np.log(scipy.linalg.det(cov))\n",
    "    return L\n"
   ]
  },
  {
   "cell_type": "markdown",
   "metadata": {},
   "source": [
    "<font size=\"3\">Here is the prior distribution"
   ]
  },
  {
   "cell_type": "code",
   "execution_count": 16,
   "metadata": {},
   "outputs": [],
   "source": [
    "def log_prior(parameter):\n",
    "    omega_c = parameter[0]\n",
    "    b = parameter[1]\n",
    "    if 0.1 < omega_c < 0.4 and 0.0 < b < 3.0:\n",
    "        return np.log(1.0/0.06)\n",
    "    return -np.inf"
   ]
  },
  {
   "cell_type": "code",
   "execution_count": 17,
   "metadata": {},
   "outputs": [],
   "source": [
    "def log_probability(parameter, theta_deg,xi,cov): \n",
    "    lp = log_prior(parameter)\n",
    "    if not np.isfinite(lp):\n",
    "        return -np.inf\n",
    "    return log_likelihood(parameter,theta_deg,xi,cov)"
   ]
  },
  {
   "cell_type": "code",
   "execution_count": 19,
   "metadata": {},
   "outputs": [
    {
     "name": "stderr",
     "output_type": "stream",
     "text": [
      "100%|██████████| 500/500 [2:42:12<00:00, 19.47s/it]  \n"
     ]
    }
   ],
   "source": [
    "import emcee\n",
    "\n",
    "pos = np.array([0.23, 1.00]) + 1e-2 * np.random.randn(32, 2)\n",
    "nwalkers, ndim = pos.shape\n",
    "\n",
    "sampler = emcee.EnsembleSampler(nwalkers, ndim, log_probability, args=(theta_deg, xi, cov))\n",
    "sampler.run_mcmc(pos, 500, progress=True);"
   ]
  },
  {
   "cell_type": "code",
   "execution_count": 20,
   "metadata": {},
   "outputs": [
    {
     "name": "stdout",
     "output_type": "stream",
     "text": [
      "(832, 2)\n"
     ]
    }
   ],
   "source": [
    "flat_samples = sampler.get_chain(discard=100, thin=15, flat=True)\n",
    "print(flat_samples.shape)"
   ]
  },
  {
   "cell_type": "code",
   "execution_count": 23,
   "metadata": {},
   "outputs": [
    {
     "data": {
      "image/png": "[encoded data removed]",
      "text/plain": [
       "<Figure size 396x396 with 4 Axes>"
      ]
     },
     "metadata": {
      "needs_background": "light"
     },
     "output_type": "display_data"
    }
   ],
   "source": [
    "import corner\n",
    "samples = sampler.get_chain()\n",
    "fig = corner.corner(\n",
    "    flat_samples, labels=[\"omega_c\", \"Bias\"]\n",
    ");"
   ]
  },
  {
   "cell_type": "code",
   "execution_count": 24,
   "metadata": {},
   "outputs": [
    {
     "name": "stdout",
     "output_type": "stream",
     "text": [
      "[0.12016493 1.44877004]\n"
     ]
    }
   ],
   "source": [
    "print(np.mean(flat_samples,axis=0))"
   ]
  },
  {
   "cell_type": "code",
   "execution_count": null,
   "metadata": {},
   "outputs": [],
   "source": []
  }
 ],
 "metadata": {
  "kernelspec": {
   "display_name": "desc-python",
   "language": "python",
   "name": "desc-python"
  },
  "language_info": {
   "codemirror_mode": {
    "name": "ipython",
    "version": 3
   },
   "file_extension": ".py",
   "mimetype": "text/x-python",
   "name": "python",
   "nbconvert_exporter": "python",
   "pygments_lexer": "ipython3",
   "version": "3.7.6"
  }
 },
 "nbformat": 4,
 "nbformat_minor": 4
}
