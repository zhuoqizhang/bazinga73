{
 "cells": [
  {
   "cell_type": "markdown",
   "metadata": {},
   "source": [
    "This notebook calculates NK-NK covariance of a same bin: 0.4<z<0.6"
   ]
  },
  {
   "cell_type": "code",
   "execution_count": 1,
   "metadata": {},
   "outputs": [],
   "source": [
    "import numpy as np\n",
    "import healpy as hp\n",
    "import matplotlib.pyplot as plt\n",
    "import pyccl as ccl\n",
    "import sys\n",
    "sys.path.insert(0, '/global/u1/z/zhzhuoqi/tjpcov/TJPCov')\n",
    "sys.path.insert(0, '/global/u1/z/zhzhuoqi/firecrown/firecrown/')\n",
    "sys.path.insert(0, '/global/homes/z/zhzhuoqi/.conda/envs/my-conda-env/lib/python3.8/site-packages/')\n",
    "sys.path.insert(0, '/global/common/software/lsst/common/miniconda/py3.7-4.7.12.1-v2/envs/desc/lib/python3.7/site-packages/')\n",
    "import pymaster as nmt\n",
    "from tjpcov import wigner_transform, bin_cov, parse"
   ]
  },
  {
   "cell_type": "code",
   "execution_count": 3,
   "metadata": {},
   "outputs": [
    {
     "name": "stderr",
     "output_type": "stream",
     "text": [
      "/global/common/software/lsst/common/miniconda/py3.7-4.7.12.1-v2/envs/desc/lib/python3.7/site-packages/healpy/fitsfunc.py:352: UserWarning: If you are not specifying the input dtype and using the default np.float64 dtype of read_map(), please consider that it will change in a future version to None as to keep the same dtype of the input file: please explicitly set the dtype if it is important to you.\n",
      "  \"If you are not specifying the input dtype and using the default \"\n"
     ]
    },
    {
     "name": "stdout",
     "output_type": "stream",
     "text": [
      "NSIDE = 1024\n",
      "ORDERING = RING in fits file\n",
      "INDXSCHM = IMPLICIT\n"
     ]
    }
   ],
   "source": [
    "# HEALPix map resolution\n",
    "nside = 1024\n",
    "\n",
    "# a) Read and apodize mask\n",
    "m = hp.read_map('mask.fits')\n",
    "m = hp.pixelfunc.ud_grade(m, nside)\n",
    "mask = nmt.mask_apodization(m,\n",
    "                            1., apotype=\"Smooth\")"
   ]
  },
  {
   "cell_type": "code",
   "execution_count": 4,
   "metadata": {},
   "outputs": [],
   "source": [
    "#generate ell according to map resolution\n",
    "ell = np.linspace(2, int(nside*3), int(nside*3-1))\n",
    "ell_bins = np.linspace(2, int(nside*3), int(nside*3./32))"
   ]
  },
  {
   "cell_type": "code",
   "execution_count": 5,
   "metadata": {},
   "outputs": [],
   "source": [
    "#ccl correlations\n",
    "def correlation(z, z_h): \n",
    "    \n",
    "    ell = np.linspace(2, int(nside*4), int(nside*4-1))\n",
    "    \n",
    "    #generate bias\n",
    "    bz=1.20*np.ones_like(z_h)\n",
    "\n",
    "    # Initialize tracers  \n",
    "    cosmo_cls=ccl.Cosmology(Omega_c=0.21, Omega_b=0.045, Omega_g=0, Omega_k=0,\n",
    "                              h=0.71, sigma8=0.80, n_s=0.964, Neff=0, m_nu=0.0,\n",
    "                              w0=-1, wa=0, T_CMB=2.7, transfer_function='bbks',\n",
    "                              mass_function='tinker')  \n",
    "\n",
    "    #generate tracers \n",
    "    trcrs = {}\n",
    "    trcrs['nc']=ccl.NumberCountsTracer(cosmo_cls,has_rsd=False,dndz=(z,z_h),bias=(z,bz))\n",
    "    trcrs['cmbl']=ccl.CMBLensingTracer(cosmo_cls,1100.)\n",
    "\n",
    "    #CCL Power spectra\n",
    "    cl_ccl = {}\n",
    "    cl_ccl['nk']=ccl.angular_cl(cosmo_cls,trcrs['nc'],trcrs['cmbl'],ell)\n",
    "    cl_ccl['nn']=ccl.angular_cl(cosmo_cls,trcrs['nc'],trcrs['nc'],ell)\n",
    "    cl_ccl['kk']=ccl.angular_cl(cosmo_cls,trcrs['cmbl'],trcrs['cmbl'],ell)\n",
    "\n",
    "    return cl_ccl\n"
   ]
  },
  {
   "cell_type": "code",
   "execution_count": 6,
   "metadata": {},
   "outputs": [],
   "source": [
    "z = np.loadtxt('/global/homes/z/zhzhuoqi/MCMC/map1/all_bins/NK/data/z80-100.txt')\n",
    "zn = np.loadtxt('/global/homes/z/zhzhuoqi/MCMC/map1/all_bins/NK/data/z_h80-100.txt')"
   ]
  },
  {
   "cell_type": "code",
   "execution_count": 7,
   "metadata": {},
   "outputs": [],
   "source": [
    "cmb_map = hp.read_map('cmb_masked.fits', verbose=False)\n",
    "cmb_map = hp.pixelfunc.ud_grade(cmb_map, nside)\n",
    "nc_map = hp.read_map('data/nc_80-100.fits', verbose=False)\n",
    "nc_map = hp.pixelfunc.ud_grade(nc_map, nside)\n",
    "g1_map = hp.read_map('data/g1_80-100.fits', verbose=False)\n",
    "g1_map = hp.pixelfunc.ud_grade(g1_map, nside)\n",
    "g2_map = hp.read_map('data/g2_80-100.fits', verbose=False)\n",
    "g2_map = hp.pixelfunc.ud_grade(g2_map, nside)"
   ]
  },
  {
   "cell_type": "code",
   "execution_count": 8,
   "metadata": {},
   "outputs": [],
   "source": [
    "def get_sample_field():\n",
    "    mp_t, mp_q, mp_u = hp.synfast([cl_nn_tt, cl_kk_ee, cl_kk_bb, cl_nk_te],\n",
    "                                  nside, verbose=False)\n",
    "    return nmt.NmtField(mask, [mp_t]), nmt.NmtField(mask, [mp_q, mp_u])\n",
    "\n",
    "\n",
    "# We also copy this function from sample_workspaces.py. It computes\n",
    "# power spectra given a pair of fields and a workspace.\n",
    "def compute_master(f_a, f_b, wsp):\n",
    "    cl_coupled = nmt.compute_coupled_cell(f_a, f_b)\n",
    "    cl_decoupled = wsp.decouple_cell(cl_coupled)\n",
    "\n",
    "    return cl_decoupled"
   ]
  },
  {
   "cell_type": "code",
   "execution_count": 9,
   "metadata": {},
   "outputs": [],
   "source": [
    "#load and generate tracer noise\n",
    "\n",
    "cmb_noise_smth = np.loadtxt('full_noise.txt')[2:nside*4+1]\n",
    "#cmb_noise_smth = np.interp(ell_bins[:-1], ell, cmb_noise)\n",
    "\n",
    "d2r=np.pi/180\n",
    "Ngal = 1.03 #arc_min^2\n",
    "sigma_e=.0097\n",
    "b = 1.0*np.ones(len(z)) #Galaxy bias (constant with scale and z)\n",
    "AI = .5*np.ones(len(z)) #Galaxy bias (constant with scale and z)\n",
    "Ngal=Ngal*3600/d2r**2\n",
    "\n",
    "NN_noise = 1./Ngal"
   ]
  },
  {
   "cell_type": "code",
   "execution_count": 10,
   "metadata": {},
   "outputs": [],
   "source": [
    "#get correlations\n",
    "cl_ccl = correlation(z, zn)\n",
    "cl_nn_tt = cl_ccl['nn'] + NN_noise\n",
    "cl_nk_tt = cl_ccl['nk']\n",
    "#cl_nk_tb = 0*cl_ccl['nk']\n",
    "cl_kk_tt = cl_ccl['kk'] + cmb_noise_smth\n",
    "#cl_kk_eb = 0*cl_ccl['kk']\n",
    "#cl_kk_bb = 0*cl_ccl['kk'] + cmb_noise_smth"
   ]
  },
  {
   "cell_type": "markdown",
   "metadata": {},
   "source": [
    "##### This is where I'm not sure"
   ]
  },
  {
   "cell_type": "code",
   "execution_count": 11,
   "metadata": {},
   "outputs": [],
   "source": [
    "fN = nmt.NmtField(mask, [nc_map])\n",
    "fG = nmt.NmtField(mask, [g1_map, g2_map])\n",
    "fCMB = nmt.NmtField(mask, [cmb_map])"
   ]
  },
  {
   "cell_type": "code",
   "execution_count": 12,
   "metadata": {},
   "outputs": [],
   "source": [
    "# generate bandpowers and weights based on ell \n",
    "bpws = np.digitize(ell, ell_bins)-1\n",
    "bpws[-1] = -1\n",
    "\n",
    "\n",
    "weights = []\n",
    "for i in range(0, max(bpws)+2):\n",
    "    count = np.count_nonzero(bpws == i)\n",
    "    for j in range (0, count):\n",
    "        weights.append(1./count)\n",
    "weights.append(1)\n",
    "weights = np.array(weights)"
   ]
  },
  {
   "cell_type": "code",
   "execution_count": 13,
   "metadata": {},
   "outputs": [
    {
     "name": "stdout",
     "output_type": "stream",
     "text": [
      "1024\n"
     ]
    }
   ],
   "source": [
    "print(nside)"
   ]
  },
  {
   "cell_type": "markdown",
   "metadata": {},
   "source": [
    "##### I basically follows namaster steps in the following cells"
   ]
  },
  {
   "cell_type": "code",
   "execution_count": 14,
   "metadata": {},
   "outputs": [
    {
     "name": "stdout",
     "output_type": "stream",
     "text": [
      "Workspace\n"
     ]
    }
   ],
   "source": [
    "b = nmt.NmtBin(nside=nside, ells=ell, bpws=bpws, weights=weights)\n",
    "print(\"Workspace\")\n",
    "w_nk = nmt.NmtWorkspace()\n",
    "w_nk.compute_coupling_matrix(fN, fCMB, b)\n",
    "cl_nk = compute_master(fN, fCMB, w_nk)\n",
    "n_ell = len(cl_nk[0])"
   ]
  },
  {
   "cell_type": "code",
   "execution_count": 15,
   "metadata": {},
   "outputs": [
    {
     "name": "stdout",
     "output_type": "stream",
     "text": [
      "Covariance\n"
     ]
    }
   ],
   "source": [
    "print(\"Covariance\")\n",
    "# First we generate a NmtCovarianceWorkspace object to precompute\n",
    "# and store the necessary coupling coefficients\n",
    "cw = nmt.NmtCovarianceWorkspace()\n",
    "# This is the time-consuming operation\n",
    "# Note that you only need to do this once,\n",
    "# regardless of spin\n",
    "cw.compute_coupling_coefficients(fN, fN, fN, fN)"
   ]
  },
  {
   "cell_type": "code",
   "execution_count": 75,
   "metadata": {},
   "outputs": [],
   "source": [
    "covar_00_00 = nmt.gaussian_covariance(cw, 0, 0, 0, 0,  # Spins of the 4 fields\n",
    "                                      [cl_nn_tt],  # TT    cla1b1\n",
    "                                      [cl_nk_tt],  # TE, TB cla1b2   \n",
    "                                      [cl_nk_tt],  # ET, BT cla2b1\n",
    "                                      [cl_kk_tt],  # EE, EB, BE, BB cla2b2    \n",
    "                                                       # \"2\" is a spin-2 field and has two components\n",
    "                                      wa=w_nk, wb=w_nk).reshape([n_ell, 1,\n",
    "                                                            n_ell, 1])\n",
    "\n",
    "\n",
    "covar_TT_TT = covar_00_00[:, 0, :, 0]"
   ]
  },
  {
   "cell_type": "code",
   "execution_count": 78,
   "metadata": {},
   "outputs": [
    {
     "data": {
      "text/plain": [
       "<matplotlib.colorbar.Colorbar at 0x2aad1d6efc10>"
      ]
     },
     "execution_count": 78,
     "metadata": {},
     "output_type": "execute_result"
    },
    {
     "data": {
      "image/png": "[encoded data removed]",
      "text/plain": [
       "<Figure size 432x288 with 2 Axes>"
      ]
     },
     "metadata": {
      "needs_background": "light"
     },
     "output_type": "display_data"
    }
   ],
   "source": [
    "# This is the binned cl covariance of NK-NK from the redshift bin 0.8<z<1.0\n",
    "plt.imshow(covar_TT_TT)\n",
    "plt.colorbar()"
   ]
  },
  {
   "cell_type": "code",
   "execution_count": 71,
   "metadata": {},
   "outputs": [],
   "source": [
    "np.savetxt('covar_TT_TT.txt',covar_TT_TT)"
   ]
  },
  {
   "cell_type": "code",
   "execution_count": 66,
   "metadata": {},
   "outputs": [],
   "source": [
    "# Wigner transform, from TJPcov\n",
    "tracer_comb1 = ['gc0','ck']\n",
    "tracer_comb2 = ['gc0','ck']\n",
    "\n",
    "WT_factors={}\n",
    "WT_factors['ck','wl']=(0,2)\n",
    "WT_factors['wl','ck']=(2,0)\n",
    "WT_factors['gc','ck']=(0,0)\n",
    "WT_factors['ck','gc']=(0,0)\n",
    "\n",
    "\n",
    "def get_cov_WT_spin(tracer_comb=None):\n",
    "#     tracers=tuple(i.split('_')[0] for i in tracer_comb)\n",
    "    tracers=[]\n",
    "    for i in tracer_comb:\n",
    "        if 'ck' in i:\n",
    "            tracers+=['ck']\n",
    "        if 'wl' in i:\n",
    "            tracers+=['wl']\n",
    "        if 'gc' in i:\n",
    "            tracers += ['gc'] \n",
    "    return WT_factors[tuple(tracers)]\n",
    "\n",
    "\n",
    "\n",
    "th_min=1/60 # in degrees\n",
    "th_max=300./60\n",
    "n_th_bins=20\n",
    "th_bins=np.logspace(np.log10(2.5/60.),np.log10(250./60.),n_th_bins+1)\n",
    "th=np.logspace(np.log10(th_min),np.log10(th_max),3000) #covariance is oversampled at th values and then binned.\n",
    "th2=np.linspace(1,th_max*1.02,3000) #binned covariance can be sensitive to the th values. Make sue you check convergence for your application\n",
    "th=np.unique(np.sort(np.append(th,th2)))\n",
    "thb=0.5*(th_bins[1:]+th_bins[:-1])\n",
    "ell_wtf = ell_bins[1:]\n",
    "# Wigner Transform setup... \n",
    "WT_kwargs={'l': ell_wtf, \n",
    "           'theta': th*d2r,'s1_s2':[(0,2),(2,0),(0,0)]}\n",
    "WT=wigner_transform(**WT_kwargs)\n",
    "\n",
    "fsky = 445./(4*np.pi*((180.**2)/(np.pi**2)))\n",
    "norm=np.pi*4*fsky\n",
    "\n",
    "\n",
    "s1_s2_1=get_cov_WT_spin(tracer_comb=tracer_comb1)\n",
    "s1_s2_2=get_cov_WT_spin(tracer_comb=tracer_comb2)\n",
    "if isinstance(s1_s2_1,dict):\n",
    "    s1_s2_1=s1_s2_1[xi_plus_minus1] \n",
    "if isinstance(s1_s2_2,dict):\n",
    "    s1_s2_2=s1_s2_2[xi_plus_minus2] \n",
    "th,cov_=WT.projected_covariance2(l_cl=ell_wtf,s1_s2=s1_s2_1, s1_s2_cross=s1_s2_2,\n",
    "                                              cl_cov=covar_TT_TT)\n",
    "\n",
    "covar_TT_TT = covar_TT_TT/norm\n",
    "thb,cov=bin_cov(r=th/d2r,r_bins=th_bins,cov=cov_) \n"
   ]
  },
  {
   "cell_type": "code",
   "execution_count": 67,
   "metadata": {},
   "outputs": [
    {
     "data": {
      "text/plain": [
       "<matplotlib.colorbar.Colorbar at 0x2aad1e3f00d0>"
      ]
     },
     "execution_count": 67,
     "metadata": {},
     "output_type": "execute_result"
    },
    {
     "data": {
      "image/png": "[encoded data removed]",
      "text/plain": [
       "<Figure size 432x288 with 2 Axes>"
      ]
     },
     "metadata": {
      "needs_background": "light"
     },
     "output_type": "display_data"
    }
   ],
   "source": [
    "#cw fields\n",
    "plt.imshow(cov)\n",
    "plt.colorbar()"
   ]
  },
  {
   "cell_type": "code",
   "execution_count": null,
   "metadata": {},
   "outputs": [],
   "source": []
  }
 ],
 "metadata": {
  "kernelspec": {
   "display_name": "desc-python",
   "language": "python",
   "name": "desc-python"
  },
  "language_info": {
   "codemirror_mode": {
    "name": "ipython",
    "version": 3
   },
   "file_extension": ".py",
   "mimetype": "text/x-python",
   "name": "python",
   "nbconvert_exporter": "python",
   "pygments_lexer": "ipython3",
   "version": "3.7.6"
  }
 },
 "nbformat": 4,
 "nbformat_minor": 4
}
