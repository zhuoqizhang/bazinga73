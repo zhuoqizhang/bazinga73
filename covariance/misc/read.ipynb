{
 "cells": [
  {
   "cell_type": "markdown",
   "metadata": {},
   "source": [
    "### n and nz"
   ]
  },
  {
   "cell_type": "code",
   "execution_count": 4,
   "metadata": {},
   "outputs": [],
   "source": [
    "import numpy as np\n",
    "import matplotlib.pyplot as plt\n",
    "import sacc\n",
    "import numpy as np\n",
    "import scipy\n"
   ]
  },
  {
   "cell_type": "code",
   "execution_count": 2,
   "metadata": {},
   "outputs": [],
   "source": [
    "#read the file\n",
    "s = sacc.Sacc.load_fits(\"covariance.sacc\")"
   ]
  },
  {
   "cell_type": "markdown",
   "metadata": {},
   "source": [
    "I named galaxy-count tracers as gc0, gc1, gc2, gc3, gc4\n",
    "where the number after 'gc' indicates the bin that the tracer corresponds to\n",
    "\n",
    "gc0: galaxy count 0.2 < z < 0.4\n",
    "gc1: galaxy count 0.4 < z < 0.6\n",
    "...\n",
    "gc4: galaxy count 1.0 < z < 1.2"
   ]
  },
  {
   "cell_type": "code",
   "execution_count": 3,
   "metadata": {},
   "outputs": [],
   "source": [
    "tracer_name = 'gc0'\n",
    "tracer = s.get_tracer(tracer_name)"
   ]
  },
  {
   "cell_type": "code",
   "execution_count": 6,
   "metadata": {},
   "outputs": [],
   "source": [
    "z = tracer.z\n",
    "nz = tracer.nz"
   ]
  },
  {
   "cell_type": "markdown",
   "metadata": {},
   "source": [
    "### Some other info"
   ]
  },
  {
   "cell_type": "markdown",
   "metadata": {},
   "source": [
    "##### number density: "
   ]
  },
  {
   "cell_type": "raw",
   "metadata": {},
   "source": [
    "6079379 galaxies in total\n",
    "should be using the 400 deg^2 DC2 dataset"
   ]
  },
  {
   "cell_type": "markdown",
   "metadata": {},
   "source": [
    "##### sigma(e1) and sigma(e2):"
   ]
  },
  {
   "cell_type": "raw",
   "metadata": {},
   "source": [
    "# the first of the lists corresponds to the first bin, the second of the lists -> second bin, ...\n",
    "\n",
    "sigma_e1 = [0.0028953768742168355, 0.0052771998290333435, 0.007606869681752841, 0.009745380844556286, 0.011825871045132223]\n",
    "sigma_e2 = [0.002913508084458042, 0.005286846869430057, 0.007593425669392772, 0.009726640526689758, 0.011773223721769237]"
   ]
  },
  {
   "cell_type": "raw",
   "metadata": {},
   "source": [
    "##### Noise power spectrum is in the same folder"
   ]
  },
  {
   "cell_type": "code",
   "execution_count": null,
   "metadata": {},
   "outputs": [],
   "source": []
  }
 ],
 "metadata": {
  "kernelspec": {
   "display_name": "desc-python",
   "language": "python",
   "name": "desc-python"
  },
  "language_info": {
   "codemirror_mode": {
    "name": "ipython",
    "version": 3
   },
   "file_extension": ".py",
   "mimetype": "text/x-python",
   "name": "python",
   "nbconvert_exporter": "python",
   "pygments_lexer": "ipython3",
   "version": "3.7.6"
  }
 },
 "nbformat": 4,
 "nbformat_minor": 4
}
