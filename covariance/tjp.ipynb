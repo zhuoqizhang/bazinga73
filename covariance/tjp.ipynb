{
 "cells": [
  {
   "cell_type": "code",
   "execution_count": 1,
   "metadata": {},
   "outputs": [],
   "source": [
    "import numpy as np\n",
    "import matplotlib.pyplot as plt\n",
    "import pyccl as ccl\n",
    "import sacc\n",
    "import sys\n",
    "sys.path.insert(0, '/global/u1/z/zhzhuoqi/tjpcov/TJPCov')\n",
    "sys.path.insert(0, '/global/u1/z/zhzhuoqi/firecrown/firecrown/')\n",
    "sys.path.insert(0, '/global/homes/z/zhzhuoqi/.conda/envs/my-conda-env/lib/python3.8/site-packages/')\n",
    "from tjpcov import wigner_transform, bin_cov, parse\n",
    "d2r=np.pi/180"
   ]
  },
  {
   "cell_type": "code",
   "execution_count": 2,
   "metadata": {},
   "outputs": [],
   "source": [
    "#this is the cosmology I use. \n",
    "cosmo = ccl.Cosmology(Omega_k=0.0, Omega_g=0.0, w0=-1.0, wa=0.0, T_CMB=2.7,\n",
    "                      Neff=0, m_nu=0.0, transfer_function='bbks', mass_function='tinker',\n",
    "                      Omega_b=0.045, Omega_c=0.21, h=0.71, sigma8=0.80, n_s=0.964)"
   ]
  },
  {
   "cell_type": "code",
   "execution_count": 3,
   "metadata": {},
   "outputs": [],
   "source": [
    "# this sacc data has a number-count tracer and a weak-lensing tracer, both correspond\n",
    "# to 0.8 < z < 1.0; and it has a cmb-lensing tracer\n",
    "twopoint_data = sacc.Sacc.load_fits('test.sacc')"
   ]
  },
  {
   "cell_type": "code",
   "execution_count": 4,
   "metadata": {},
   "outputs": [],
   "source": [
    "#use the same ell and ell_bins as namaster\n",
    "nside = 1024\n",
    "ell = np.linspace(2, int(nside*3), int(nside*3-1))\n",
    "ell_bins = np.linspace(2, int(nside*3), int(nside*3./48))"
   ]
  },
  {
   "cell_type": "code",
   "execution_count": 5,
   "metadata": {},
   "outputs": [],
   "source": [
    "#setup theta array and theta binning for wigner transform \n",
    "th_min=1/60 # in degrees\n",
    "th_max=300./60\n",
    "n_th_bins=20\n",
    "th_bins=np.logspace(np.log10(2.5/60.),np.log10(250./60.),n_th_bins+1)\n",
    "\n",
    "th=np.logspace(np.log10(th_min),np.log10(th_max),3000) #covariance is oversampled at th values and then binned.\n",
    "th2=np.linspace(1,th_max*1.02,3000) #binned covariance can be sensitive to the th values. Make sue you check convergence for your application\n",
    "th=np.unique(np.sort(np.append(th,th2)))\n",
    "thb=0.5*(th_bins[1:]+th_bins[:-1])"
   ]
  },
  {
   "cell_type": "code",
   "execution_count": 6,
   "metadata": {},
   "outputs": [
    {
     "name": "stdout",
     "output_type": "stream",
     "text": [
      "CPU times: user 835 ms, sys: 4.1 s, total: 4.94 s\n",
      "Wall time: 1min 25s\n"
     ]
    }
   ],
   "source": [
    "# Wigner Transform setup... \n",
    "WT_kwargs={'l': ell,'theta': th*d2r,'s1_s2':[(0,2),(2,0),(0,0)]}\n",
    "%time WT=wigner_transform(**WT_kwargs)"
   ]
  },
  {
   "cell_type": "code",
   "execution_count": 7,
   "metadata": {},
   "outputs": [],
   "source": [
    "# input basic info about the data\n",
    "fsky=445./(4*np.pi*((180.**2)/(np.pi**2)))\n",
    "Ngal = 0.479 #arc_min^2\n",
    "Ngal=Ngal*3600/d2r**2\n",
    "sigma_e=.0097"
   ]
  },
  {
   "cell_type": "code",
   "execution_count": 8,
   "metadata": {},
   "outputs": [],
   "source": [
    "#get noises\n",
    "nc_noise = 1./Ngal\n",
    "wl_noise = sigma_e**2/Ngal\n",
    "cmb_noise_smth = np.loadtxt('full_noise.txt')[1:nside*3]"
   ]
  },
  {
   "cell_type": "code",
   "execution_count": 9,
   "metadata": {},
   "outputs": [],
   "source": [
    "# generate ccl tracers for number-count and cmb-lensing from sacc data\n",
    "nc_tracer = twopoint_data.get_tracer('gc0')\n",
    "nc_z = nc_tracer.z\n",
    "nc_nz = nc_tracer.nz\n",
    "\n",
    "bias = 1.80*np.ones(len(nc_z))\n",
    "dNdz_nc = nc_nz\n",
    "dNdz_nc/=(dNdz_nc*np.gradient(nc_z)).sum()\n",
    "dNdz_nc*=Ngal\n",
    "\n",
    "wl_tracer = twopoint_data.get_tracer('wl0')\n",
    "wl_z = wl_tracer.z\n",
    "wl_nz = wl_tracer.nz\n",
    "\n",
    "dNdz_wl = wl_nz\n",
    "dNdz_wl/=(dNdz_wl*np.gradient(wl_z)).sum()\n",
    "dNdz_wl*=Ngal\n",
    "\n",
    "nc_trcr = ccl.NumberCountsTracer(cosmo, has_rsd=False, dndz=(nc_z,dNdz_nc), bias=(nc_z,bias))\n",
    "cmb_trcr = ccl.CMBLensingTracer(cosmo,1100.)\n",
    "wl_trcr = ccl.WeakLensingTracer(cosmo, dndz=(wl_z,dNdz_wl))"
   ]
  },
  {
   "cell_type": "markdown",
   "metadata": {},
   "source": [
    "## NK-NK covariance"
   ]
  },
  {
   "cell_type": "code",
   "execution_count": 10,
   "metadata": {},
   "outputs": [],
   "source": [
    "# get ccl C_ell spectra\n",
    "cl_nn = ccl.angular_cl(cosmo, nc_trcr, nc_trcr, ell)\n",
    "cl_nk = ccl.angular_cl(cosmo, nc_trcr, cmb_trcr, ell)\n",
    "cl_kn = ccl.angular_cl(cosmo, cmb_trcr, nc_trcr, ell)\n",
    "cl_kk = ccl.angular_cl(cosmo, cmb_trcr, cmb_trcr, ell)\n",
    "\n",
    "# add noise\n",
    "cl_nn = cl_nn + nc_noise\n",
    "cl_kk = cl_kk + cmb_noise_smth"
   ]
  },
  {
   "cell_type": "code",
   "execution_count": 11,
   "metadata": {},
   "outputs": [],
   "source": [
    "# here is how tjpcov compute the covariance\n",
    "norm = np.pi*4*fsky\n",
    "coupling_mat = np.eye(len(ell))\n",
    "cov1324 = np.outer(cl_nn, cl_kk)*coupling_mat\n",
    "cov1423 = np.outer(cl_nk, cl_nk)*coupling_mat\n",
    "cov = (cov1324+0*cov1423)/norm"
   ]
  },
  {
   "cell_type": "code",
   "execution_count": 12,
   "metadata": {},
   "outputs": [
    {
     "data": {
      "text/plain": [
       "<matplotlib.colorbar.Colorbar at 0x2aaaaf83e790>"
      ]
     },
     "execution_count": 12,
     "metadata": {},
     "output_type": "execute_result"
    },
    {
     "data": {
      "image/png": "[encoded data removed]",
      "text/plain": [
       "<Figure size 432x288 with 2 Axes>"
      ]
     },
     "metadata": {
      "needs_background": "light"
     },
     "output_type": "display_data"
    }
   ],
   "source": [
    "#plot the matrix feed to wigner transform\n",
    "plt.imshow(cov[:50,:50])\n",
    "plt.colorbar()"
   ]
  },
  {
   "cell_type": "code",
   "execution_count": 13,
   "metadata": {},
   "outputs": [],
   "source": [
    "#wigner tranform\n",
    "th,cov_=WT.projected_covariance2(l_cl=ell,s1_s2=(0,0), s1_s2_cross=(0,0),\n",
    "                                                      cl_cov=cov)\n",
    "#bin the covariance\n",
    "thb, covar = bin_cov(r=th/d2r,r_bins=th_bins,cov=cov_) "
   ]
  },
  {
   "cell_type": "code",
   "execution_count": 14,
   "metadata": {},
   "outputs": [
    {
     "data": {
      "text/plain": [
       "<matplotlib.colorbar.Colorbar at 0x2aaaafe9c790>"
      ]
     },
     "execution_count": 14,
     "metadata": {},
     "output_type": "execute_result"
    },
    {
     "data": {
      "image/png": "[encoded data removed]",
      "text/plain": [
       "<Figure size 432x288 with 2 Axes>"
      ]
     },
     "metadata": {
      "needs_background": "light"
     },
     "output_type": "display_data"
    }
   ],
   "source": [
    "plt.imshow(covar)\n",
    "plt.colorbar()"
   ]
  },
  {
   "cell_type": "markdown",
   "metadata": {},
   "source": [
    "## GK-GK covariance"
   ]
  },
  {
   "cell_type": "code",
   "execution_count": 15,
   "metadata": {},
   "outputs": [],
   "source": [
    "# get ccl C_ell spectra\n",
    "cl_gg = ccl.angular_cl(cosmo, wl_trcr, wl_trcr, ell)\n",
    "cl_gk = ccl.angular_cl(cosmo, wl_trcr, cmb_trcr, ell)\n",
    "cl_kg = ccl.angular_cl(cosmo, cmb_trcr, wl_trcr, ell)\n",
    "cl_kk = ccl.angular_cl(cosmo, cmb_trcr, cmb_trcr, ell)\n",
    "\n",
    "# add noise\n",
    "cl_gg = cl_gg + wl_noise\n",
    "cl_kk = cl_kk + cmb_noise_smth"
   ]
  },
  {
   "cell_type": "code",
   "execution_count": 16,
   "metadata": {},
   "outputs": [],
   "source": [
    "# here is how tjpcov compute the covariance\n",
    "norm = np.pi*4*fsky\n",
    "coupling_mat = np.eye(len(ell))\n",
    "cov1324 = np.outer(cl_gg, cl_kk)*coupling_mat\n",
    "cov1423 = np.outer(cl_gk, cl_gk)*coupling_mat\n",
    "cov = (cov1324+0*cov1423)/norm"
   ]
  },
  {
   "cell_type": "code",
   "execution_count": 17,
   "metadata": {},
   "outputs": [
    {
     "data": {
      "text/plain": [
       "<matplotlib.colorbar.Colorbar at 0x2aab57f5c150>"
      ]
     },
     "execution_count": 17,
     "metadata": {},
     "output_type": "execute_result"
    },
    {
     "data": {
      "image/png": "[encoded data removed]",
      "text/plain": [
       "<Figure size 432x288 with 2 Axes>"
      ]
     },
     "metadata": {
      "needs_background": "light"
     },
     "output_type": "display_data"
    }
   ],
   "source": [
    "#plot the matrix feed to wigner transform\n",
    "plt.imshow(cov[:50,:50])\n",
    "plt.colorbar()"
   ]
  },
  {
   "cell_type": "code",
   "execution_count": 18,
   "metadata": {},
   "outputs": [],
   "source": [
    "#wigner tranform\n",
    "th,cov_=WT.projected_covariance2(l_cl=ell,s1_s2=(0,2), s1_s2_cross=(0,2),\n",
    "                                                      cl_cov=cov)\n",
    "#bin the covariance\n",
    "thb, covar = bin_cov(r=th/d2r,r_bins=th_bins,cov=cov_) "
   ]
  },
  {
   "cell_type": "code",
   "execution_count": 19,
   "metadata": {},
   "outputs": [
    {
     "data": {
      "text/plain": [
       "<matplotlib.colorbar.Colorbar at 0x2aab77ee9690>"
      ]
     },
     "execution_count": 19,
     "metadata": {},
     "output_type": "execute_result"
    },
    {
     "data": {
      "image/png": "[encoded data removed]",
      "text/plain": [
       "<Figure size 432x288 with 2 Axes>"
      ]
     },
     "metadata": {
      "needs_background": "light"
     },
     "output_type": "display_data"
    }
   ],
   "source": [
    "plt.imshow(covar)\n",
    "plt.colorbar()"
   ]
  },
  {
   "cell_type": "code",
   "execution_count": null,
   "metadata": {},
   "outputs": [],
   "source": []
  }
 ],
 "metadata": {
  "kernelspec": {
   "display_name": "desc-python",
   "language": "python",
   "name": "desc-python"
  },
  "language_info": {
   "codemirror_mode": {
    "name": "ipython",
    "version": 3
   },
   "file_extension": ".py",
   "mimetype": "text/x-python",
   "name": "python",
   "nbconvert_exporter": "python",
   "pygments_lexer": "ipython3",
   "version": "3.7.6"
  }
 },
 "nbformat": 4,
 "nbformat_minor": 4
}
