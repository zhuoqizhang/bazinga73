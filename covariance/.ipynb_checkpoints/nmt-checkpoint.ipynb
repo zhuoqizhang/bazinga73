{
 "cells": [
  {
   "cell_type": "code",
   "execution_count": 1,
   "metadata": {},
   "outputs": [],
   "source": [
    "import numpy as np\n",
    "import healpy as hp\n",
    "import matplotlib.pyplot as plt\n",
    "import pyccl as ccl\n",
    "import sys\n",
    "import sacc\n",
    "import pymaster as nmt\n",
    "sys.path.insert(0, '/global/u1/z/zhzhuoqi/tjpcov/TJPCov')\n",
    "from tjpcov import wigner_transform, bin_cov, parse\n",
    "d2r=np.pi/180"
   ]
  },
  {
   "cell_type": "code",
   "execution_count": 2,
   "metadata": {},
   "outputs": [],
   "source": [
    "#this is the cosmology I use. \n",
    "cosmo = ccl.Cosmology(Omega_k=0.0, Omega_g=0.0, w0=-1.0, wa=0.0, T_CMB=2.7,\n",
    "                      Neff=0, m_nu=0.0, transfer_function='bbks', mass_function='tinker',\n",
    "                      Omega_b=0.045, Omega_c=0.21, h=0.71, sigma8=0.80, n_s=0.964)"
   ]
  },
  {
   "cell_type": "code",
   "execution_count": 3,
   "metadata": {},
   "outputs": [],
   "source": [
    "# this sacc data has a number-count tracer and a weak-lensing tracer, both correspond\n",
    "# to 0.8 < z < 1.0; and it has a cmb-lensing tracer\n",
    "twopoint_data = sacc.Sacc.load_fits('test.sacc')"
   ]
  },
  {
   "cell_type": "code",
   "execution_count": 4,
   "metadata": {},
   "outputs": [],
   "source": [
    "#use the same ell and ell_bins as namaster\n",
    "nside = 1024\n",
    "ell = np.linspace(2, int(nside*3), int(nside*3-1))\n",
    "ell_bins = np.linspace(2, int(nside*3), int(nside*3./32))"
   ]
  },
  {
   "cell_type": "code",
   "execution_count": 5,
   "metadata": {},
   "outputs": [],
   "source": [
    "#setup theta array and theta binning for wigner transform \n",
    "th_min=1/60 # in degrees\n",
    "th_max=300./60\n",
    "n_th_bins=20\n",
    "th_bins=np.logspace(np.log10(2.5/60.),np.log10(250./60.),n_th_bins+1)\n",
    "\n",
    "th=np.logspace(np.log10(th_min),np.log10(th_max),3000) #covariance is oversampled at th values and then binned.\n",
    "th2=np.linspace(1,th_max*1.02,3000) #binned covariance can be sensitive to the th values. Make sue you check convergence for your application\n",
    "th=np.unique(np.sort(np.append(th,th2)))\n",
    "thb=0.5*(th_bins[1:]+th_bins[:-1])"
   ]
  },
  {
   "cell_type": "code",
   "execution_count": 6,
   "metadata": {},
   "outputs": [
    {
     "name": "stdout",
     "output_type": "stream",
     "text": [
      "CPU times: user 782 ms, sys: 4.45 s, total: 5.23 s\n",
      "Wall time: 1min 25s\n"
     ]
    }
   ],
   "source": [
    "# Wigner Transform setup... \n",
    "WT_kwargs={'l': ell,'theta': th*d2r,'s1_s2':[(0,2),(2,0),(0,0)]}\n",
    "%time WT=wigner_transform(**WT_kwargs)"
   ]
  },
  {
   "cell_type": "code",
   "execution_count": 7,
   "metadata": {},
   "outputs": [],
   "source": [
    "# input basic info about the data\n",
    "fsky=445./(4*np.pi*((180.**2)/(np.pi**2)))\n",
    "Ngal = 0.479 #arc_min^2\n",
    "Ngal=Ngal*3600/d2r**2\n",
    "sigma_e=.0097"
   ]
  },
  {
   "cell_type": "code",
   "execution_count": 8,
   "metadata": {},
   "outputs": [],
   "source": [
    "#get noises\n",
    "nc_noise = 1./Ngal\n",
    "wl_noise = sigma_e**2/Ngal\n",
    "cmb_noise_smth = np.loadtxt('full_noise.txt')[1:nside*3+1]"
   ]
  },
  {
   "cell_type": "code",
   "execution_count": 9,
   "metadata": {},
   "outputs": [],
   "source": [
    "# generate ccl tracers for number-count and cmb-lensing from sacc data\n",
    "nc_tracer = twopoint_data.get_tracer('gc0')\n",
    "nc_z = nc_tracer.z\n",
    "nc_nz = nc_tracer.nz\n",
    "\n",
    "bias = 1.80*np.ones(len(nc_z))\n",
    "dNdz_nc = nc_nz\n",
    "dNdz_nc/=(dNdz_nc*np.gradient(nc_z)).sum()\n",
    "dNdz_nc*=Ngal\n",
    "\n",
    "wl_tracer = twopoint_data.get_tracer('wl0')\n",
    "wl_z = wl_tracer.z\n",
    "wl_nz = wl_tracer.nz\n",
    "\n",
    "dNdz_wl = wl_nz\n",
    "dNdz_wl/=(dNdz_wl*np.gradient(wl_z)).sum()\n",
    "dNdz_wl*=Ngal\n",
    "\n",
    "nc_trcr = ccl.NumberCountsTracer(cosmo, has_rsd=False, dndz=(nc_z,dNdz_nc), bias=(nc_z,bias))\n",
    "cmb_trcr = ccl.CMBLensingTracer(cosmo,1100.)\n",
    "wl_trcr = ccl.WeakLensingTracer(cosmo, dndz=(wl_z,dNdz_wl))"
   ]
  },
  {
   "cell_type": "markdown",
   "metadata": {},
   "source": [
    "## namaster setup"
   ]
  },
  {
   "cell_type": "code",
   "execution_count": 10,
   "metadata": {},
   "outputs": [
    {
     "name": "stderr",
     "output_type": "stream",
     "text": [
      "/global/common/software/lsst/common/miniconda/py3.7-4.7.12.1-v2/envs/desc/lib/python3.7/site-packages/healpy/fitsfunc.py:352: UserWarning: If you are not specifying the input dtype and using the default np.float64 dtype of read_map(), please consider that it will change in a future version to None as to keep the same dtype of the input file: please explicitly set the dtype if it is important to you.\n",
      "  \"If you are not specifying the input dtype and using the default \"\n"
     ]
    },
    {
     "name": "stdout",
     "output_type": "stream",
     "text": [
      "NSIDE = 1024\n",
      "ORDERING = RING in fits file\n",
      "INDXSCHM = IMPLICIT\n"
     ]
    }
   ],
   "source": [
    "#namaster setup\n",
    "# a) Read and apodize mask\n",
    "m = hp.read_map('mask.fits')\n",
    "m = hp.pixelfunc.ud_grade(m, nside)\n",
    "mask = nmt.mask_apodization(m, 1., apotype=\"Smooth\")"
   ]
  },
  {
   "cell_type": "code",
   "execution_count": 11,
   "metadata": {},
   "outputs": [
    {
     "name": "stdout",
     "output_type": "stream",
     "text": [
      "finihsed loading\n"
     ]
    }
   ],
   "source": [
    "cmb_map = hp.read_map('cmb_masked.fits', verbose=False)\n",
    "cmb_map = hp.pixelfunc.ud_grade(cmb_map, nside)\n",
    "nc_map = hp.read_map('data/nc_80-100.fits', verbose=False)\n",
    "nc_map = hp.pixelfunc.ud_grade(nc_map, nside)\n",
    "g1_map = hp.read_map('data/g1_80-100.fits', verbose=False)\n",
    "g1_map = hp.pixelfunc.ud_grade(g1_map, nside)\n",
    "g2_map = hp.read_map('data/g2_80-100.fits', verbose=False)\n",
    "g2_map = hp.pixelfunc.ud_grade(g2_map, nside)\n",
    "print('finihsed loading')"
   ]
  },
  {
   "cell_type": "code",
   "execution_count": 12,
   "metadata": {},
   "outputs": [],
   "source": [
    "fN = nmt.NmtField(mask, [nc_map])\n",
    "fG = nmt.NmtField(mask, [g1_map, g2_map])\n",
    "fCMB = nmt.NmtField(mask, [cmb_map])"
   ]
  },
  {
   "cell_type": "code",
   "execution_count": 13,
   "metadata": {},
   "outputs": [],
   "source": [
    "# generate bandpowers and weights based on ell \n",
    "bpws = np.digitize(ell, ell_bins)-1\n",
    "bpws[-1] = -1\n",
    "\n",
    "\n",
    "weights = []\n",
    "for i in range(0, max(bpws)+2):\n",
    "    count = np.count_nonzero(bpws == i)\n",
    "    for j in range (0, count):\n",
    "        weights.append(1./count)\n",
    "weights.append(1)\n",
    "weights = np.array(weights)"
   ]
  },
  {
   "cell_type": "code",
   "execution_count": 14,
   "metadata": {},
   "outputs": [
    {
     "name": "stdout",
     "output_type": "stream",
     "text": [
      "Workspace\n"
     ]
    }
   ],
   "source": [
    "b = nmt.NmtBin(nside=nside, ells=ell, bpws=bpws, weights=weights)\n",
    "print(\"Workspace\")\n",
    "w_nk = nmt.NmtWorkspace()\n",
    "w_nk.compute_coupling_matrix(fN, fCMB, b)\n",
    "\n",
    "w_gk = nmt.NmtWorkspace()\n",
    "w_gk.compute_coupling_matrix(fG, fCMB, b)"
   ]
  },
  {
   "cell_type": "code",
   "execution_count": 15,
   "metadata": {},
   "outputs": [
    {
     "name": "stdout",
     "output_type": "stream",
     "text": [
      "Covariance\n"
     ]
    }
   ],
   "source": [
    "print(\"Covariance\")\n",
    "# First we generate a NmtCovarianceWorkspace object to precompute\n",
    "# and store the necessary coupling coefficients\n",
    "cw = nmt.NmtCovarianceWorkspace()\n",
    "# This is the time-consuming operation\n",
    "# Note that you only need to do this once,\n",
    "# regardless of spin\n",
    "cw.compute_coupling_coefficients(fN, fN, fN, fN)"
   ]
  },
  {
   "cell_type": "markdown",
   "metadata": {},
   "source": [
    "## NK-NK covariance"
   ]
  },
  {
   "cell_type": "code",
   "execution_count": 16,
   "metadata": {},
   "outputs": [],
   "source": [
    "#note that C_ell here has to be longer than the ell array for cw\n",
    "ell_cl = np.linspace(2, int(nside*3+1), int(nside*3))\n",
    "cl_nn = ccl.angular_cl(cosmo, nc_trcr, nc_trcr, ell_cl)\n",
    "cl_nk = ccl.angular_cl(cosmo, nc_trcr, cmb_trcr, ell_cl)\n",
    "cl_kn = ccl.angular_cl(cosmo, cmb_trcr, nc_trcr, ell_cl)\n",
    "cl_kk = ccl.angular_cl(cosmo, cmb_trcr, cmb_trcr, ell_cl)\n",
    "\n",
    "# add noise\n",
    "cl_nn = cl_nn + nc_noise\n",
    "cl_kk = cl_kk + cmb_noise_smth"
   ]
  },
  {
   "cell_type": "code",
   "execution_count": null,
   "metadata": {},
   "outputs": [],
   "source": [
    "covar_00_00 = nmt.gaussian_covariance(cw, 0, 0, 0, 0,  # Spins of the 4 fields\n",
    "                                      [cl_nn],  # TT    cla1b1\n",
    "                                      [cl_nk],  # TT    cla1b2   \n",
    "                                      [cl_kn],  # TT    cla2b1\n",
    "                                      [cl_kk],  # TT    cla2b2    \n",
    "                                                       # \"2\" is a spin-2 field and has two components\n",
    "                                      wa=w_nk, wb=w_nk, coupled=True)\n",
    "covar_00_00 = covar_00_00.reshape([len(ell)+1, 1, len(ell)+1, 1])\n",
    "covar_NK_NK = covar_00_00[:, 0, :, 0]\n",
    "np.savetxt('/global/u1/z/zhzhuoqi/5x2/cov/covarNKNK.txt',covar_NK_NK)"
   ]
  },
  {
   "cell_type": "code",
   "execution_count": 18,
   "metadata": {},
   "outputs": [],
   "source": [
    "# normalize \n",
    "covarNKNK = np.loadtxt('/global/u1/z/zhzhuoqi/5x2/cov/covarNKNK.txt')\n",
    "cov = covarNKNK/(np.mean(m)**2)"
   ]
  },
  {
   "cell_type": "code",
   "execution_count": 19,
   "metadata": {},
   "outputs": [
    {
     "data": {
      "text/plain": [
       "<matplotlib.colorbar.Colorbar at 0x2aac082b8e90>"
      ]
     },
     "execution_count": 19,
     "metadata": {},
     "output_type": "execute_result"
    },
    {
     "data": {
      "image/png": "[encoded data removed]",
      "text/plain": [
       "<Figure size 432x288 with 2 Axes>"
      ]
     },
     "metadata": {
      "needs_background": "light"
     },
     "output_type": "display_data"
    }
   ],
   "source": [
    "plt.imshow(cov[:50,:50])\n",
    "plt.colorbar()"
   ]
  },
  {
   "cell_type": "code",
   "execution_count": 20,
   "metadata": {},
   "outputs": [],
   "source": [
    "#wigner tranform\n",
    "th,cov_=WT.projected_covariance2(l_cl=ell,s1_s2=(0,0), s1_s2_cross=(0,0),\n",
    "                                                      cl_cov=cov[1:,1:])\n",
    "#bin the covariance\n",
    "thb, covar = bin_cov(r=th/d2r,r_bins=th_bins,cov=cov_) "
   ]
  },
  {
   "cell_type": "code",
   "execution_count": 21,
   "metadata": {},
   "outputs": [
    {
     "data": {
      "text/plain": [
       "<matplotlib.colorbar.Colorbar at 0x2aabf10c2b50>"
      ]
     },
     "execution_count": 21,
     "metadata": {},
     "output_type": "execute_result"
    },
    {
     "data": {
      "image/png": "[encoded data removed]",
      "text/plain": [
       "<Figure size 432x288 with 2 Axes>"
      ]
     },
     "metadata": {
      "needs_background": "light"
     },
     "output_type": "display_data"
    }
   ],
   "source": [
    "plt.imshow(covar)\n",
    "plt.colorbar()"
   ]
  },
  {
   "cell_type": "markdown",
   "metadata": {},
   "source": [
    "## GK-GK covariance"
   ]
  },
  {
   "cell_type": "code",
   "execution_count": 22,
   "metadata": {},
   "outputs": [],
   "source": [
    "#note that C_ell here has to be longer than the ell array for cw\n",
    "ell_cl = np.linspace(2, int(nside*3+1), int(nside*3))\n",
    "cl_gg = ccl.angular_cl(cosmo, wl_trcr, wl_trcr, ell_cl)\n",
    "cl_gk = ccl.angular_cl(cosmo, wl_trcr, cmb_trcr, ell_cl)\n",
    "cl_kg = ccl.angular_cl(cosmo, cmb_trcr, wl_trcr, ell_cl)\n",
    "cl_kk = ccl.angular_cl(cosmo, cmb_trcr, cmb_trcr, ell_cl)\n",
    "\n",
    "# add noise\n",
    "cl_gg_ee = cl_gg + wl_noise\n",
    "cl_gg_eb = 0*cl_gg\n",
    "cl_gg_bb = 0*cl_gg + wl_noise\n",
    "cl_gk_te = cl_gk\n",
    "cl_gk_tb = 0*cl_gk\n",
    "cl_kk_tt = cl_kk + cmb_noise_smth"
   ]
  },
  {
   "cell_type": "code",
   "execution_count": null,
   "metadata": {},
   "outputs": [],
   "source": [
    "covar_02_02 = nmt.gaussian_covariance(cw, 0, 2, 0, 2,  # Spins of the 4 fields\n",
    "                                      [cl_kk_tt],  # TT    cla1b1\n",
    "                                      [cl_gk_te, cl_gk_tb],  # TE, TB cla1b2   \n",
    "                                      [cl_gk_te, cl_gk_tb],  # ET, BT cla2b1\n",
    "                                      [cl_gg_ee, cl_gg_eb,\n",
    "                                       cl_gg_eb, cl_gg_bb],  # EE, EB, BE, BB cla2b2    \n",
    "                                                       # \"2\" is a spin-2 field and has two components\n",
    "                                      wa=w_gk, wb=w_gk)#, coupled=True)\n",
    "covar_02_02 = covar_02_02.reshape([len(ell)+1, 2, len(ell)+1, 2])\n",
    "covar_GK_GK = covar_02_02[:, 0, :, 0]\n",
    "np.savetxt('/global/u1/z/zhzhuoqi/5x2/cov/covarGKGK.txt',covar_NK_NK)"
   ]
  },
  {
   "cell_type": "code",
   "execution_count": 24,
   "metadata": {},
   "outputs": [],
   "source": [
    "# normalize \n",
    "covarGKGK = np.loadtxt('/global/u1/z/zhzhuoqi/5x2/cov/covarGKGK.txt')\n",
    "cov = covarGKGK/(np.mean(m)**2)"
   ]
  },
  {
   "cell_type": "code",
   "execution_count": 25,
   "metadata": {},
   "outputs": [
    {
     "data": {
      "text/plain": [
       "<matplotlib.colorbar.Colorbar at 0x2aac084d1ad0>"
      ]
     },
     "execution_count": 25,
     "metadata": {},
     "output_type": "execute_result"
    },
    {
     "data": {
      "image/png": "[encoded data removed]",
      "text/plain": [
       "<Figure size 432x288 with 2 Axes>"
      ]
     },
     "metadata": {
      "needs_background": "light"
     },
     "output_type": "display_data"
    }
   ],
   "source": [
    "plt.imshow(cov[:50,:50])\n",
    "plt.colorbar()"
   ]
  },
  {
   "cell_type": "code",
   "execution_count": 26,
   "metadata": {},
   "outputs": [],
   "source": [
    "#wigner tranform\n",
    "th,cov_=WT.projected_covariance2(l_cl=ell,s1_s2=(0,0), s1_s2_cross=(0,0),\n",
    "                                                      cl_cov=cov[1:,1:])\n",
    "#bin the covariance\n",
    "thb, covar = bin_cov(r=th/d2r,r_bins=th_bins,cov=cov_) "
   ]
  },
  {
   "cell_type": "code",
   "execution_count": 27,
   "metadata": {},
   "outputs": [
    {
     "data": {
      "text/plain": [
       "<matplotlib.colorbar.Colorbar at 0x2aabfb6c9d10>"
      ]
     },
     "execution_count": 27,
     "metadata": {},
     "output_type": "execute_result"
    },
    {
     "data": {
      "image/png": "[encoded data removed]",
      "text/plain": [
       "<Figure size 432x288 with 2 Axes>"
      ]
     },
     "metadata": {
      "needs_background": "light"
     },
     "output_type": "display_data"
    }
   ],
   "source": [
    "plt.imshow(covar)\n",
    "plt.colorbar()"
   ]
  },
  {
   "cell_type": "code",
   "execution_count": null,
   "metadata": {},
   "outputs": [],
   "source": []
  }
 ],
 "metadata": {
  "kernelspec": {
   "display_name": "desc-python",
   "language": "python",
   "name": "desc-python"
  },
  "language_info": {
   "codemirror_mode": {
    "name": "ipython",
    "version": 3
   },
   "file_extension": ".py",
   "mimetype": "text/x-python",
   "name": "python",
   "nbconvert_exporter": "python",
   "pygments_lexer": "ipython3",
   "version": "3.7.6"
  }
 },
 "nbformat": 4,
 "nbformat_minor": 4
}
