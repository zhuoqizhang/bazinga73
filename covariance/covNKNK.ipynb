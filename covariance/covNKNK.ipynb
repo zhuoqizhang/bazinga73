{
 "cells": [
  {
   "cell_type": "markdown",
   "metadata": {},
   "source": [
    "This notebook calculates NK-NK covariance of a same bin: 0.4<z<0.6"
   ]
  },
  {
   "cell_type": "code",
   "execution_count": 1,
   "metadata": {},
   "outputs": [],
   "source": [
    "import numpy as np\n",
    "import healpy as hp\n",
    "import matplotlib.pyplot as plt\n",
    "import pyccl as ccl\n",
    "import sys\n",
    "sys.path.insert(0, '/global/u1/z/zhzhuoqi/tjpcov/TJPCov')\n",
    "sys.path.insert(0, '/global/u1/z/zhzhuoqi/firecrown/firecrown/')\n",
    "sys.path.insert(0, '/global/homes/z/zhzhuoqi/.conda/envs/my-conda-env/lib/python3.8/site-packages/')\n",
    "sys.path.insert(0, '/global/common/software/lsst/common/miniconda/py3.7-4.7.12.1-v2/envs/desc/lib/python3.7/site-packages/')\n",
    "import pymaster as nmt\n",
    "from tjpcov import wigner_transform, bin_cov, parse"
   ]
  },
  {
   "cell_type": "code",
   "execution_count": 2,
   "metadata": {},
   "outputs": [
    {
     "name": "stderr",
     "output_type": "stream",
     "text": [
      "/global/common/software/lsst/common/miniconda/py3.7-4.7.12.1-v2/envs/desc/lib/python3.7/site-packages/healpy/fitsfunc.py:352: UserWarning: If you are not specifying the input dtype and using the default np.float64 dtype of read_map(), please consider that it will change in a future version to None as to keep the same dtype of the input file: please explicitly set the dtype if it is important to you.\n",
      "  \"If you are not specifying the input dtype and using the default \"\n"
     ]
    },
    {
     "name": "stdout",
     "output_type": "stream",
     "text": [
      "NSIDE = 1024\n",
      "ORDERING = RING in fits file\n",
      "INDXSCHM = IMPLICIT\n"
     ]
    }
   ],
   "source": [
    "# HEALPix map resolution\n",
    "nside = 512\n",
    "\n",
    "# a) Read and apodize mask\n",
    "m = hp.read_map('mask.fits')\n",
    "m = hp.pixelfunc.ud_grade(m, nside)\n",
    "mask = nmt.mask_apodization(m,\n",
    "                            1., apotype=\"Smooth\")"
   ]
  },
  {
   "cell_type": "code",
   "execution_count": 3,
   "metadata": {},
   "outputs": [],
   "source": [
    "#generate ell according to map resolution\n",
    "ell = np.linspace(2, int(nside*3), int(nside*3-1))\n",
    "ell_bins = np.linspace(2, int(nside*3), int(nside*3./20))"
   ]
  },
  {
   "cell_type": "code",
   "execution_count": 4,
   "metadata": {},
   "outputs": [],
   "source": [
    "#ccl correlations\n",
    "def correlation(z, z_h): \n",
    "    \n",
    "    ell = np.linspace(2, int(nside*4), int(nside*4-1))\n",
    "    \n",
    "    #generate bias\n",
    "    bz=1.20*np.ones_like(z_h)\n",
    "\n",
    "    # Initialize tracers  \n",
    "    cosmo_cls=ccl.Cosmology(Omega_c=0.21, Omega_b=0.045, Omega_g=0, Omega_k=0,\n",
    "                              h=0.71, sigma8=0.80, n_s=0.964, Neff=0, m_nu=0.0,\n",
    "                              w0=-1, wa=0, T_CMB=2.7, transfer_function='bbks',\n",
    "                              mass_function='tinker')  \n",
    "\n",
    "    #generate tracers \n",
    "    trcrs = {}\n",
    "    trcrs['nc']=ccl.NumberCountsTracer(cosmo_cls,has_rsd=False,dndz=(z,z_h),bias=(z,bz))\n",
    "    trcrs['cmbl']=ccl.CMBLensingTracer(cosmo_cls,1100.)\n",
    "\n",
    "    #CCL Power spectra\n",
    "    cl_ccl = {}\n",
    "    cl_ccl['nk']=ccl.angular_cl(cosmo_cls,trcrs['nc'],trcrs['cmbl'],ell)\n",
    "    cl_ccl['nn']=ccl.angular_cl(cosmo_cls,trcrs['nc'],trcrs['nc'],ell)\n",
    "    cl_ccl['kk']=ccl.angular_cl(cosmo_cls,trcrs['cmbl'],trcrs['cmbl'],ell)\n",
    "\n",
    "    return cl_ccl\n"
   ]
  },
  {
   "cell_type": "code",
   "execution_count": 5,
   "metadata": {},
   "outputs": [],
   "source": [
    "#load z and nz\n",
    "z = np.loadtxt('z.txt')\n",
    "zn = np.loadtxt('zn.txt')"
   ]
  },
  {
   "cell_type": "code",
   "execution_count": 6,
   "metadata": {},
   "outputs": [],
   "source": [
    "#load and generate tracer noise\n",
    "\n",
    "cmb_noise_smth = np.loadtxt('full_noise.txt')[2:nside*4+1]\n",
    "#cmb_noise_smth = np.interp(ell_bins[:-1], ell, cmb_noise)\n",
    "\n",
    "d2r=np.pi/180\n",
    "Ngal = 1.03 #arc_min^2\n",
    "sigma_e=.0097\n",
    "b = 1.0*np.ones(len(z)) #Galaxy bias (constant with scale and z)\n",
    "AI = .5*np.ones(len(z)) #Galaxy bias (constant with scale and z)\n",
    "Ngal=Ngal*3600/d2r**2\n",
    "\n",
    "NN_noise = 1./Ngal"
   ]
  },
  {
   "cell_type": "code",
   "execution_count": 7,
   "metadata": {},
   "outputs": [],
   "source": [
    "#get correlations\n",
    "cl_ccl = correlation(z, zn)\n",
    "cl_nn_tt = cl_ccl['nn'] + NN_noise\n",
    "cl_nk_te = cl_ccl['nk']\n",
    "cl_nk_tb = 0*cl_ccl['nk']\n",
    "cl_kk_ee = cl_ccl['kk'] + cmb_noise_smth\n",
    "cl_kk_eb = 0*cl_ccl['kk']\n",
    "cl_kk_bb = 0*cl_ccl['kk']"
   ]
  },
  {
   "cell_type": "markdown",
   "metadata": {},
   "source": [
    "##### This is where I'm not sure"
   ]
  },
  {
   "cell_type": "code",
   "execution_count": 8,
   "metadata": {},
   "outputs": [],
   "source": [
    "def get_sample_field():\n",
    "    mp_t, mp_q, mp_u = hp.synfast([cl_nn_tt, cl_kk_ee, cl_kk_bb, cl_nk_te],\n",
    "                                  nside, verbose=False)\n",
    "    return nmt.NmtField(mask, [mp_t]), nmt.NmtField(mask, [mp_q, mp_u])\n",
    "\n",
    "\n",
    "# We also copy this function from sample_workspaces.py. It computes\n",
    "# power spectra given a pair of fields and a workspace.\n",
    "def compute_master(f_a, f_b, wsp):\n",
    "    cl_coupled = nmt.compute_coupled_cell(f_a, f_b)\n",
    "    cl_decoupled = wsp.decouple_cell(cl_coupled)\n",
    "\n",
    "    return cl_decoupled"
   ]
  },
  {
   "cell_type": "code",
   "execution_count": 9,
   "metadata": {},
   "outputs": [
    {
     "name": "stdout",
     "output_type": "stream",
     "text": [
      "Field\n"
     ]
    }
   ],
   "source": [
    "print(\"Field\")\n",
    "f0, f2 = get_sample_field()\n"
   ]
  },
  {
   "cell_type": "code",
   "execution_count": 10,
   "metadata": {},
   "outputs": [],
   "source": [
    "# generate bandpowers and weights based on ell \n",
    "\n",
    "bpws = np.digitize(ell, ell_bins)-1\n",
    "bpws[-1] = -1\n",
    "\n",
    "\n",
    "weights = []\n",
    "for i in range(0, max(bpws)+2):\n",
    "    count = np.count_nonzero(bpws == i)\n",
    "    for j in range (0, count):\n",
    "        weights.append(1./count)\n",
    "weights.append(1)\n",
    "weights = np.array(weights)"
   ]
  },
  {
   "cell_type": "markdown",
   "metadata": {},
   "source": [
    "##### I basically follows namaster steps in the following cells"
   ]
  },
  {
   "cell_type": "code",
   "execution_count": 11,
   "metadata": {},
   "outputs": [
    {
     "name": "stdout",
     "output_type": "stream",
     "text": [
      "Workspace\n"
     ]
    }
   ],
   "source": [
    "b = nmt.NmtBin(nside=nside, ells=ell, bpws=bpws, weights=weights)\n",
    "print(\"Workspace\")\n",
    "w00 = nmt.NmtWorkspace()\n",
    "w00.compute_coupling_matrix(f0, f0, b)\n",
    "w02 = nmt.NmtWorkspace()\n",
    "w02.compute_coupling_matrix(f0, f2, b)\n",
    "w22 = nmt.NmtWorkspace()\n",
    "w22.compute_coupling_matrix(f2, f2, b)\n",
    "cl_00 = compute_master(f0, f0, w00)\n",
    "cl_02 = compute_master(f0, f2, w02)\n",
    "cl_22 = compute_master(f2, f2, w22)\n",
    "n_ell = len(cl_00[0])"
   ]
  },
  {
   "cell_type": "code",
   "execution_count": 12,
   "metadata": {},
   "outputs": [
    {
     "name": "stdout",
     "output_type": "stream",
     "text": [
      "Covariance\n"
     ]
    }
   ],
   "source": [
    "print(\"Covariance\")\n",
    "# First we generate a NmtCovarianceWorkspace object to precompute\n",
    "# and store the necessary coupling coefficients\n",
    "cw = nmt.NmtCovarianceWorkspace()\n",
    "# This is the time-consuming operation\n",
    "# Note that you only need to do this once,\n",
    "# regardless of spin\n",
    "cw.compute_coupling_coefficients(f0, f0, f0, f0)"
   ]
  },
  {
   "cell_type": "code",
   "execution_count": 13,
   "metadata": {},
   "outputs": [
    {
     "name": "stdout",
     "output_type": "stream",
     "text": [
      "(75, 2, 75, 2)\n"
     ]
    }
   ],
   "source": [
    "covar_02_02 = nmt.gaussian_covariance(cw, 0, 2, 0, 2,  # Spins of the 4 fields\n",
    "                                      [cl_nn_tt],  # TT    cla1b1\n",
    "                                      [cl_nk_te, cl_nk_tb],  # TE, TB cla1b2   \n",
    "                                      [cl_nk_te, cl_nk_tb],  # ET, BT cla2b1\n",
    "                                      [cl_kk_ee, cl_kk_eb,\n",
    "                                       cl_kk_eb, cl_kk_bb],  # EE, EB, BE, BB cla2b2    \n",
    "                                                       # \"2\" is a spin-2 field and has two components\n",
    "                                      w02, wb=w02).reshape([n_ell, 2,\n",
    "                                                            n_ell, 2])\n",
    "\n",
    "\n",
    "covar_TE_TE = covar_02_02[:, 0, :, 0]\n",
    "print(np.shape(covar_02_02))"
   ]
  },
  {
   "cell_type": "code",
   "execution_count": 14,
   "metadata": {},
   "outputs": [],
   "source": [
    "# Wigner transform, from TJPcov\n",
    "tracer_comb1 = ['gc0','ck']\n",
    "tracer_comb2 = ['gc0','ck']\n",
    "\n",
    "WT_factors={}\n",
    "WT_factors['ck','wl']=(0,2)\n",
    "WT_factors['wl','ck']=(2,0)\n",
    "WT_factors['gc','ck']=(0,0)\n",
    "WT_factors['ck','gc']=(0,0)\n",
    "\n",
    "\n",
    "def get_cov_WT_spin(tracer_comb=None):\n",
    "#     tracers=tuple(i.split('_')[0] for i in tracer_comb)\n",
    "    tracers=[]\n",
    "    for i in tracer_comb:\n",
    "        if 'ck' in i:\n",
    "            tracers+=['ck']\n",
    "        if 'wl' in i:\n",
    "            tracers+=['wl']\n",
    "        if 'gc' in i:\n",
    "            tracers += ['gc'] \n",
    "    return WT_factors[tuple(tracers)]\n",
    "\n",
    "\n",
    "\n",
    "th_min=1/60 # in degrees\n",
    "th_max=300./60\n",
    "n_th_bins=20\n",
    "th_bins=np.logspace(np.log10(2.5/60.),np.log10(250./60.),n_th_bins+1)\n",
    "th=np.logspace(np.log10(th_min),np.log10(th_max),3000) #covariance is oversampled at th values and then binned.\n",
    "th2=np.linspace(1,th_max*1.02,3000) #binned covariance can be sensitive to the th values. Make sue you check convergence for your application\n",
    "th=np.unique(np.sort(np.append(th,th2)))\n",
    "thb=0.5*(th_bins[1:]+th_bins[:-1])\n",
    "ell_wtf = ell_bins[:-1]\n",
    "# Wigner Transform setup... \n",
    "WT_kwargs={'l': ell_wtf,\n",
    "           'theta': th*d2r,'s1_s2':[(0,2),(2,0),(0,0)]}\n",
    "WT=wigner_transform(**WT_kwargs)\n",
    "\n",
    "fsky = 445./(4*np.pi*((180.**2)/(np.pi**2)))\n",
    "norm=np.pi*4*fsky\n",
    "covar_TE_TE = covar_TE_TE/norm\n",
    "\n",
    "s1_s2_1=get_cov_WT_spin(tracer_comb=tracer_comb1)\n",
    "s1_s2_2=get_cov_WT_spin(tracer_comb=tracer_comb2)\n",
    "if isinstance(s1_s2_1,dict):\n",
    "    s1_s2_1=s1_s2_1[xi_plus_minus1] \n",
    "if isinstance(s1_s2_2,dict):\n",
    "    s1_s2_2=s1_s2_2[xi_plus_minus2] \n",
    "th,cov_=WT.projected_covariance2(l_cl=ell_wtf,s1_s2=s1_s2_1, s1_s2_cross=s1_s2_2,\n",
    "                                              cl_cov=covar_TE_TE)\n",
    "\n",
    "\n",
    "thb,cov=bin_cov(r=th/d2r,r_bins=th_bins,cov=cov_) \n"
   ]
  },
  {
   "cell_type": "code",
   "execution_count": 15,
   "metadata": {},
   "outputs": [
    {
     "data": {
      "text/plain": [
       "<matplotlib.image.AxesImage at 0x2aaaafd4d250>"
      ]
     },
     "execution_count": 15,
     "metadata": {},
     "output_type": "execute_result"
    },
    {
     "data": {
      "image/png": "[encoded data removed]",
      "text/plain": [
       "<Figure size 432x288 with 1 Axes>"
      ]
     },
     "metadata": {
      "needs_background": "light"
     },
     "output_type": "display_data"
    }
   ],
   "source": [
    "plt.imshow(cov)"
   ]
  },
  {
   "cell_type": "code",
   "execution_count": null,
   "metadata": {},
   "outputs": [],
   "source": []
  }
 ],
 "metadata": {
  "kernelspec": {
   "display_name": "desc-python",
   "language": "python",
   "name": "desc-python"
  },
  "language_info": {
   "codemirror_mode": {
    "name": "ipython",
    "version": 3
   },
   "file_extension": ".py",
   "mimetype": "text/x-python",
   "name": "python",
   "nbconvert_exporter": "python",
   "pygments_lexer": "ipython3",
   "version": "3.7.6"
  }
 },
 "nbformat": 4,
 "nbformat_minor": 4
}
