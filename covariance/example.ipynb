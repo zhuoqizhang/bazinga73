{
 "cells": [
  {
   "cell_type": "markdown",
   "metadata": {},
   "source": [
    "## Analytical Covariance \n",
    "\n",
    "We tried to calculate analytical covariance for NK and GK using TJPCov. \\\n",
    "In this example, we tried to calcualte covariance of NK and GK of the same bin. Specically, we did NK and GK for 0.8 < z < 1.0. The corresponding tracers are in test.sacc file. "
   ]
  },
  {
   "cell_type": "code",
   "execution_count": 1,
   "metadata": {},
   "outputs": [],
   "source": [
    "import numpy as np\n",
    "import matplotlib.pyplot as plt\n",
    "import pyccl as ccl\n",
    "import sacc\n",
    "import sys\n",
    "sys.path.insert(0, '/global/u1/z/zhzhuoqi/tjpcov/TJPCov')\n",
    "sys.path.insert(0, '/global/u1/z/zhzhuoqi/firecrown/firecrown/')\n",
    "sys.path.insert(0, '/global/homes/z/zhzhuoqi/.conda/envs/my-conda-env/lib/python3.8/site-packages/')\n",
    "from tjpcov import wigner_transform, bin_cov, parse\n",
    "d2r=np.pi/180"
   ]
  },
  {
   "cell_type": "code",
   "execution_count": 2,
   "metadata": {},
   "outputs": [],
   "source": [
    "#this is the cosmology I use. \n",
    "cosmo = ccl.Cosmology(Omega_k=0.0, Omega_g=0.0, w0=-1.0, wa=0.0, T_CMB=2.7,\n",
    "                      Neff=0, m_nu=0.0, transfer_function='bbks', mass_function='tinker',\n",
    "                      Omega_b=0.045, Omega_c=0.21, h=0.71, sigma8=0.80, n_s=0.964)"
   ]
  },
  {
   "cell_type": "code",
   "execution_count": 3,
   "metadata": {},
   "outputs": [],
   "source": [
    "twopoint_data = sacc.Sacc.load_fits('test.sacc')"
   ]
  },
  {
   "cell_type": "markdown",
   "metadata": {},
   "source": [
    "#### Here we generate the CMB tracer noise. "
   ]
  },
  {
   "cell_type": "markdown",
   "metadata": {},
   "source": [
    "This is a smoothing function, used to smooth the truncated cmb noise."
   ]
  },
  {
   "cell_type": "code",
   "execution_count": 4,
   "metadata": {
    "jupyter": {
     "source_hidden": true
    }
   },
   "outputs": [],
   "source": [
    "def smooth(x,window_len=11,window='hanning'):\n",
    "    \"\"\"smooth the data using a window with requested size.\n",
    "    \n",
    "    This method is based on the convolution of a scaled window with the signal.\n",
    "    The signal is prepared by introducing reflected copies of the signal \n",
    "    (with the window size) in both ends so that transient parts are minimized\n",
    "    in the begining and end part of the output signal.\n",
    "    \n",
    "    input:\n",
    "        x: the input signal \n",
    "        window_len: the dimension of the smoothing window; should be an odd integer\n",
    "        window: the type of window from 'flat', 'hanning', 'hamming', 'bartlett', 'blackman'\n",
    "            flat window will produce a moving average smoothing.\n",
    "\n",
    "    output:\n",
    "        the smoothed signal\n",
    "        \n",
    "    example:\n",
    "\n",
    "    t=linspace(-2,2,0.1)\n",
    "    x=sin(t)+randn(len(t))*0.1\n",
    "    y=smooth(x)\n",
    "    \n",
    "    see also: \n",
    "    \n",
    "    numpy.hanning, numpy.hamming, numpy.bartlett, numpy.blackman, numpy.convolve\n",
    "    scipy.signal.lfilter\n",
    " \n",
    "    TODO: the window parameter could be the window itself if an array instead of a string\n",
    "    NOTE: length(output) != length(input), to correct this: return y[(window_len/2-1):-(window_len/2)] instead of just y.\n",
    "    \"\"\"\n",
    "\n",
    "    if x.ndim != 1:\n",
    "        raise (ValueError, \"smooth only accepts 1 dimension arrays.\")\n",
    "\n",
    "    if x.size < window_len:\n",
    "        raise (ValueError, \"Input vector needs to be bigger than window size.\")\n",
    "\n",
    "\n",
    "    if window_len<3:\n",
    "        return x\n",
    "\n",
    "\n",
    "    if not window in ['flat', 'hanning', 'hamming', 'bartlett', 'blackman']:\n",
    "        raise (ValueError, \"Window is on of 'flat', 'hanning', 'hamming', 'bartlett', 'blackman'\")\n",
    "\n",
    "\n",
    "    s=np.r_[x[window_len-1:0:-1],x,x[-2:-window_len-1:-1]]\n",
    "    #print(len(s))\n",
    "    if window == 'flat': #moving average\n",
    "        w=np.ones(window_len,'d')\n",
    "    else:\n",
    "        w=eval('numpy.'+window+'(window_len)')\n",
    "\n",
    "    y=np.convolve(w/w.sum(),s,mode='valid')\n",
    "    return y"
   ]
  },
  {
   "cell_type": "markdown",
   "metadata": {},
   "source": [
    "Here we generate the cmb tracer noise. We only have up to l=3000 in the noise spectrum. So we set the noise for l>3000 as the value for l=3000 and smooth it a little bit. "
   ]
  },
  {
   "cell_type": "code",
   "execution_count": 5,
   "metadata": {},
   "outputs": [],
   "source": [
    "noise = np.loadtxt('noise.txt')\n",
    "noise = noise[0:3001]\n",
    "l = np.linspace(0,3000,3001)\n",
    "ell = np.concatenate((np.linspace(2, 500-1, 500-2), np.logspace(np.log10(500), np.log10(6e4), 500)))\n",
    "ell_mask = ell<3001\n",
    "cmb_noise = np.interp(ell[ell_mask], l, noise)\n",
    "tail = np.zeros(len(ell)-len(cmb_noise))+cmb_noise[-1]\n",
    "cmb_noise = np.concatenate((cmb_noise, tail), axis=None)"
   ]
  },
  {
   "cell_type": "code",
   "execution_count": 6,
   "metadata": {},
   "outputs": [
    {
     "data": {
      "text/plain": [
       "Text(0, 0.5, 'noise power spec')"
      ]
     },
     "execution_count": 6,
     "metadata": {},
     "output_type": "execute_result"
    },
    {
     "data": {
      "image/png": "[encoded data removed]",
      "text/plain": [
       "<Figure size 432x288 with 1 Axes>"
      ]
     },
     "metadata": {
      "needs_background": "light"
     },
     "output_type": "display_data"
    }
   ],
   "source": [
    "# We plot the noise power spectrum used for cmb tracer noise\n",
    "cmb_noise_smth = smooth(cmb_noise,10,'flat')\n",
    "cmb_noise_smth = cmb_noise_smth[0:len(cmb_noise)]\n",
    "plt.plot(ell,cmb_noise_smth, label='smooth')\n",
    "plt.xscale('log')\n",
    "plt.xlabel('ell')\n",
    "plt.ylabel('noise power spec')"
   ]
  },
  {
   "cell_type": "markdown",
   "metadata": {},
   "source": [
    "### From here on, we basically follow the example on TJPCov GitHub\n",
    "The example is here: https://github.com/LSSTDESC/TJPCov/blob/master/examples/Gaussian_cov-DES.ipynb \\\n",
    "But we have to modify the code a little bit to include CMB lensing tracers."
   ]
  },
  {
   "cell_type": "code",
   "execution_count": 7,
   "metadata": {},
   "outputs": [],
   "source": [
    "# We set up the basics for analytical covariance\n",
    "twopoint_data.metadata['fsky']=445./(4*np.pi*((180.**2)/(np.pi**2)))\n",
    "twopoint_data.metadata['ell']=np.concatenate((np.linspace(2, 500-1, 500-2), np.logspace(np.log10(500), np.log10(6e4), 500)))\n",
    "twopoint_data.metadata['ell_bins']=np.arange(2,500,20)\n",
    "th_min=1/60 # in degrees\n",
    "th_max=300./60\n",
    "n_th_bins=20\n",
    "twopoint_data.metadata['th_bins']=np.logspace(np.log10(2.5/60.),np.log10(250./60.),n_th_bins+1)\n",
    "th=np.logspace(np.log10(th_min),np.log10(th_max),3000) #covariance is oversampled at th values and then binned.\n",
    "th2=np.linspace(1,th_max*1.02,3000) #binned covariance can be sensitive to the th values. Make sue you check convergence for your application\n",
    "twopoint_data.metadata['th']=np.unique(np.sort(np.append(th,th2)))\n",
    "thb=0.5*(twopoint_data.metadata['th_bins'][1:]+twopoint_data.metadata['th_bins'][:-1])"
   ]
  },
  {
   "cell_type": "code",
   "execution_count": 8,
   "metadata": {},
   "outputs": [],
   "source": [
    "WT_factors={}\n",
    "WT_factors['ck','wl']=(0,2)\n",
    "WT_factors['wl','ck']=(2,0)\n",
    "WT_factors['gc','ck']=(0,0)\n",
    "WT_factors['ck','gc']=(0,0)"
   ]
  },
  {
   "cell_type": "code",
   "execution_count": 9,
   "metadata": {},
   "outputs": [
    {
     "name": "stdout",
     "output_type": "stream",
     "text": [
      "CPU times: user 577 ms, sys: 2.59 s, total: 3.17 s\n",
      "Wall time: 39 s\n"
     ]
    }
   ],
   "source": [
    "# Wigner Transform setup... \n",
    "WT_kwargs={'l': twopoint_data.metadata['ell'],'theta': twopoint_data.metadata['th']*d2r,'s1_s2':[(0,2),(2,0),(0,0)]}\n",
    "%time WT=wigner_transform(**WT_kwargs)"
   ]
  },
  {
   "cell_type": "code",
   "execution_count": 10,
   "metadata": {},
   "outputs": [],
   "source": [
    "def get_tracer_info(two_point_data={}):\n",
    "    ccl_tracers={}\n",
    "    tracer_Noise={}\n",
    "    for tracer in twopoint_data.tracers:\n",
    "        \n",
    "        if tracer != 'ck':\n",
    "            tracer_dat=twopoint_data.get_tracer(tracer)\n",
    "            z= tracer_dat.z\n",
    "            \n",
    "            Ngal = 0.053 #arc_min^2\n",
    "            sigma_e=.0097\n",
    "            b = 1.0*np.ones(len(z)) #Galaxy bias (constant with scale and z)\n",
    "            AI = .5*np.ones(len(z)) #Galaxy bias (constant with scale and z)\n",
    "            Ngal=Ngal*3600/d2r**2\n",
    "            \n",
    "            dNdz = tracer_dat.nz\n",
    "            dNdz/=(dNdz*np.gradient(z)).sum()\n",
    "            dNdz*=Ngal\n",
    "            \n",
    "        \n",
    "            if 'wl' in tracer or 'wl' in tracer:  \n",
    "                ccl_tracers[tracer]=ccl.WeakLensingTracer(cosmo, dndz=(z, dNdz),ia_bias=(z,AI)) #CCL automatically normalizes dNdz\n",
    "                tracer_Noise[tracer]=sigma_e**2/Ngal\n",
    "            elif 'gc' in tracer:\n",
    "                tracer_Noise[tracer]=1./Ngal\n",
    "                ccl_tracers[tracer]=ccl.NumberCountsTracer(cosmo, has_rsd=False, dndz=(z,dNdz), bias=(z,b))\n",
    "                \n",
    "################### this is the part where we have to do a little modification to include CMB lensing tracer noise #########################       \n",
    "        else: \n",
    "            ccl_tracers[tracer]=ccl.CMBLensingTracer(cosmo,1100.)\n",
    "            tracer_Noise[tracer]=cmb_noise_smth \n",
    "    return ccl_tracers,tracer_Noise"
   ]
  },
  {
   "cell_type": "code",
   "execution_count": 11,
   "metadata": {},
   "outputs": [],
   "source": [
    "ccl_tracers, tracer_Noise = get_tracer_info(twopoint_data)"
   ]
  },
  {
   "cell_type": "code",
   "execution_count": 12,
   "metadata": {},
   "outputs": [],
   "source": [
    "def get_cov_WT_spin(tracer_comb=None):\n",
    "#     tracers=tuple(i.split('_')[0] for i in tracer_comb)\n",
    "    tracers=[]\n",
    "    for i in tracer_comb:\n",
    "        if 'ck' in i:\n",
    "            tracers+=['ck']\n",
    "        if 'wl' in i:\n",
    "            tracers+=['wl']\n",
    "        if 'gc' in i:\n",
    "            tracers += ['gc'] \n",
    "    return WT_factors[tuple(tracers)]"
   ]
  },
  {
   "cell_type": "code",
   "execution_count": 13,
   "metadata": {},
   "outputs": [],
   "source": [
    "#compute a single covariance matrix for a given pair of C_ell or xi.  \n",
    "def cl_gaussian_cov(tracer_comb1=None,tracer_comb2=None,ccl_tracers=None,tracer_Noise=None,two_point_data=None,do_xi=False,\n",
    "                    xi_plus_minus1='plus',xi_plus_minus2='plus'):  \n",
    "    #fsky should be read from the sacc\n",
    "    #tracers 1,2,3,4=tracer_comb1[0],tracer_comb1[1],tracer_comb2[0],tracer_comb2[1]\n",
    "    ell=two_point_data.metadata['ell']\n",
    "    cl={}\n",
    "    cl[13] = ccl.angular_cl(cosmo, ccl_tracers[tracer_comb1[0]], ccl_tracers[tracer_comb2[0]], ell)\n",
    "    cl[24] = ccl.angular_cl(cosmo, ccl_tracers[tracer_comb1[1]], ccl_tracers[tracer_comb2[1]], ell)\n",
    "    cl[14] = ccl.angular_cl(cosmo, ccl_tracers[tracer_comb1[0]], ccl_tracers[tracer_comb2[1]], ell)\n",
    "    cl[23] = ccl.angular_cl(cosmo, ccl_tracers[tracer_comb1[1]], ccl_tracers[tracer_comb2[0]], ell)\n",
    "    \n",
    "    SN={}\n",
    "    SN[13]=tracer_Noise[tracer_comb1[0]] if tracer_comb1[0]==tracer_comb2[0]  else 0\n",
    "    SN[24]=tracer_Noise[tracer_comb1[1]] if tracer_comb1[1]==tracer_comb2[1]  else 0\n",
    "    SN[14]=tracer_Noise[tracer_comb1[0]] if tracer_comb1[0]==tracer_comb2[1]  else 0\n",
    "    SN[23]=tracer_Noise[tracer_comb1[1]] if tracer_comb1[1]==tracer_comb2[0]  else 0\n",
    "    \n",
    "    if do_xi:\n",
    "        norm=np.pi*4*two_point_data.metadata['fsky']\n",
    "    else: #do c_ell\n",
    "        norm=(2*ell+1)*np.gradient(ell)*two_point_data.metadata['fsky']\n",
    "\n",
    "    coupling_mat={}\n",
    "    coupling_mat[1324]=np.eye(len(ell)) #placeholder\n",
    "    coupling_mat[1423]=np.eye(len(ell)) #placeholder\n",
    "    \n",
    "    cov={}\n",
    "    cov[1324]=np.outer(cl[13]+SN[13],cl[24]+SN[24])*coupling_mat[1324]\n",
    "    cov[1423]=np.outer(cl[14]+SN[14],cl[23]+SN[23])*coupling_mat[1423]\n",
    "    \n",
    "    cov['final']=cov[1423]+cov[1324]\n",
    "    \n",
    "    if do_xi:\n",
    "        s1_s2_1=get_cov_WT_spin(tracer_comb=tracer_comb1)\n",
    "        s1_s2_2=get_cov_WT_spin(tracer_comb=tracer_comb2)\n",
    "        if isinstance(s1_s2_1,dict):\n",
    "            s1_s2_1=s1_s2_1[xi_plus_minus1] \n",
    "        if isinstance(s1_s2_2,dict):\n",
    "            s1_s2_2=s1_s2_2[xi_plus_minus2] \n",
    "        th,cov['final']=WT.projected_covariance2(l_cl=ell,s1_s2=s1_s2_1, s1_s2_cross=s1_s2_2,\n",
    "                                                      cl_cov=cov['final'])\n",
    "\n",
    "    cov['final']/=norm\n",
    "    \n",
    "    if do_xi:\n",
    "        thb,cov['final_b']=bin_cov(r=th/d2r,r_bins=two_point_data.metadata['th_bins'],cov=cov['final']) \n",
    "    else:\n",
    "        if two_point_data.metadata['ell_bins'] is not None:\n",
    "            lb,cov['final_b']=bin_cov(r=ell,r_bins=two_point_data.metadata['ell_bins'],cov=cov['final']) \n",
    "            \n",
    "#     cov[1324]=None #if want to save memory\n",
    "#     cov[1423]=None #if want to save memory\n",
    "    return cov"
   ]
  },
  {
   "cell_type": "code",
   "execution_count": 14,
   "metadata": {},
   "outputs": [],
   "source": [
    "tracer_comb1 = ['gc0', 'ck']\n",
    "tracer_comb2 = ['wl0', 'ck']"
   ]
  },
  {
   "cell_type": "code",
   "execution_count": 15,
   "metadata": {},
   "outputs": [],
   "source": [
    "cov = cl_gaussian_cov(tracer_comb1=tracer_comb1,tracer_comb2=tracer_comb2,\n",
    "                ccl_tracers=ccl_tracers,tracer_Noise=tracer_Noise,\n",
    "                two_point_data=twopoint_data,do_xi=True,\n",
    "                    xi_plus_minus1='plus',xi_plus_minus2='plus')"
   ]
  },
  {
   "cell_type": "code",
   "execution_count": 16,
   "metadata": {},
   "outputs": [],
   "source": [
    "def get_all_cov(two_point_data={},do_xi=True):\n",
    "    #FIXME: Only input needed should be two_point_data, which is the sacc data file. Other parameters should be included within sacc and read from there.\n",
    "    ccl_tracers,tracer_Noise=get_tracer_info(two_point_data=two_point_data)\n",
    "    tracer_combs=two_point_data.get_tracer_combinations()# we will loop over all these\n",
    "    N2pt=len(tracer_combs)\n",
    "    if two_point_data.metadata['ell_bins'] is not None:\n",
    "        Nell_bins=len(two_point_data.metadata['ell_bins'])-1\n",
    "    else:\n",
    "        Nell_bins=len(two_point_data.metadata['ell'])\n",
    "    if do_xi:\n",
    "        Nell_bins=len(two_point_data.metadata['th_bins'])-1\n",
    "    cov_full=np.zeros((Nell_bins*N2pt,Nell_bins*N2pt))\n",
    "    for i in np.arange(N2pt):\n",
    "        print(\"{}/{}\".format(i+1, N2pt))\n",
    "        tracer_comb1=tracer_combs[i]\n",
    "        indx_i=i*Nell_bins\n",
    "        for j in np.arange(i,N2pt):\n",
    "            tracer_comb2=tracer_combs[j]\n",
    "            indx_j=j*Nell_bins\n",
    "            cov_ij=cl_gaussian_cov(tracer_comb1=tracer_comb1,tracer_comb2=tracer_comb2,ccl_tracers=ccl_tracers,\n",
    "                                        tracer_Noise=tracer_Noise,do_xi=do_xi,two_point_data=two_point_data)\n",
    "            if do_xi or two_point_data.metadata['ell_bins'] is not None:\n",
    "                cov_ij=cov_ij['final_b']\n",
    "            else:\n",
    "                cov_ij=cov_ij['final']\n",
    "            cov_full[indx_i:indx_i+Nell_bins,indx_j:indx_j+Nell_bins]=cov_ij\n",
    "            cov_full[indx_j:indx_j+Nell_bins,indx_i:indx_i+Nell_bins]=cov_ij.T\n",
    "    return cov_full"
   ]
  },
  {
   "cell_type": "code",
   "execution_count": 17,
   "metadata": {},
   "outputs": [
    {
     "name": "stdout",
     "output_type": "stream",
     "text": [
      "1/2\n",
      "2/2\n"
     ]
    }
   ],
   "source": [
    "cov = get_all_cov(two_point_data=twopoint_data, do_xi=True)"
   ]
  },
  {
   "cell_type": "markdown",
   "metadata": {},
   "source": [
    "### Here we show some results\n",
    "This is the covariance matrix, looking weird probably because we set the l>3000 noise the same as l=3000, whereas in reality it should be much smaller than that."
   ]
  },
  {
   "cell_type": "code",
   "execution_count": 18,
   "metadata": {},
   "outputs": [
    {
     "data": {
      "text/plain": [
       "<matplotlib.colorbar.Colorbar at 0x2aaaaf724310>"
      ]
     },
     "execution_count": 18,
     "metadata": {},
     "output_type": "execute_result"
    },
    {
     "data": {
      "image/png": "[encoded data removed]",
      "text/plain": [
       "<Figure size 432x288 with 2 Axes>"
      ]
     },
     "metadata": {
      "needs_background": "light"
     },
     "output_type": "display_data"
    }
   ],
   "source": [
    "plt.imshow(cov[:])\n",
    "plt.colorbar()"
   ]
  },
  {
   "cell_type": "markdown",
   "metadata": {},
   "source": [
    "##### Loading the covariance matrices calculated by jackknife"
   ]
  },
  {
   "cell_type": "code",
   "execution_count": 19,
   "metadata": {},
   "outputs": [],
   "source": [
    "NKcov = np.loadtxt('/global/u1/z/zhzhuoqi/MCMC/map1/80-100/NK/cov.txt')\n",
    "GKcov = np.loadtxt('/global/u1/z/zhzhuoqi/MCMC/map1/80-100/GK/cov.txt')\n",
    "theta_deg = np.loadtxt('/global/u1/z/zhzhuoqi/MCMC/map1/80-100/GK/theta_deg.txt')"
   ]
  },
  {
   "cell_type": "code",
   "execution_count": 20,
   "metadata": {},
   "outputs": [
    {
     "data": {
      "text/plain": [
       "<matplotlib.colorbar.Colorbar at 0x2aaaafde6650>"
      ]
     },
     "execution_count": 20,
     "metadata": {},
     "output_type": "execute_result"
    },
    {
     "data": {
      "image/png": "[encoded data removed]",
      "text/plain": [
       "<Figure size 432x288 with 2 Axes>"
      ]
     },
     "metadata": {
      "needs_background": "light"
     },
     "output_type": "display_data"
    }
   ],
   "source": [
    "# NK covariance from TJPCov\n",
    "plt.imshow(cov[0:20,0:20])\n",
    "plt.colorbar()"
   ]
  },
  {
   "cell_type": "code",
   "execution_count": 21,
   "metadata": {},
   "outputs": [
    {
     "data": {
      "text/plain": [
       "<matplotlib.colorbar.Colorbar at 0x2aab561751d0>"
      ]
     },
     "execution_count": 21,
     "metadata": {},
     "output_type": "execute_result"
    },
    {
     "data": {
      "image/png": "[encoded data removed]",
      "text/plain": [
       "<Figure size 432x288 with 2 Axes>"
      ]
     },
     "metadata": {
      "needs_background": "light"
     },
     "output_type": "display_data"
    }
   ],
   "source": [
    "# NK covariance from jackknife\n",
    "plt.imshow(NKcov)\n",
    "plt.colorbar()"
   ]
  },
  {
   "cell_type": "code",
   "execution_count": 22,
   "metadata": {},
   "outputs": [
    {
     "data": {
      "text/plain": [
       "<matplotlib.colorbar.Colorbar at 0x2aab56911110>"
      ]
     },
     "execution_count": 22,
     "metadata": {},
     "output_type": "execute_result"
    },
    {
     "data": {
      "image/png": "[encoded data removed]",
      "text/plain": [
       "<Figure size 432x288 with 2 Axes>"
      ]
     },
     "metadata": {
      "needs_background": "light"
     },
     "output_type": "display_data"
    }
   ],
   "source": [
    "# GK covariance from TJPCov\n",
    "plt.imshow(cov[20:,20:])\n",
    "plt.colorbar()"
   ]
  },
  {
   "cell_type": "code",
   "execution_count": 23,
   "metadata": {},
   "outputs": [
    {
     "data": {
      "text/plain": [
       "<matplotlib.colorbar.Colorbar at 0x2aab569bfad0>"
      ]
     },
     "execution_count": 23,
     "metadata": {},
     "output_type": "execute_result"
    },
    {
     "data": {
      "image/png": "[encoded data removed]",
      "text/plain": [
       "<Figure size 432x288 with 2 Axes>"
      ]
     },
     "metadata": {
      "needs_background": "light"
     },
     "output_type": "display_data"
    }
   ],
   "source": [
    "# GK covariance from jackknife\n",
    "plt.imshow(GKcov)\n",
    "plt.colorbar()"
   ]
  },
  {
   "cell_type": "code",
   "execution_count": 24,
   "metadata": {},
   "outputs": [
    {
     "data": {
      "text/plain": [
       "<matplotlib.colorbar.Colorbar at 0x2aab56a76190>"
      ]
     },
     "execution_count": 24,
     "metadata": {},
     "output_type": "execute_result"
    },
    {
     "data": {
      "image/png": "[encoded data removed]",
      "text/plain": [
       "<Figure size 432x288 with 2 Axes>"
      ]
     },
     "metadata": {
      "needs_background": "light"
     },
     "output_type": "display_data"
    }
   ],
   "source": [
    "# correlation matrxi from TJPCov\n",
    "err=np.sqrt(np.diag(cov))\n",
    "corr_m=cov/np.outer(err,err)\n",
    "plt.imshow(corr_m)\n",
    "plt.colorbar()"
   ]
  },
  {
   "cell_type": "code",
   "execution_count": null,
   "metadata": {},
   "outputs": [],
   "source": []
  }
 ],
 "metadata": {
  "kernelspec": {
   "display_name": "desc-python",
   "language": "python",
   "name": "desc-python"
  },
  "language_info": {
   "codemirror_mode": {
    "name": "ipython",
    "version": 3
   },
   "file_extension": ".py",
   "mimetype": "text/x-python",
   "name": "python",
   "nbconvert_exporter": "python",
   "pygments_lexer": "ipython3",
   "version": "3.7.6"
  }
 },
 "nbformat": 4,
 "nbformat_minor": 4
}
